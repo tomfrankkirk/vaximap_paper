{
 "cells": [
  {
   "cell_type": "markdown",
   "metadata": {},
   "source": [
    "# Vaximap EDA"
   ]
  },
  {
   "cell_type": "markdown",
   "metadata": {},
   "source": [
    "##  Table of Contents\n",
    "\n",
    "* [Initialisation](#Initialisation)\n",
    "* [Load Dataset](#Load-Dataset)\n",
    "* [Duplicate Analysis](#Duplicate-Analysis)\n",
    "* [Exploratory Data Analysis](#Exploratory-Data-Analysis)\n",
    "* [Assessing Patient Clustering](#Assessing-Patient-Clustering)\n",
    "* [Appendix](#Appendix)"
   ]
  },
  {
   "cell_type": "markdown",
   "metadata": {},
   "source": [
    "## Initialisation"
   ]
  },
  {
   "cell_type": "code",
   "execution_count": 301,
   "metadata": {},
   "outputs": [],
   "source": [
    "'------------Import Modules------------'\n",
    "import warnings\n",
    "warnings.filterwarnings('ignore')\n",
    "\n",
    "# DS Modules\n",
    "import random\n",
    "import datetime\n",
    "import pandas as pd\n",
    "import numpy as np\n",
    "import itertools\n",
    "\n",
    "# Visualisation\n",
    "import matplotlib.pyplot as plt\n",
    "from bokeh.plotting import figure, show\n",
    "from bokeh.io import output_notebook\n",
    "import seaborn as sns\n",
    "\n",
    "# Statistical Tests\n",
    "from scipy.stats import (normaltest, ttest_ind, chi2_contingency,\n",
    "                         chi2, cumfreq, norm, kstest, shapiro,\n",
    "                        percentileofscore)\n",
    "import statsmodels.api as sm\n",
    "\n",
    "# Clustering\n",
    "import hdbscan\n",
    "from sklearn.cluster import AgglomerativeClustering\n",
    "from sklearn.metrics.pairwise import haversine_distances\n",
    "from scipy.cluster.hierarchy import dendrogram\n",
    "\n",
    "# Import dataset\n",
    "from load_dataset import dataset\n",
    "\n",
    "# Import functions used in this notebook\n",
    "from vaximapFunctions import *\n",
    "\n",
    "# Import geolocation modules\n",
    "import geopandas\n",
    "from shapely.geometry import Polygon, Point, LineString\n",
    "\n",
    "# tqdm\n",
    "from tqdm import tqdm"
   ]
  },
  {
   "cell_type": "code",
   "execution_count": 2,
   "metadata": {},
   "outputs": [
    {
     "data": {
      "text/html": [
       "\n",
       "    <div class=\"bk-root\">\n",
       "        <a href=\"https://bokeh.org\" target=\"_blank\" class=\"bk-logo bk-logo-small bk-logo-notebook\"></a>\n",
       "        <span id=\"1002\">Loading BokehJS ...</span>\n",
       "    </div>"
      ]
     },
     "metadata": {},
     "output_type": "display_data"
    },
    {
     "data": {
      "application/javascript": [
       "\n",
       "(function(root) {\n",
       "  function now() {\n",
       "    return new Date();\n",
       "  }\n",
       "\n",
       "  var force = true;\n",
       "\n",
       "  if (typeof root._bokeh_onload_callbacks === \"undefined\" || force === true) {\n",
       "    root._bokeh_onload_callbacks = [];\n",
       "    root._bokeh_is_loading = undefined;\n",
       "  }\n",
       "\n",
       "  var JS_MIME_TYPE = 'application/javascript';\n",
       "  var HTML_MIME_TYPE = 'text/html';\n",
       "  var EXEC_MIME_TYPE = 'application/vnd.bokehjs_exec.v0+json';\n",
       "  var CLASS_NAME = 'output_bokeh rendered_html';\n",
       "\n",
       "  /**\n",
       "   * Render data to the DOM node\n",
       "   */\n",
       "  function render(props, node) {\n",
       "    var script = document.createElement(\"script\");\n",
       "    node.appendChild(script);\n",
       "  }\n",
       "\n",
       "  /**\n",
       "   * Handle when an output is cleared or removed\n",
       "   */\n",
       "  function handleClearOutput(event, handle) {\n",
       "    var cell = handle.cell;\n",
       "\n",
       "    var id = cell.output_area._bokeh_element_id;\n",
       "    var server_id = cell.output_area._bokeh_server_id;\n",
       "    // Clean up Bokeh references\n",
       "    if (id != null && id in Bokeh.index) {\n",
       "      Bokeh.index[id].model.document.clear();\n",
       "      delete Bokeh.index[id];\n",
       "    }\n",
       "\n",
       "    if (server_id !== undefined) {\n",
       "      // Clean up Bokeh references\n",
       "      var cmd = \"from bokeh.io.state import curstate; print(curstate().uuid_to_server['\" + server_id + \"'].get_sessions()[0].document.roots[0]._id)\";\n",
       "      cell.notebook.kernel.execute(cmd, {\n",
       "        iopub: {\n",
       "          output: function(msg) {\n",
       "            var id = msg.content.text.trim();\n",
       "            if (id in Bokeh.index) {\n",
       "              Bokeh.index[id].model.document.clear();\n",
       "              delete Bokeh.index[id];\n",
       "            }\n",
       "          }\n",
       "        }\n",
       "      });\n",
       "      // Destroy server and session\n",
       "      var cmd = \"import bokeh.io.notebook as ion; ion.destroy_server('\" + server_id + \"')\";\n",
       "      cell.notebook.kernel.execute(cmd);\n",
       "    }\n",
       "  }\n",
       "\n",
       "  /**\n",
       "   * Handle when a new output is added\n",
       "   */\n",
       "  function handleAddOutput(event, handle) {\n",
       "    var output_area = handle.output_area;\n",
       "    var output = handle.output;\n",
       "\n",
       "    // limit handleAddOutput to display_data with EXEC_MIME_TYPE content only\n",
       "    if ((output.output_type != \"display_data\") || (!Object.prototype.hasOwnProperty.call(output.data, EXEC_MIME_TYPE))) {\n",
       "      return\n",
       "    }\n",
       "\n",
       "    var toinsert = output_area.element.find(\".\" + CLASS_NAME.split(' ')[0]);\n",
       "\n",
       "    if (output.metadata[EXEC_MIME_TYPE][\"id\"] !== undefined) {\n",
       "      toinsert[toinsert.length - 1].firstChild.textContent = output.data[JS_MIME_TYPE];\n",
       "      // store reference to embed id on output_area\n",
       "      output_area._bokeh_element_id = output.metadata[EXEC_MIME_TYPE][\"id\"];\n",
       "    }\n",
       "    if (output.metadata[EXEC_MIME_TYPE][\"server_id\"] !== undefined) {\n",
       "      var bk_div = document.createElement(\"div\");\n",
       "      bk_div.innerHTML = output.data[HTML_MIME_TYPE];\n",
       "      var script_attrs = bk_div.children[0].attributes;\n",
       "      for (var i = 0; i < script_attrs.length; i++) {\n",
       "        toinsert[toinsert.length - 1].firstChild.setAttribute(script_attrs[i].name, script_attrs[i].value);\n",
       "        toinsert[toinsert.length - 1].firstChild.textContent = bk_div.children[0].textContent\n",
       "      }\n",
       "      // store reference to server id on output_area\n",
       "      output_area._bokeh_server_id = output.metadata[EXEC_MIME_TYPE][\"server_id\"];\n",
       "    }\n",
       "  }\n",
       "\n",
       "  function register_renderer(events, OutputArea) {\n",
       "\n",
       "    function append_mime(data, metadata, element) {\n",
       "      // create a DOM node to render to\n",
       "      var toinsert = this.create_output_subarea(\n",
       "        metadata,\n",
       "        CLASS_NAME,\n",
       "        EXEC_MIME_TYPE\n",
       "      );\n",
       "      this.keyboard_manager.register_events(toinsert);\n",
       "      // Render to node\n",
       "      var props = {data: data, metadata: metadata[EXEC_MIME_TYPE]};\n",
       "      render(props, toinsert[toinsert.length - 1]);\n",
       "      element.append(toinsert);\n",
       "      return toinsert\n",
       "    }\n",
       "\n",
       "    /* Handle when an output is cleared or removed */\n",
       "    events.on('clear_output.CodeCell', handleClearOutput);\n",
       "    events.on('delete.Cell', handleClearOutput);\n",
       "\n",
       "    /* Handle when a new output is added */\n",
       "    events.on('output_added.OutputArea', handleAddOutput);\n",
       "\n",
       "    /**\n",
       "     * Register the mime type and append_mime function with output_area\n",
       "     */\n",
       "    OutputArea.prototype.register_mime_type(EXEC_MIME_TYPE, append_mime, {\n",
       "      /* Is output safe? */\n",
       "      safe: true,\n",
       "      /* Index of renderer in `output_area.display_order` */\n",
       "      index: 0\n",
       "    });\n",
       "  }\n",
       "\n",
       "  // register the mime type if in Jupyter Notebook environment and previously unregistered\n",
       "  if (root.Jupyter !== undefined) {\n",
       "    var events = require('base/js/events');\n",
       "    var OutputArea = require('notebook/js/outputarea').OutputArea;\n",
       "\n",
       "    if (OutputArea.prototype.mime_types().indexOf(EXEC_MIME_TYPE) == -1) {\n",
       "      register_renderer(events, OutputArea);\n",
       "    }\n",
       "  }\n",
       "\n",
       "  \n",
       "  if (typeof (root._bokeh_timeout) === \"undefined\" || force === true) {\n",
       "    root._bokeh_timeout = Date.now() + 5000;\n",
       "    root._bokeh_failed_load = false;\n",
       "  }\n",
       "\n",
       "  var NB_LOAD_WARNING = {'data': {'text/html':\n",
       "     \"<div style='background-color: #fdd'>\\n\"+\n",
       "     \"<p>\\n\"+\n",
       "     \"BokehJS does not appear to have successfully loaded. If loading BokehJS from CDN, this \\n\"+\n",
       "     \"may be due to a slow or bad network connection. Possible fixes:\\n\"+\n",
       "     \"</p>\\n\"+\n",
       "     \"<ul>\\n\"+\n",
       "     \"<li>re-rerun `output_notebook()` to attempt to load from CDN again, or</li>\\n\"+\n",
       "     \"<li>use INLINE resources instead, as so:</li>\\n\"+\n",
       "     \"</ul>\\n\"+\n",
       "     \"<code>\\n\"+\n",
       "     \"from bokeh.resources import INLINE\\n\"+\n",
       "     \"output_notebook(resources=INLINE)\\n\"+\n",
       "     \"</code>\\n\"+\n",
       "     \"</div>\"}};\n",
       "\n",
       "  function display_loaded() {\n",
       "    var el = document.getElementById(\"1002\");\n",
       "    if (el != null) {\n",
       "      el.textContent = \"BokehJS is loading...\";\n",
       "    }\n",
       "    if (root.Bokeh !== undefined) {\n",
       "      if (el != null) {\n",
       "        el.textContent = \"BokehJS \" + root.Bokeh.version + \" successfully loaded.\";\n",
       "      }\n",
       "    } else if (Date.now() < root._bokeh_timeout) {\n",
       "      setTimeout(display_loaded, 100)\n",
       "    }\n",
       "  }\n",
       "\n",
       "\n",
       "  function run_callbacks() {\n",
       "    try {\n",
       "      root._bokeh_onload_callbacks.forEach(function(callback) {\n",
       "        if (callback != null)\n",
       "          callback();\n",
       "      });\n",
       "    } finally {\n",
       "      delete root._bokeh_onload_callbacks\n",
       "    }\n",
       "    console.debug(\"Bokeh: all callbacks have finished\");\n",
       "  }\n",
       "\n",
       "  function load_libs(css_urls, js_urls, callback) {\n",
       "    if (css_urls == null) css_urls = [];\n",
       "    if (js_urls == null) js_urls = [];\n",
       "\n",
       "    root._bokeh_onload_callbacks.push(callback);\n",
       "    if (root._bokeh_is_loading > 0) {\n",
       "      console.debug(\"Bokeh: BokehJS is being loaded, scheduling callback at\", now());\n",
       "      return null;\n",
       "    }\n",
       "    if (js_urls == null || js_urls.length === 0) {\n",
       "      run_callbacks();\n",
       "      return null;\n",
       "    }\n",
       "    console.debug(\"Bokeh: BokehJS not loaded, scheduling load and callback at\", now());\n",
       "    root._bokeh_is_loading = css_urls.length + js_urls.length;\n",
       "\n",
       "    function on_load() {\n",
       "      root._bokeh_is_loading--;\n",
       "      if (root._bokeh_is_loading === 0) {\n",
       "        console.debug(\"Bokeh: all BokehJS libraries/stylesheets loaded\");\n",
       "        run_callbacks()\n",
       "      }\n",
       "    }\n",
       "\n",
       "    function on_error(url) {\n",
       "      console.error(\"failed to load \" + url);\n",
       "    }\n",
       "\n",
       "    for (let i = 0; i < css_urls.length; i++) {\n",
       "      const url = css_urls[i];\n",
       "      const element = document.createElement(\"link\");\n",
       "      element.onload = on_load;\n",
       "      element.onerror = on_error.bind(null, url);\n",
       "      element.rel = \"stylesheet\";\n",
       "      element.type = \"text/css\";\n",
       "      element.href = url;\n",
       "      console.debug(\"Bokeh: injecting link tag for BokehJS stylesheet: \", url);\n",
       "      document.body.appendChild(element);\n",
       "    }\n",
       "\n",
       "    const hashes = {\"https://cdn.bokeh.org/bokeh/release/bokeh-2.3.3.min.js\": \"dM3QQsP+wXdHg42wTqW85BjZQdLNNIXqlPw/BgKoExPmTG7ZLML4EGqLMfqHT6ON\", \"https://cdn.bokeh.org/bokeh/release/bokeh-tables-2.3.3.min.js\": \"8x57I4YuIfu8XyZfFo0XVr2WAT8EK4rh/uDe3wF7YuW2FNUSNEpJbsPaB1nJ2fz2\", \"https://cdn.bokeh.org/bokeh/release/bokeh-widgets-2.3.3.min.js\": \"3QTqdz9LyAm2i0sG5XTePsHec3UHWwVsrOL68SYRoAXsafvfAyqtQ+h440+qIBhS\"};\n",
       "\n",
       "    for (let i = 0; i < js_urls.length; i++) {\n",
       "      const url = js_urls[i];\n",
       "      const element = document.createElement('script');\n",
       "      element.onload = on_load;\n",
       "      element.onerror = on_error.bind(null, url);\n",
       "      element.async = false;\n",
       "      element.src = url;\n",
       "      if (url in hashes) {\n",
       "        element.crossOrigin = \"anonymous\";\n",
       "        element.integrity = \"sha384-\" + hashes[url];\n",
       "      }\n",
       "      console.debug(\"Bokeh: injecting script tag for BokehJS library: \", url);\n",
       "      document.head.appendChild(element);\n",
       "    }\n",
       "  };\n",
       "\n",
       "  function inject_raw_css(css) {\n",
       "    const element = document.createElement(\"style\");\n",
       "    element.appendChild(document.createTextNode(css));\n",
       "    document.body.appendChild(element);\n",
       "  }\n",
       "\n",
       "  \n",
       "  var js_urls = [\"https://cdn.bokeh.org/bokeh/release/bokeh-2.3.3.min.js\", \"https://cdn.bokeh.org/bokeh/release/bokeh-widgets-2.3.3.min.js\", \"https://cdn.bokeh.org/bokeh/release/bokeh-tables-2.3.3.min.js\"];\n",
       "  var css_urls = [];\n",
       "  \n",
       "\n",
       "  var inline_js = [\n",
       "    function(Bokeh) {\n",
       "      Bokeh.set_log_level(\"info\");\n",
       "    },\n",
       "    function(Bokeh) {\n",
       "    \n",
       "    \n",
       "    }\n",
       "  ];\n",
       "\n",
       "  function run_inline_js() {\n",
       "    \n",
       "    if (root.Bokeh !== undefined || force === true) {\n",
       "      \n",
       "    for (var i = 0; i < inline_js.length; i++) {\n",
       "      inline_js[i].call(root, root.Bokeh);\n",
       "    }\n",
       "    if (force === true) {\n",
       "        display_loaded();\n",
       "      }} else if (Date.now() < root._bokeh_timeout) {\n",
       "      setTimeout(run_inline_js, 100);\n",
       "    } else if (!root._bokeh_failed_load) {\n",
       "      console.log(\"Bokeh: BokehJS failed to load within specified timeout.\");\n",
       "      root._bokeh_failed_load = true;\n",
       "    } else if (force !== true) {\n",
       "      var cell = $(document.getElementById(\"1002\")).parents('.cell').data().cell;\n",
       "      cell.output_area.append_execute_result(NB_LOAD_WARNING)\n",
       "    }\n",
       "\n",
       "  }\n",
       "\n",
       "  if (root._bokeh_is_loading === 0) {\n",
       "    console.debug(\"Bokeh: BokehJS loaded, going straight to plotting\");\n",
       "    run_inline_js();\n",
       "  } else {\n",
       "    load_libs(css_urls, js_urls, function() {\n",
       "      console.debug(\"Bokeh: BokehJS plotting callback run at\", now());\n",
       "      run_inline_js();\n",
       "    });\n",
       "  }\n",
       "}(window));"
      ],
      "application/vnd.bokehjs_load.v0+json": "\n(function(root) {\n  function now() {\n    return new Date();\n  }\n\n  var force = true;\n\n  if (typeof root._bokeh_onload_callbacks === \"undefined\" || force === true) {\n    root._bokeh_onload_callbacks = [];\n    root._bokeh_is_loading = undefined;\n  }\n\n  \n\n  \n  if (typeof (root._bokeh_timeout) === \"undefined\" || force === true) {\n    root._bokeh_timeout = Date.now() + 5000;\n    root._bokeh_failed_load = false;\n  }\n\n  var NB_LOAD_WARNING = {'data': {'text/html':\n     \"<div style='background-color: #fdd'>\\n\"+\n     \"<p>\\n\"+\n     \"BokehJS does not appear to have successfully loaded. If loading BokehJS from CDN, this \\n\"+\n     \"may be due to a slow or bad network connection. Possible fixes:\\n\"+\n     \"</p>\\n\"+\n     \"<ul>\\n\"+\n     \"<li>re-rerun `output_notebook()` to attempt to load from CDN again, or</li>\\n\"+\n     \"<li>use INLINE resources instead, as so:</li>\\n\"+\n     \"</ul>\\n\"+\n     \"<code>\\n\"+\n     \"from bokeh.resources import INLINE\\n\"+\n     \"output_notebook(resources=INLINE)\\n\"+\n     \"</code>\\n\"+\n     \"</div>\"}};\n\n  function display_loaded() {\n    var el = document.getElementById(\"1002\");\n    if (el != null) {\n      el.textContent = \"BokehJS is loading...\";\n    }\n    if (root.Bokeh !== undefined) {\n      if (el != null) {\n        el.textContent = \"BokehJS \" + root.Bokeh.version + \" successfully loaded.\";\n      }\n    } else if (Date.now() < root._bokeh_timeout) {\n      setTimeout(display_loaded, 100)\n    }\n  }\n\n\n  function run_callbacks() {\n    try {\n      root._bokeh_onload_callbacks.forEach(function(callback) {\n        if (callback != null)\n          callback();\n      });\n    } finally {\n      delete root._bokeh_onload_callbacks\n    }\n    console.debug(\"Bokeh: all callbacks have finished\");\n  }\n\n  function load_libs(css_urls, js_urls, callback) {\n    if (css_urls == null) css_urls = [];\n    if (js_urls == null) js_urls = [];\n\n    root._bokeh_onload_callbacks.push(callback);\n    if (root._bokeh_is_loading > 0) {\n      console.debug(\"Bokeh: BokehJS is being loaded, scheduling callback at\", now());\n      return null;\n    }\n    if (js_urls == null || js_urls.length === 0) {\n      run_callbacks();\n      return null;\n    }\n    console.debug(\"Bokeh: BokehJS not loaded, scheduling load and callback at\", now());\n    root._bokeh_is_loading = css_urls.length + js_urls.length;\n\n    function on_load() {\n      root._bokeh_is_loading--;\n      if (root._bokeh_is_loading === 0) {\n        console.debug(\"Bokeh: all BokehJS libraries/stylesheets loaded\");\n        run_callbacks()\n      }\n    }\n\n    function on_error(url) {\n      console.error(\"failed to load \" + url);\n    }\n\n    for (let i = 0; i < css_urls.length; i++) {\n      const url = css_urls[i];\n      const element = document.createElement(\"link\");\n      element.onload = on_load;\n      element.onerror = on_error.bind(null, url);\n      element.rel = \"stylesheet\";\n      element.type = \"text/css\";\n      element.href = url;\n      console.debug(\"Bokeh: injecting link tag for BokehJS stylesheet: \", url);\n      document.body.appendChild(element);\n    }\n\n    const hashes = {\"https://cdn.bokeh.org/bokeh/release/bokeh-2.3.3.min.js\": \"dM3QQsP+wXdHg42wTqW85BjZQdLNNIXqlPw/BgKoExPmTG7ZLML4EGqLMfqHT6ON\", \"https://cdn.bokeh.org/bokeh/release/bokeh-tables-2.3.3.min.js\": \"8x57I4YuIfu8XyZfFo0XVr2WAT8EK4rh/uDe3wF7YuW2FNUSNEpJbsPaB1nJ2fz2\", \"https://cdn.bokeh.org/bokeh/release/bokeh-widgets-2.3.3.min.js\": \"3QTqdz9LyAm2i0sG5XTePsHec3UHWwVsrOL68SYRoAXsafvfAyqtQ+h440+qIBhS\"};\n\n    for (let i = 0; i < js_urls.length; i++) {\n      const url = js_urls[i];\n      const element = document.createElement('script');\n      element.onload = on_load;\n      element.onerror = on_error.bind(null, url);\n      element.async = false;\n      element.src = url;\n      if (url in hashes) {\n        element.crossOrigin = \"anonymous\";\n        element.integrity = \"sha384-\" + hashes[url];\n      }\n      console.debug(\"Bokeh: injecting script tag for BokehJS library: \", url);\n      document.head.appendChild(element);\n    }\n  };\n\n  function inject_raw_css(css) {\n    const element = document.createElement(\"style\");\n    element.appendChild(document.createTextNode(css));\n    document.body.appendChild(element);\n  }\n\n  \n  var js_urls = [\"https://cdn.bokeh.org/bokeh/release/bokeh-2.3.3.min.js\", \"https://cdn.bokeh.org/bokeh/release/bokeh-widgets-2.3.3.min.js\", \"https://cdn.bokeh.org/bokeh/release/bokeh-tables-2.3.3.min.js\"];\n  var css_urls = [];\n  \n\n  var inline_js = [\n    function(Bokeh) {\n      Bokeh.set_log_level(\"info\");\n    },\n    function(Bokeh) {\n    \n    \n    }\n  ];\n\n  function run_inline_js() {\n    \n    if (root.Bokeh !== undefined || force === true) {\n      \n    for (var i = 0; i < inline_js.length; i++) {\n      inline_js[i].call(root, root.Bokeh);\n    }\n    if (force === true) {\n        display_loaded();\n      }} else if (Date.now() < root._bokeh_timeout) {\n      setTimeout(run_inline_js, 100);\n    } else if (!root._bokeh_failed_load) {\n      console.log(\"Bokeh: BokehJS failed to load within specified timeout.\");\n      root._bokeh_failed_load = true;\n    } else if (force !== true) {\n      var cell = $(document.getElementById(\"1002\")).parents('.cell').data().cell;\n      cell.output_area.append_execute_result(NB_LOAD_WARNING)\n    }\n\n  }\n\n  if (root._bokeh_is_loading === 0) {\n    console.debug(\"Bokeh: BokehJS loaded, going straight to plotting\");\n    run_inline_js();\n  } else {\n    load_libs(css_urls, js_urls, function() {\n      console.debug(\"Bokeh: BokehJS plotting callback run at\", now());\n      run_inline_js();\n    });\n  }\n}(window));"
     },
     "metadata": {},
     "output_type": "display_data"
    }
   ],
   "source": [
    "# Set up notebook parameters\n",
    "%matplotlib inline\n",
    "pd.set_option('display.max_columns', None)\n",
    "pd.set_option('display.max_colwidth', None)\n",
    "output_notebook() # outputs bokeh plots directly in notebook"
   ]
  },
  {
   "cell_type": "code",
   "execution_count": 3,
   "metadata": {},
   "outputs": [],
   "source": [
    "# Set configuration parameters\n",
    "random_seed = 42\n",
    "random.seed = random_seed\n",
    "centre_lon_lat = (-1.2, 53) # defined as approximate centre of UK\n",
    "\n",
    "# set constants in dataset\n",
    "avg_road_speed = 30 #mph\n",
    "detour_index = 1.4\n",
    "distance_threshold = 15000 * 1.6"
   ]
  },
  {
   "cell_type": "markdown",
   "metadata": {},
   "source": [
    "## Load Dataset"
   ]
  },
  {
   "cell_type": "code",
   "execution_count": 4,
   "metadata": {},
   "outputs": [
    {
     "name": "stdout",
     "output_type": "stream",
     "text": [
      "Length of raw dataset = 8,659\n",
      "Number of patients in raw dataset = 286,924\n"
     ]
    },
    {
     "data": {
      "text/html": [
       "<div>\n",
       "<style scoped>\n",
       "    .dataframe tbody tr th:only-of-type {\n",
       "        vertical-align: middle;\n",
       "    }\n",
       "\n",
       "    .dataframe tbody tr th {\n",
       "        vertical-align: top;\n",
       "    }\n",
       "\n",
       "    .dataframe thead th {\n",
       "        text-align: right;\n",
       "    }\n",
       "</style>\n",
       "<table border=\"1\" class=\"dataframe\">\n",
       "  <thead>\n",
       "    <tr style=\"text-align: right;\">\n",
       "      <th></th>\n",
       "      <th>n_patients</th>\n",
       "      <th>n_clusters</th>\n",
       "      <th>latlong</th>\n",
       "      <th>clusters</th>\n",
       "      <th>region</th>\n",
       "      <th>postcodes</th>\n",
       "      <th>created</th>\n",
       "      <th>mode</th>\n",
       "    </tr>\n",
       "  </thead>\n",
       "  <tbody>\n",
       "    <tr>\n",
       "      <th>0</th>\n",
       "      <td>6</td>\n",
       "      <td>1</td>\n",
       "      <td>[[-0.0011351833333321792, -0.03472788333333332], [0.0018483166666669604, -0.03430198333333312], [0.0005629166666665242, 0.018650416666667002], [-0.0023297833333302265, 0.018505116666666765], [0.002702216666669699, 0.015526416666666876], [-0.0016484833333336724, 0.016347916666666684]]</td>\n",
       "      <td>[[2, 3, 5, 4, 1, 0]]</td>\n",
       "      <td>UK</td>\n",
       "      <td>{}</td>\n",
       "      <td>2021-01-23</td>\n",
       "      <td>driving</td>\n",
       "    </tr>\n",
       "  </tbody>\n",
       "</table>\n",
       "</div>"
      ],
      "text/plain": [
       "   n_patients  n_clusters  \\\n",
       "0           6           1   \n",
       "\n",
       "                                                                                                                                                                                                                                                                                        latlong  \\\n",
       "0  [[-0.0011351833333321792, -0.03472788333333332], [0.0018483166666669604, -0.03430198333333312], [0.0005629166666665242, 0.018650416666667002], [-0.0023297833333302265, 0.018505116666666765], [0.002702216666669699, 0.015526416666666876], [-0.0016484833333336724, 0.016347916666666684]]   \n",
       "\n",
       "               clusters region postcodes     created     mode  \n",
       "0  [[2, 3, 5, 4, 1, 0]]     UK        {}  2021-01-23  driving  "
      ]
     },
     "execution_count": 4,
     "metadata": {},
     "output_type": "execute_result"
    }
   ],
   "source": [
    "# Plot example row of df\n",
    "print(\"Length of raw dataset = {:,}\".format(len(dataset)))\n",
    "print(\"Number of patients in raw dataset = {:,}\".format(dataset.n_patients.sum()))\n",
    "dataset.head(1)"
   ]
  },
  {
   "cell_type": "markdown",
   "metadata": {},
   "source": [
    "## Duplicate Analysis"
   ]
  },
  {
   "cell_type": "markdown",
   "metadata": {},
   "source": [
    "N.B: For now assuming duplicate lat/lon within nested list in one row is because these patients share the same address, rather than clerical error e.g. if user accidentally has duplicates patients in their excel sheet.\n"
   ]
  },
  {
   "cell_type": "code",
   "execution_count": 5,
   "metadata": {},
   "outputs": [
    {
     "name": "stdout",
     "output_type": "stream",
     "text": [
      "Number of duplicates = 2,849\n"
     ]
    }
   ],
   "source": [
    "# Test to identify duplicates: need to convert latlong numpy to string beforehand to be able to drop\n",
    "df1 = dataset.copy()[[\"latlong\"]]\n",
    "df1.latlong = df1.latlong.astype(\"str\")\n",
    "df1 = df1.sort_values(\"latlong\")\n",
    "\n",
    "# extract number of duplicates from pandas duplicated inbuilt function\n",
    "df1[\"is_duplicate\"] = df1.duplicated(subset=\"latlong\", keep=\"last\")\n",
    "print(\"Number of duplicates = {:,}\".format(len(df1.loc[df1.is_duplicate == True])))"
   ]
  },
  {
   "cell_type": "code",
   "execution_count": 6,
   "metadata": {},
   "outputs": [
    {
     "data": {
      "text/html": [
       "<div>\n",
       "<style scoped>\n",
       "    .dataframe tbody tr th:only-of-type {\n",
       "        vertical-align: middle;\n",
       "    }\n",
       "\n",
       "    .dataframe tbody tr th {\n",
       "        vertical-align: top;\n",
       "    }\n",
       "\n",
       "    .dataframe thead th {\n",
       "        text-align: right;\n",
       "    }\n",
       "</style>\n",
       "<table border=\"1\" class=\"dataframe\">\n",
       "  <thead>\n",
       "    <tr style=\"text-align: right;\">\n",
       "      <th></th>\n",
       "      <th>index</th>\n",
       "      <th>latlong</th>\n",
       "      <th>is_duplicate</th>\n",
       "      <th>is_duplicate_keep_both</th>\n",
       "    </tr>\n",
       "  </thead>\n",
       "  <tbody>\n",
       "    <tr>\n",
       "      <th>0</th>\n",
       "      <td>175</td>\n",
       "      <td>[[ 0.00013685  0.0024527 ]\\n [-0.00220345  0.0007388 ]\\n [ 0.00138085 -0.0007581 ]\\n [ 0.00069865 -0.0018543 ]\\n [ 0.00069865 -0.0018543 ]\\n [ 0.00298735 -0.0024562 ]\\n [-0.00184945  0.0018657 ]\\n [-0.00184945  0.0018657 ]]</td>\n",
       "      <td>True</td>\n",
       "      <td>True</td>\n",
       "    </tr>\n",
       "    <tr>\n",
       "      <th>1</th>\n",
       "      <td>176</td>\n",
       "      <td>[[ 0.00013685  0.0024527 ]\\n [-0.00220345  0.0007388 ]\\n [ 0.00138085 -0.0007581 ]\\n [ 0.00069865 -0.0018543 ]\\n [ 0.00069865 -0.0018543 ]\\n [ 0.00298735 -0.0024562 ]\\n [-0.00184945  0.0018657 ]\\n [-0.00184945  0.0018657 ]]</td>\n",
       "      <td>True</td>\n",
       "      <td>True</td>\n",
       "    </tr>\n",
       "    <tr>\n",
       "      <th>2</th>\n",
       "      <td>173</td>\n",
       "      <td>[[ 0.00013685  0.0024527 ]\\n [-0.00220345  0.0007388 ]\\n [ 0.00138085 -0.0007581 ]\\n [ 0.00069865 -0.0018543 ]\\n [ 0.00069865 -0.0018543 ]\\n [ 0.00298735 -0.0024562 ]\\n [-0.00184945  0.0018657 ]\\n [-0.00184945  0.0018657 ]]</td>\n",
       "      <td>False</td>\n",
       "      <td>True</td>\n",
       "    </tr>\n",
       "  </tbody>\n",
       "</table>\n",
       "</div>"
      ],
      "text/plain": [
       "   index  \\\n",
       "0    175   \n",
       "1    176   \n",
       "2    173   \n",
       "\n",
       "                                                                                                                                                                                                                           latlong  \\\n",
       "0  [[ 0.00013685  0.0024527 ]\\n [-0.00220345  0.0007388 ]\\n [ 0.00138085 -0.0007581 ]\\n [ 0.00069865 -0.0018543 ]\\n [ 0.00069865 -0.0018543 ]\\n [ 0.00298735 -0.0024562 ]\\n [-0.00184945  0.0018657 ]\\n [-0.00184945  0.0018657 ]]   \n",
       "1  [[ 0.00013685  0.0024527 ]\\n [-0.00220345  0.0007388 ]\\n [ 0.00138085 -0.0007581 ]\\n [ 0.00069865 -0.0018543 ]\\n [ 0.00069865 -0.0018543 ]\\n [ 0.00298735 -0.0024562 ]\\n [-0.00184945  0.0018657 ]\\n [-0.00184945  0.0018657 ]]   \n",
       "2  [[ 0.00013685  0.0024527 ]\\n [-0.00220345  0.0007388 ]\\n [ 0.00138085 -0.0007581 ]\\n [ 0.00069865 -0.0018543 ]\\n [ 0.00069865 -0.0018543 ]\\n [ 0.00298735 -0.0024562 ]\\n [-0.00184945  0.0018657 ]\\n [-0.00184945  0.0018657 ]]   \n",
       "\n",
       "   is_duplicate  is_duplicate_keep_both  \n",
       "0          True                    True  \n",
       "1          True                    True  \n",
       "2         False                    True  "
      ]
     },
     "execution_count": 6,
     "metadata": {},
     "output_type": "execute_result"
    }
   ],
   "source": [
    "# Demonstrate example of duplicate indices:\n",
    "df1[\"is_duplicate_keep_both\"] = df1.duplicated(subset=\"latlong\", keep=False)\n",
    "df1.loc[df1.is_duplicate_keep_both == True][15:18].reset_index()"
   ]
  },
  {
   "cell_type": "code",
   "execution_count": 7,
   "metadata": {},
   "outputs": [
    {
     "data": {
      "text/plain": [
       "array([   1,  311,  403,  547, 1012, 1014, 1016, 1188, 1201, 1250, 1315,\n",
       "       1476, 1516, 1687, 1901, 1926, 1931, 1972, 1974, 1975, 1977, 1991,\n",
       "       1994, 2048, 2049, 2051, 2131, 2154, 2155, 2203, 2258, 2970, 2971,\n",
       "       2977, 2995, 2996, 4391], dtype=int64)"
      ]
     },
     "execution_count": 7,
     "metadata": {},
     "output_type": "execute_result"
    }
   ],
   "source": [
    "# Show indices of most occurring entry:\n",
    "\n",
    "df1.loc[df1.latlong == df1.groupby(\"latlong\").count().sort_values(\"is_duplicate\", ascending=False).index.values[0]].sort_index().index.values"
   ]
  },
  {
   "cell_type": "code",
   "execution_count": 11,
   "metadata": {},
   "outputs": [
    {
     "name": "stdout",
     "output_type": "stream",
     "text": [
      "Number of distinct sets in dataset = 5810\n"
     ]
    }
   ],
   "source": [
    "print(\"Number of distinct sets in dataset = {}\".format(len(df1.loc[df1.is_duplicate == False])))"
   ]
  },
  {
   "cell_type": "code",
   "execution_count": 21,
   "metadata": {},
   "outputs": [
    {
     "data": {
      "text/plain": [
       "(array([1.237e+03, 1.980e+02, 5.700e+01, 1.400e+01, 1.200e+01, 4.000e+00,\n",
       "        3.000e+00, 0.000e+00, 1.000e+00, 1.000e+00, 0.000e+00, 1.000e+00,\n",
       "        0.000e+00, 0.000e+00, 0.000e+00, 0.000e+00, 0.000e+00, 0.000e+00,\n",
       "        0.000e+00, 1.000e+00]),\n",
       " array([ 2.  ,  3.75,  5.5 ,  7.25,  9.  , 10.75, 12.5 , 14.25, 16.  ,\n",
       "        17.75, 19.5 , 21.25, 23.  , 24.75, 26.5 , 28.25, 30.  , 31.75,\n",
       "        33.5 , 35.25, 37.  ]),\n",
       " <BarContainer object of 20 artists>)"
      ]
     },
     "execution_count": 21,
     "metadata": {},
     "output_type": "execute_result"
    },
    {
     "data": {
      "image/png": "[encoded data removed]",
      "text/plain": [
       "<Figure size 720x288 with 1 Axes>"
      ]
     },
     "metadata": {
      "needs_background": "light"
     },
     "output_type": "display_data"
    }
   ],
   "source": [
    "# plot histogram of frequency of duplicate set occurring (not showing cases without duplicates)\n",
    "x = df1.groupby(\"latlong\").count().sort_values(\"is_duplicate\", ascending=False)\n",
    "x = x.loc[x.is_duplicate > 1]\n",
    "\n",
    "plt.figure(figsize=(10,4))\n",
    "plt.grid()\n",
    "plt.title(\"Frequency of duplicated set of lat/lons\")\n",
    "plt.xlabel(\"Number of duplicates in dataset\")\n",
    "plt.hist(x.is_duplicate, bins=20, color=\"green\")"
   ]
  },
  {
   "cell_type": "code",
   "execution_count": 12,
   "metadata": {},
   "outputs": [],
   "source": [
    "# create record_id and join to dataset\n",
    "idf = df1.sort_values(\"latlong\")\n",
    "idn = 1\n",
    "id_list = [1]\n",
    "\n",
    "for i in range(1, len(idf)):\n",
    "    if idf.latlong.values[i] == idf.latlong.values[i - 1]:\n",
    "        id_list.append(idn)\n",
    "    else:\n",
    "        idn += 1\n",
    "        id_list.append(idn)\n",
    "        \n",
    "idf[\"record_id\"] = id_list\n",
    "\n",
    "# join\n",
    "dataset = dataset.join(idf[[\"record_id\"]])"
   ]
  },
  {
   "cell_type": "code",
   "execution_count": 13,
   "metadata": {},
   "outputs": [],
   "source": [
    "# Check duration between duplicates\n",
    "dataset[\"created\"] = pd.to_datetime(dataset[\"created\"])\n",
    "\n",
    "dup = df1.loc[df1.is_duplicate_keep_both == True]\n",
    "dup = dup.join(idf[[\"record_id\"]])\n",
    "\n",
    "time_bet = pd.DataFrame()\n",
    "\n",
    "for latlong in dup.latlong.unique()[:]:\n",
    "    dup1 = dup.loc[dup.latlong == latlong]\n",
    "    index_list = dup1.index.values\n",
    "    dat = dataset.iloc[index_list].sort_values(\"created\")\n",
    "    dat[\"time_between\"] = (dat[\"created\"] - dat[\"created\"].shift(1)).dt.days\n",
    "    time_bet = time_bet.append(dat[1:])\n"
   ]
  },
  {
   "cell_type": "code",
   "execution_count": 16,
   "metadata": {},
   "outputs": [
    {
     "data": {
      "text/plain": [
       "(array([2.784e+03, 2.500e+01, 1.000e+01, 5.000e+00, 5.000e+00, 2.000e+00,\n",
       "        4.000e+00, 0.000e+00, 2.000e+00, 1.000e+00, 2.000e+00, 1.000e+00,\n",
       "        1.000e+00, 1.000e+00, 0.000e+00, 1.000e+00, 1.000e+00, 1.000e+00,\n",
       "        0.000e+00, 3.000e+00]),\n",
       " array([ 0.  ,  1.25,  2.5 ,  3.75,  5.  ,  6.25,  7.5 ,  8.75, 10.  ,\n",
       "        11.25, 12.5 , 13.75, 15.  , 16.25, 17.5 , 18.75, 20.  , 21.25,\n",
       "        22.5 , 23.75, 25.  ]),\n",
       " <BarContainer object of 20 artists>)"
      ]
     },
     "execution_count": 16,
     "metadata": {},
     "output_type": "execute_result"
    },
    {
     "data": {
      "image/png": "[encoded data removed]",
      "text/plain": [
       "<Figure size 432x288 with 1 Axes>"
      ]
     },
     "metadata": {
      "needs_background": "light"
     },
     "output_type": "display_data"
    }
   ],
   "source": [
    "# plot histogram of time between duplicate sets\n",
    "plt.title(\"Histogram of days between duplicate sets\")\n",
    "plt.hist(time_bet.time_between, bins=20)"
   ]
  },
  {
   "cell_type": "markdown",
   "metadata": {},
   "source": [
    "Can see here that vast majority of duplicates occur same day, only a minority occurring on further days"
   ]
  },
  {
   "cell_type": "code",
   "execution_count": 18,
   "metadata": {},
   "outputs": [
    {
     "data": {
      "image/png": "[encoded data removed]",
      "text/plain": [
       "<Figure size 720x360 with 1 Axes>"
      ]
     },
     "metadata": {
      "needs_background": "light"
     },
     "output_type": "display_data"
    },
    {
     "data": {
      "image/png": "[encoded data removed]",
      "text/plain": [
       "<Figure size 720x360 with 1 Axes>"
      ]
     },
     "metadata": {
      "needs_background": "light"
     },
     "output_type": "display_data"
    }
   ],
   "source": [
    "# plot scatters comparing days between duplicates vs number of duplicates \n",
    "\n",
    "# dataframe to get average duration per duplicate per set\n",
    "record_time_bet = time_bet.groupby(\"record_id\").mean()\n",
    "record_time_bet = record_time_bet.join(dup.groupby(\"record_id\").count()[[\"latlong\"]].rename(columns={\"latlong\" : \"occurrences\"}))\n",
    "\n",
    "# filter for those where mean time > 0\n",
    "record_time_bet1 = record_time_bet.loc[record_time_bet.time_between > 0]\n",
    "\n",
    "plt.figure(figsize=(10,5))\n",
    "plt.grid()\n",
    "plt.title(\"Average days between duplicates vs number of occurrences of a set with duplicates\")\n",
    "plt.xlabel(\"Average days between duplicates\")\n",
    "plt.ylabel(\"Number of duplicates of patient set\")\n",
    "plt.plot( record_time_bet1.time_between, record_time_bet1.occurrences, \"bo\")\n",
    "\n",
    "record_time_bet2 = record_time_bet1.groupby(\"occurrences\").mean().reset_index()\n",
    "plt.figure(figsize=(10,5))\n",
    "plt.grid(which=\"both\")\n",
    "plt.title(\"Average days between duplicates vs number of occurrences of duplicate set\")\n",
    "plt.xlabel(\"Average days between duplicates\")\n",
    "plt.ylabel(\"Number of duplicates of patient set\")\n",
    "plt.plot( record_time_bet2.time_between, record_time_bet2.occurrences, \"go\")\n",
    "plt.show()"
   ]
  },
  {
   "cell_type": "code",
   "execution_count": 19,
   "metadata": {},
   "outputs": [
    {
     "data": {
      "text/html": [
       "<div>\n",
       "<style scoped>\n",
       "    .dataframe tbody tr th:only-of-type {\n",
       "        vertical-align: middle;\n",
       "    }\n",
       "\n",
       "    .dataframe tbody tr th {\n",
       "        vertical-align: top;\n",
       "    }\n",
       "\n",
       "    .dataframe thead th {\n",
       "        text-align: right;\n",
       "    }\n",
       "</style>\n",
       "<table border=\"1\" class=\"dataframe\">\n",
       "  <thead>\n",
       "    <tr style=\"text-align: right;\">\n",
       "      <th></th>\n",
       "      <th>n_patients</th>\n",
       "      <th>n_clusters</th>\n",
       "      <th>time_between</th>\n",
       "      <th>occurrences</th>\n",
       "    </tr>\n",
       "    <tr>\n",
       "      <th>record_id</th>\n",
       "      <th></th>\n",
       "      <th></th>\n",
       "      <th></th>\n",
       "      <th></th>\n",
       "    </tr>\n",
       "  </thead>\n",
       "  <tbody>\n",
       "    <tr>\n",
       "      <th>93</th>\n",
       "      <td>8.0</td>\n",
       "      <td>1.000000</td>\n",
       "      <td>0.000000</td>\n",
       "      <td>18</td>\n",
       "    </tr>\n",
       "    <tr>\n",
       "      <th>1781</th>\n",
       "      <td>24.0</td>\n",
       "      <td>3.952381</td>\n",
       "      <td>3.238095</td>\n",
       "      <td>22</td>\n",
       "    </tr>\n",
       "    <tr>\n",
       "      <th>1831</th>\n",
       "      <td>24.0</td>\n",
       "      <td>2.805556</td>\n",
       "      <td>0.361111</td>\n",
       "      <td>37</td>\n",
       "    </tr>\n",
       "    <tr>\n",
       "      <th>3081</th>\n",
       "      <td>6.0</td>\n",
       "      <td>1.133333</td>\n",
       "      <td>1.133333</td>\n",
       "      <td>16</td>\n",
       "    </tr>\n",
       "  </tbody>\n",
       "</table>\n",
       "</div>"
      ],
      "text/plain": [
       "           n_patients  n_clusters  time_between  occurrences\n",
       "record_id                                                   \n",
       "93                8.0    1.000000      0.000000           18\n",
       "1781             24.0    3.952381      3.238095           22\n",
       "1831             24.0    2.805556      0.361111           37\n",
       "3081              6.0    1.133333      1.133333           16"
      ]
     },
     "execution_count": 19,
     "metadata": {},
     "output_type": "execute_result"
    }
   ],
   "source": [
    "# records with large occurrences\n",
    "record_time_bet.loc[record_time_bet.occurrences > 15]"
   ]
  },
  {
   "cell_type": "code",
   "execution_count": 20,
   "metadata": {},
   "outputs": [
    {
     "data": {
      "text/html": [
       "<div>\n",
       "<style scoped>\n",
       "    .dataframe tbody tr th:only-of-type {\n",
       "        vertical-align: middle;\n",
       "    }\n",
       "\n",
       "    .dataframe tbody tr th {\n",
       "        vertical-align: top;\n",
       "    }\n",
       "\n",
       "    .dataframe thead th {\n",
       "        text-align: right;\n",
       "    }\n",
       "</style>\n",
       "<table border=\"1\" class=\"dataframe\">\n",
       "  <thead>\n",
       "    <tr style=\"text-align: right;\">\n",
       "      <th></th>\n",
       "      <th>n_patients</th>\n",
       "      <th>n_clusters</th>\n",
       "      <th>time_between</th>\n",
       "      <th>occurrences</th>\n",
       "    </tr>\n",
       "    <tr>\n",
       "      <th>record_id</th>\n",
       "      <th></th>\n",
       "      <th></th>\n",
       "      <th></th>\n",
       "      <th></th>\n",
       "    </tr>\n",
       "  </thead>\n",
       "  <tbody>\n",
       "    <tr>\n",
       "      <th>306</th>\n",
       "      <td>8.0</td>\n",
       "      <td>1.0</td>\n",
       "      <td>15.000000</td>\n",
       "      <td>2</td>\n",
       "    </tr>\n",
       "    <tr>\n",
       "      <th>1621</th>\n",
       "      <td>8.0</td>\n",
       "      <td>1.0</td>\n",
       "      <td>25.000000</td>\n",
       "      <td>2</td>\n",
       "    </tr>\n",
       "    <tr>\n",
       "      <th>1780</th>\n",
       "      <td>24.0</td>\n",
       "      <td>3.0</td>\n",
       "      <td>14.333333</td>\n",
       "      <td>4</td>\n",
       "    </tr>\n",
       "    <tr>\n",
       "      <th>2546</th>\n",
       "      <td>32.0</td>\n",
       "      <td>3.0</td>\n",
       "      <td>22.000000</td>\n",
       "      <td>2</td>\n",
       "    </tr>\n",
       "    <tr>\n",
       "      <th>2894</th>\n",
       "      <td>8.0</td>\n",
       "      <td>1.0</td>\n",
       "      <td>13.000000</td>\n",
       "      <td>2</td>\n",
       "    </tr>\n",
       "    <tr>\n",
       "      <th>3669</th>\n",
       "      <td>5.0</td>\n",
       "      <td>1.0</td>\n",
       "      <td>20.000000</td>\n",
       "      <td>2</td>\n",
       "    </tr>\n",
       "  </tbody>\n",
       "</table>\n",
       "</div>"
      ],
      "text/plain": [
       "           n_patients  n_clusters  time_between  occurrences\n",
       "record_id                                                   \n",
       "306               8.0         1.0     15.000000            2\n",
       "1621              8.0         1.0     25.000000            2\n",
       "1780             24.0         3.0     14.333333            4\n",
       "2546             32.0         3.0     22.000000            2\n",
       "2894              8.0         1.0     13.000000            2\n",
       "3669              5.0         1.0     20.000000            2"
      ]
     },
     "execution_count": 20,
     "metadata": {},
     "output_type": "execute_result"
    }
   ],
   "source": [
    "# records with long timespan\n",
    "record_time_bet.loc[record_time_bet.time_between > 10]"
   ]
  },
  {
   "cell_type": "code",
   "execution_count": 21,
   "metadata": {},
   "outputs": [
    {
     "data": {
      "image/png": "[encoded data removed]",
      "text/plain": [
       "<Figure size 720x144 with 1 Axes>"
      ]
     },
     "metadata": {
      "needs_background": "light"
     },
     "output_type": "display_data"
    },
    {
     "data": {
      "image/png": "[encoded data removed]",
      "text/plain": [
       "<Figure size 720x144 with 1 Axes>"
      ]
     },
     "metadata": {
      "needs_background": "light"
     },
     "output_type": "display_data"
    },
    {
     "data": {
      "image/png": "[encoded data removed]",
      "text/plain": [
       "<Figure size 720x144 with 1 Axes>"
      ]
     },
     "metadata": {
      "needs_background": "light"
     },
     "output_type": "display_data"
    },
    {
     "data": {
      "image/png": "[encoded data removed]",
      "text/plain": [
       "<Figure size 720x144 with 1 Axes>"
      ]
     },
     "metadata": {
      "needs_background": "light"
     },
     "output_type": "display_data"
    }
   ],
   "source": [
    "example_ids = [1831, 1781, 3081, 1780]\n",
    "for record in example_ids:\n",
    "    occurrences = record_time_bet.loc[record_time_bet.index == record].occurrences.values[0]\n",
    "    example = dataset.loc[dataset.record_id == record][[\"record_id\", \"created\"]]\n",
    "    example = example.groupby(\"created\").count().reset_index()\n",
    "\n",
    "    plt.figure(figsize=(10,2))\n",
    "    plt.title(\"Number of times same set (id = {a}, num occurences = {b}) was submitted to Vaximap website\".format(a=record, b=occurrences))\n",
    "    plt.xlabel(\"Date\")\n",
    "    plt.xticks(rotation=20)\n",
    "    plt.ylabel(\"Number of Occurrences\")\n",
    "    plt.xlim(dataset.created.min(), dataset.created.max())\n",
    "    plt.plot(example.created, example.record_id, \"r\")\n",
    "    plt.scatter(example.created, example.record_id, color=\"black\")\n",
    "    plt.show()"
   ]
  },
  {
   "cell_type": "markdown",
   "metadata": {},
   "source": [
    "It appears that the ID=1831 is Tom's test dataset."
   ]
  },
  {
   "cell_type": "markdown",
   "metadata": {},
   "source": [
    "## Exploratory Data Analysis"
   ]
  },
  {
   "cell_type": "code",
   "execution_count": 26,
   "metadata": {},
   "outputs": [],
   "source": [
    "# we remove from dataset Tom's test set for EDA\n",
    "df0 = dataset.loc[dataset.record_id != 1831]\n",
    "\n",
    "# Create new feature: max cluster size\n",
    "df0[\"max_cluster_size\"] = df0[\"clusters\"].apply(FindMaxLength)\n",
    "\n",
    "# Create new feature: postcodes size (used to filter empty postcode dicts)\n",
    "df0[\"postcodes_size\"] = [len(i) for i in df0.postcodes]\n"
   ]
  },
  {
   "cell_type": "code",
   "execution_count": 27,
   "metadata": {},
   "outputs": [
    {
     "name": "stdout",
     "output_type": "stream",
     "text": [
      "Length of dataset without duplicates = 5,809\n",
      "Number of patients in dataset without duplicates = 179,049\n"
     ]
    }
   ],
   "source": [
    "# Remove duplicate indices from raw dataset, keeping \"last\" assuming earlier duplicates were for testing\n",
    "df = df0.loc[df0.index.isin(df1.loc[df1.is_duplicate == False].index.values)]\n",
    "print(\"Length of dataset without duplicates = {:,}\".format(len(df)))\n",
    "print(\"Number of patients in dataset without duplicates = {:,}\".format(df.n_patients.sum()))"
   ]
  },
  {
   "cell_type": "code",
   "execution_count": 28,
   "metadata": {},
   "outputs": [
    {
     "data": {
      "text/html": [
       "\n",
       "\n",
       "\n",
       "\n",
       "\n",
       "\n",
       "  <div class=\"bk-root\" id=\"b236bd7c-b023-4ebe-a947-2a844b2c9fdc\" data-root-id=\"1003\"></div>\n"
      ]
     },
     "metadata": {},
     "output_type": "display_data"
    },
    {
     "data": {
      "application/javascript": [
       "(function(root) {\n",
       "  function embed_document(root) {\n",
       "    \n",
       "  var docs_json = {\"1110679a-5651-4410-8190-316e1603c528\":{\"defs\":[],\"roots\":{\"references\":[{\"attributes\":{\"below\":[{\"id\":\"1014\"}],\"center\":[{\"id\":\"1017\"},{\"id\":\"1021\"}],\"height\":300,\"left\":[{\"id\":\"1018\"}],\"renderers\":[{\"id\":\"1039\"}],\"title\":{\"id\":\"1004\"},\"toolbar\":{\"id\":\"1029\"},\"width\":800,\"x_range\":{\"id\":\"1006\"},\"x_scale\":{\"id\":\"1010\"},\"y_range\":{\"id\":\"1008\"},\"y_scale\":{\"id\":\"1012\"}},\"id\":\"1003\",\"subtype\":\"Figure\",\"type\":\"Plot\"},{\"attributes\":{\"line_alpha\":0.1,\"line_color\":\"#1f77b4\",\"x\":{\"field\":\"x\"},\"y\":{\"field\":\"y\"}},\"id\":\"1038\",\"type\":\"Line\"},{\"attributes\":{\"base\":60,\"mantissas\":[1,2,5,10,15,20,30],\"max_interval\":1800000.0,\"min_interval\":1000.0,\"num_minor_ticks\":0},\"id\":\"1049\",\"type\":\"AdaptiveTicker\"},{\"attributes\":{\"days\":[1,4,7,10,13,16,19,22,25,28]},\"id\":\"1052\",\"type\":\"DaysTicker\"},{\"attributes\":{\"overlay\":{\"id\":\"1028\"}},\"id\":\"1024\",\"type\":\"BoxZoomTool\"},{\"attributes\":{},\"id\":\"1008\",\"type\":\"DataRange1d\"},{\"attributes\":{},\"id\":\"1061\",\"type\":\"Selection\"},{\"attributes\":{\"months\":[0,2,4,6,8,10]},\"id\":\"1056\",\"type\":\"MonthsTicker\"},{\"attributes\":{\"months\":[0,4,8]},\"id\":\"1057\",\"type\":\"MonthsTicker\"},{\"attributes\":{\"num_minor_ticks\":5,\"tickers\":[{\"id\":\"1048\"},{\"id\":\"1049\"},{\"id\":\"1050\"},{\"id\":\"1051\"},{\"id\":\"1052\"},{\"id\":\"1053\"},{\"id\":\"1054\"},{\"id\":\"1055\"},{\"id\":\"1056\"},{\"id\":\"1057\"},{\"id\":\"1058\"},{\"id\":\"1059\"}]},\"id\":\"1015\",\"type\":\"DatetimeTicker\"},{\"attributes\":{\"data\":{\"x\":{\"__ndarray__\":\"AACApchyd0IAAEALG3N3QgAAAHFtc3dCAADA1r9zd0IAAIA8EnR3QgAAQKJkdHdCAAAACLd0d0IAAMBtCXV3QgAAgNNbdXdCAABAOa51d0IAAACfAHZ3QgAAwARTdndCAACAaqV2d0IAAEDQ93Z3QgAAADZKd3dCAADAm5x3d0IAAIAB73d3QgAAQGdBeHdCAAAAzZN4d0IAAMAy5nh3QgAAgJg4eXdCAABA/op5d0IAAABk3Xl3QgAAwMkvendCAACAL4J6d0IAAECV1Hp3QgAAAPsme3dCAADAYHl7d0IAAIDGy3t3QgAAQCwefHdCAAAAknB8d0IAAMD3wnx3QgAAgF0VfXdCAABAw2d9d0IAAAApun13QgAAgPRefndCAABAWrF+d0IAAADAA393QgAAwCVWf3dCAACAi6h/d0IAAEDx+n93QgAAAFdNgHdCAADAvJ+Ad0IAAIAi8oB3QgAAQIhEgXdCAAAA7paBd0IAAMBT6YF3QgAAgLk7gndCAABAH46Cd0IAAACF4IJ3QgAAwOoyg3dCAACAUIWDd0IAAEC214N3QgAAABwqhHdCAADAgXyEd0IAAIDnzoR3QgAAQE0hhXdCAAAAs3OFd0IAAMAYxoV3QgAAgH4YhndCAABA5GqGd0IAAABKvYZ3QgAAgBVih3dCAABAe7SHd0IAAADhBoh3QgAAwEZZiHdCAACArKuId0IAAEAS/oh3QgAAAHhQiXdCAADA3aKJd0IAAIBD9Yl3QgAAQKlHindCAAAAD5qKd0IAAMB07Ip3QgAAgNo+i3dCAABAQJGLd0IAAACm44t3QgAAwAs2jHdCAACAcYiMd0IAAEDX2ox3QgAAAD0tjXdCAADAon+Nd0IAAIAI0o13QgAAQG4kjndCAAAA1HaOd0IAAMA5yY53QgAAgJ8bj3dCAABABW6Pd0IAAABrwI93QgAAwNASkHdCAACANmWQd0IAAECct5B3QgAAAAIKkXdCAADAZ1yRd0IAAIDNrpF3QgAAQDMBkndCAAAAmVOSd0IAAMD+pZJ3QgAAQMpKk3dCAAAAMJ2Td0IAAMCV75N3QgAAgPtBlHdCAABAYZSUd0IAAADH5pR3QgAAwCw5lXdCAACAkouVd0IAAED43ZV3QgAAAF4wlndCAADAw4KWd0IAAIAp1ZZ3QgAAQI8nl3dCAAAA9XmXd0IAAMBazJd3QgAAgMAemHdCAABAJnGYd0IAAACMw5h3QgAAwPEVmXdCAABAvbqZd0IAAAAjDZp3QgAAwIhfmndCAACA7rGad0IAAEBUBJt3QgAAwB+pm3dCAABA602cd0IAAABRoJx3QgAAwLbynHdCAACAHEWdd0IAAADo6Z13QgAAwE08nndCAACAs46ed0IAAEAZ4Z53QgAAAH8zn3dCAADA5IWfd0IAAECwKqB3QgAAABZ9oHdCAADAe8+gd0IAAIDhIaF3Qg==\",\"dtype\":\"float64\",\"order\":\"little\",\"shape\":[137]},\"y\":[451,33,185,184,189,187,155,21,28,144,163,167,122,192,27,55,138,151,162,129,85,31,16,46,60,34,29,37,4,3,35,29,27,27,19,2,23,30,42,24,11,8,2,15,25,11,39,14,5,1,19,26,18,14,34,13,1,33,25,15,19,18,6,34,18,14,17,3,2,3,12,44,46,47,30,8,6,56,61,44,65,51,4,8,75,103,85,82,84,7,1,83,87,58,69,37,4,2,46,33,40,24,2,6,31,41,26,17,14,10,2,14,31,17,20,8,5,25,12,25,25,8,3,15,8,8,9,2,8,10,14,19,5,1,4,7,6]},\"selected\":{\"id\":\"1061\"},\"selection_policy\":{\"id\":\"1060\"}},\"id\":\"1036\",\"type\":\"ColumnDataSource\"},{\"attributes\":{},\"id\":\"1046\",\"type\":\"AllLabels\"},{\"attributes\":{\"bottom_units\":\"screen\",\"fill_alpha\":0.5,\"fill_color\":\"lightgrey\",\"left_units\":\"screen\",\"level\":\"overlay\",\"line_alpha\":1.0,\"line_color\":\"black\",\"line_dash\":[4,4],\"line_width\":2,\"right_units\":\"screen\",\"syncable\":false,\"top_units\":\"screen\"},\"id\":\"1028\",\"type\":\"BoxAnnotation\"},{\"attributes\":{},\"id\":\"1059\",\"type\":\"YearsTicker\"},{\"attributes\":{},\"id\":\"1043\",\"type\":\"AllLabels\"},{\"attributes\":{},\"id\":\"1006\",\"type\":\"DataRange1d\"},{\"attributes\":{},\"id\":\"1025\",\"type\":\"SaveTool\"},{\"attributes\":{\"axis\":{\"id\":\"1018\"},\"dimension\":1,\"grid_line_alpha\":0.3,\"ticker\":null},\"id\":\"1021\",\"type\":\"Grid\"},{\"attributes\":{\"mantissas\":[1,2,5],\"max_interval\":500.0,\"num_minor_ticks\":0},\"id\":\"1048\",\"type\":\"AdaptiveTicker\"},{\"attributes\":{},\"id\":\"1042\",\"type\":\"DatetimeTickFormatter\"},{\"attributes\":{\"days\":[1,8,15,22]},\"id\":\"1053\",\"type\":\"DaysTicker\"},{\"attributes\":{\"data_source\":{\"id\":\"1036\"},\"glyph\":{\"id\":\"1037\"},\"hover_glyph\":null,\"muted_glyph\":null,\"nonselection_glyph\":{\"id\":\"1038\"},\"view\":{\"id\":\"1040\"}},\"id\":\"1039\",\"type\":\"GlyphRenderer\"},{\"attributes\":{},\"id\":\"1045\",\"type\":\"BasicTickFormatter\"},{\"attributes\":{\"base\":24,\"mantissas\":[1,2,4,6,8,12],\"max_interval\":43200000.0,\"min_interval\":3600000.0,\"num_minor_ticks\":0},\"id\":\"1050\",\"type\":\"AdaptiveTicker\"},{\"attributes\":{\"axis\":{\"id\":\"1014\"},\"grid_line_alpha\":0.3,\"ticker\":null},\"id\":\"1017\",\"type\":\"Grid\"},{\"attributes\":{\"axis_label\":\"Request Frequency\",\"formatter\":{\"id\":\"1045\"},\"major_label_policy\":{\"id\":\"1046\"},\"ticker\":{\"id\":\"1019\"}},\"id\":\"1018\",\"type\":\"LinearAxis\"},{\"attributes\":{\"days\":[1,2,3,4,5,6,7,8,9,10,11,12,13,14,15,16,17,18,19,20,21,22,23,24,25,26,27,28,29,30,31]},\"id\":\"1051\",\"type\":\"DaysTicker\"},{\"attributes\":{},\"id\":\"1010\",\"type\":\"LinearScale\"},{\"attributes\":{},\"id\":\"1012\",\"type\":\"LinearScale\"},{\"attributes\":{\"months\":[0,1,2,3,4,5,6,7,8,9,10,11]},\"id\":\"1055\",\"type\":\"MonthsTicker\"},{\"attributes\":{\"axis_label\":\"Date\",\"formatter\":{\"id\":\"1042\"},\"major_label_policy\":{\"id\":\"1043\"},\"ticker\":{\"id\":\"1015\"}},\"id\":\"1014\",\"type\":\"DatetimeAxis\"},{\"attributes\":{\"text\":\"Number of Vaximap requests per date\"},\"id\":\"1004\",\"type\":\"Title\"},{\"attributes\":{\"source\":{\"id\":\"1036\"}},\"id\":\"1040\",\"type\":\"CDSView\"},{\"attributes\":{},\"id\":\"1060\",\"type\":\"UnionRenderers\"},{\"attributes\":{\"days\":[1,15]},\"id\":\"1054\",\"type\":\"DaysTicker\"},{\"attributes\":{},\"id\":\"1027\",\"type\":\"HelpTool\"},{\"attributes\":{},\"id\":\"1022\",\"type\":\"PanTool\"},{\"attributes\":{},\"id\":\"1026\",\"type\":\"ResetTool\"},{\"attributes\":{},\"id\":\"1019\",\"type\":\"BasicTicker\"},{\"attributes\":{},\"id\":\"1023\",\"type\":\"WheelZoomTool\"},{\"attributes\":{\"active_multi\":null,\"tools\":[{\"id\":\"1022\"},{\"id\":\"1023\"},{\"id\":\"1024\"},{\"id\":\"1025\"},{\"id\":\"1026\"},{\"id\":\"1027\"}]},\"id\":\"1029\",\"type\":\"Toolbar\"},{\"attributes\":{\"months\":[0,6]},\"id\":\"1058\",\"type\":\"MonthsTicker\"},{\"attributes\":{\"line_color\":\"#1f77b4\",\"x\":{\"field\":\"x\"},\"y\":{\"field\":\"y\"}},\"id\":\"1037\",\"type\":\"Line\"}],\"root_ids\":[\"1003\"]},\"title\":\"Bokeh Application\",\"version\":\"2.3.3\"}};\n",
       "  var render_items = [{\"docid\":\"1110679a-5651-4410-8190-316e1603c528\",\"root_ids\":[\"1003\"],\"roots\":{\"1003\":\"b236bd7c-b023-4ebe-a947-2a844b2c9fdc\"}}];\n",
       "  root.Bokeh.embed.embed_items_notebook(docs_json, render_items);\n",
       "\n",
       "  }\n",
       "  if (root.Bokeh !== undefined) {\n",
       "    embed_document(root);\n",
       "  } else {\n",
       "    var attempts = 0;\n",
       "    var timer = setInterval(function(root) {\n",
       "      if (root.Bokeh !== undefined) {\n",
       "        clearInterval(timer);\n",
       "        embed_document(root);\n",
       "      } else {\n",
       "        attempts++;\n",
       "        if (attempts > 100) {\n",
       "          clearInterval(timer);\n",
       "          console.log(\"Bokeh: ERROR: Unable to run BokehJS code because BokehJS library is missing\");\n",
       "        }\n",
       "      }\n",
       "    }, 10, root)\n",
       "  }\n",
       "})(window);"
      ],
      "application/vnd.bokehjs_exec.v0+json": ""
     },
     "metadata": {
      "application/vnd.bokehjs_exec.v0+json": {
       "id": "1003"
      }
     },
     "output_type": "display_data"
    }
   ],
   "source": [
    "# Plot usage per day: group by date to get df_usage\n",
    "df_usage = df.groupby(df.created).count().reset_index()\n",
    "\n",
    "p1 = figure(x_axis_type=\"datetime\", title=\"Number of Vaximap requests per date\", plot_width=800, plot_height=300)\n",
    "p1.grid.grid_line_alpha = 0.3\n",
    "p1.xaxis.axis_label = 'Date'\n",
    "p1.yaxis.axis_label = 'Request Frequency'\n",
    "p1.line(df_usage.created, df_usage.n_patients)\n",
    "show(p1)"
   ]
  },
  {
   "cell_type": "code",
   "execution_count": 29,
   "metadata": {},
   "outputs": [
    {
     "name": "stdout",
     "output_type": "stream",
     "text": [
      "n_clusters: \n",
      "Number of distinct categories = 31 \n",
      "Majority class = '1' with 2871 (49%) of samples.\n",
      "Number of nulls in feature = 0 (0.0%)\n"
     ]
    },
    {
     "data": {
      "image/png": "[encoded data removed]",
      "text/plain": [
       "<Figure size 1080x288 with 1 Axes>"
      ]
     },
     "metadata": {
      "needs_background": "light"
     },
     "output_type": "display_data"
    },
    {
     "name": "stdout",
     "output_type": "stream",
     "text": [
      "mode: \n",
      "Number of distinct categories = 2 \n",
      "Majority class = 'driving' with 5761 (99%) of samples.\n",
      "Number of nulls in feature = 0 (0.0%)\n"
     ]
    },
    {
     "data": {
      "image/png": "[encoded data removed]",
      "text/plain": [
       "<Figure size 1080x288 with 1 Axes>"
      ]
     },
     "metadata": {
      "needs_background": "light"
     },
     "output_type": "display_data"
    }
   ],
   "source": [
    "# Categorical variables\n",
    "categorical_features = ['n_clusters', 'mode'] \n",
    "univariateCategorical(df, categorical_features)"
   ]
  },
  {
   "cell_type": "code",
   "execution_count": 69,
   "metadata": {},
   "outputs": [
    {
     "data": {
      "text/plain": [
       "(array([211., 286., 688., 852., 129., 189., 201., 114., 136.,  65.]),\n",
       " array([ 3. ,  5.2,  7.4,  9.6, 11.8, 14. , 16.2, 18.4, 20.6, 22.8, 25. ]),\n",
       " <BarContainer object of 10 artists>)"
      ]
     },
     "execution_count": 69,
     "metadata": {},
     "output_type": "execute_result"
    },
    {
     "data": {
      "image/png": "[encoded data removed]",
      "text/plain": [
       "<Figure size 432x288 with 1 Axes>"
      ]
     },
     "metadata": {
      "needs_background": "light"
     },
     "output_type": "display_data"
    }
   ],
   "source": [
    "# Since many sets were just put into a single cluster, we check to see what max_cluster_size is picked\n",
    "plt.title(\"Cluster size for sets where n_cluster = 1\")\n",
    "plt.hist(df.loc[df.n_clusters == 1][\"max_cluster_size\"], color=\"black\")"
   ]
  },
  {
   "cell_type": "code",
   "execution_count": 38,
   "metadata": {},
   "outputs": [
    {
     "data": {
      "text/html": [
       "<div>\n",
       "<style scoped>\n",
       "    .dataframe tbody tr th:only-of-type {\n",
       "        vertical-align: middle;\n",
       "    }\n",
       "\n",
       "    .dataframe tbody tr th {\n",
       "        vertical-align: top;\n",
       "    }\n",
       "\n",
       "    .dataframe thead th {\n",
       "        text-align: right;\n",
       "    }\n",
       "</style>\n",
       "<table border=\"1\" class=\"dataframe\">\n",
       "  <thead>\n",
       "    <tr style=\"text-align: right;\">\n",
       "      <th></th>\n",
       "      <th>n_patients</th>\n",
       "      <th>n_clusters</th>\n",
       "      <th>max_cluster_size</th>\n",
       "    </tr>\n",
       "  </thead>\n",
       "  <tbody>\n",
       "    <tr>\n",
       "      <th>count</th>\n",
       "      <td>5809.00</td>\n",
       "      <td>5809.00</td>\n",
       "      <td>5809.00</td>\n",
       "    </tr>\n",
       "    <tr>\n",
       "      <th>mean</th>\n",
       "      <td>31.00</td>\n",
       "      <td>3.00</td>\n",
       "      <td>12.00</td>\n",
       "    </tr>\n",
       "    <tr>\n",
       "      <th>std</th>\n",
       "      <td>41.00</td>\n",
       "      <td>3.00</td>\n",
       "      <td>5.00</td>\n",
       "    </tr>\n",
       "    <tr>\n",
       "      <th>min</th>\n",
       "      <td>3.00</td>\n",
       "      <td>1.00</td>\n",
       "      <td>3.00</td>\n",
       "    </tr>\n",
       "    <tr>\n",
       "      <th>25%</th>\n",
       "      <td>10.00</td>\n",
       "      <td>1.00</td>\n",
       "      <td>9.00</td>\n",
       "    </tr>\n",
       "    <tr>\n",
       "      <th>50%</th>\n",
       "      <td>18.00</td>\n",
       "      <td>2.00</td>\n",
       "      <td>11.00</td>\n",
       "    </tr>\n",
       "    <tr>\n",
       "      <th>75%</th>\n",
       "      <td>32.00</td>\n",
       "      <td>3.00</td>\n",
       "      <td>12.00</td>\n",
       "    </tr>\n",
       "    <tr>\n",
       "      <th>max</th>\n",
       "      <td>300.00</td>\n",
       "      <td>33.00</td>\n",
       "      <td>25.00</td>\n",
       "    </tr>\n",
       "    <tr>\n",
       "      <th>median</th>\n",
       "      <td>18.00</td>\n",
       "      <td>2.00</td>\n",
       "      <td>11.00</td>\n",
       "    </tr>\n",
       "    <tr>\n",
       "      <th>skew</th>\n",
       "      <td>3.59</td>\n",
       "      <td>3.56</td>\n",
       "      <td>1.09</td>\n",
       "    </tr>\n",
       "    <tr>\n",
       "      <th>kurtosis</th>\n",
       "      <td>15.44</td>\n",
       "      <td>16.51</td>\n",
       "      <td>0.64</td>\n",
       "    </tr>\n",
       "    <tr>\n",
       "      <th>normality: statistic</th>\n",
       "      <td>4372.64</td>\n",
       "      <td>4389.46</td>\n",
       "      <td>841.71</td>\n",
       "    </tr>\n",
       "    <tr>\n",
       "      <th>normality: p-value</th>\n",
       "      <td>0.00</td>\n",
       "      <td>0.00</td>\n",
       "      <td>0.00</td>\n",
       "    </tr>\n",
       "  </tbody>\n",
       "</table>\n",
       "</div>"
      ],
      "text/plain": [
       "                      n_patients  n_clusters  max_cluster_size\n",
       "count                    5809.00     5809.00           5809.00\n",
       "mean                       31.00        3.00             12.00\n",
       "std                        41.00        3.00              5.00\n",
       "min                         3.00        1.00              3.00\n",
       "25%                        10.00        1.00              9.00\n",
       "50%                        18.00        2.00             11.00\n",
       "75%                        32.00        3.00             12.00\n",
       "max                       300.00       33.00             25.00\n",
       "median                     18.00        2.00             11.00\n",
       "skew                        3.59        3.56              1.09\n",
       "kurtosis                   15.44       16.51              0.64\n",
       "normality: statistic     4372.64     4389.46            841.71\n",
       "normality: p-value          0.00        0.00              0.00"
      ]
     },
     "execution_count": 38,
     "metadata": {},
     "output_type": "execute_result"
    },
    {
     "data": {
      "image/png": "[encoded data removed]",
      "text/plain": [
       "<Figure size 1440x576 with 3 Axes>"
      ]
     },
     "metadata": {
      "needs_background": "light"
     },
     "output_type": "display_data"
    }
   ],
   "source": [
    "# Numerical variables\n",
    "numerical_features = ['n_patients', 'n_clusters', 'max_cluster_size'] \n",
    "univariateContinuous(df, numerical_features)"
   ]
  },
  {
   "cell_type": "code",
   "execution_count": 39,
   "metadata": {},
   "outputs": [
    {
     "data": {
      "image/png": "[encoded data removed]",
      "text/plain": [
       "<Figure size 1080x504 with 1 Axes>"
      ]
     },
     "metadata": {
      "needs_background": "light"
     },
     "output_type": "display_data"
    }
   ],
   "source": [
    "# Plot bivariate analysis between n_clusters and max_cluster_size\n",
    "bivariateContinuous(df, \"n_clusters\", \"max_cluster_size\", corr_type=\"spearman\")"
   ]
  },
  {
   "cell_type": "markdown",
   "metadata": {},
   "source": [
    "### Observations:\n",
    "\n",
    "* Mean n_patients = 31 and long tail, kurtosis = 15.45\n",
    "* Most requests seemed to have used the website default value D = 11 for cluster size, secondary peak at D = 9 (explained by fact that AstraZeneca has 9 vials). 3 <= D <= 25 (which is what we need, probably due to form constraints set on vaximap website)"
   ]
  },
  {
   "cell_type": "markdown",
   "metadata": {},
   "source": [
    "## Assessing Patient Clustering"
   ]
  },
  {
   "cell_type": "markdown",
   "metadata": {},
   "source": [
    "Evaluating how well the iterative K means works. We compare clustering to non-optimised grouping to see how much time is saved in Delivery time (total time = Planning time + Delivery time, in this analysis not focusing on planning time)."
   ]
  },
  {
   "cell_type": "markdown",
   "metadata": {},
   "source": [
    "Feedback from team:\n",
    "* Max distance between points probably less than 20 miles so curvature does not kick in\n",
    "* Check mean cluster diameter (differences in London vs remote)\n",
    "* Duplicates due to either failed to save or visiting again\n",
    "* GPs have no way of knowing who else is seeing their patients in the community"
   ]
  },
  {
   "cell_type": "code",
   "execution_count": 40,
   "metadata": {},
   "outputs": [],
   "source": [
    "# explode dataset to only look at latlongs and clusters: locdf\n",
    "latlongs_in_clusters = []\n",
    "latlong_ids = []\n",
    "\n",
    "\n",
    "for index, row in df0.iterrows():\n",
    "    latlong = row[\"latlong\"]\n",
    "    clusters = row[\"clusters\"]\n",
    "    record_ids = row[\"record_id\"]\n",
    "    record_index = index\n",
    "    \n",
    "    for i in range(len(clusters)):\n",
    "        cluster_no = str(i + 1)\n",
    "        latlongs_in_cluster = []\n",
    "        for j in clusters[i]:\n",
    "            latlong_ids.append([latlong[j],\n",
    "                                [sum(x) for x in list(zip(centre_lon_lat, latlong[j][::-1]))],\n",
    "                                str(record_ids),\n",
    "                                str(record_index) + \"_\" + cluster_no,\n",
    "                                str(record_index) + \"_\" + cluster_no + \"_\" + str(clusters[i].index(j)),\n",
    "                                j, record_index])\n",
    "            latlongs_in_cluster.append(latlong[j])\n",
    "        latlongs_in_clusters.append([latlongs_in_cluster, index, str(index) + \"_\" + cluster_no])\n",
    "\n",
    "# split by individial latlong\n",
    "locdf = pd.DataFrame(data={\"latlong\" : [x[0] for x in latlong_ids],\n",
    "                    \"geometry\" : [Point(x[1]) for x in latlong_ids],\n",
    "                   \"record_id\" : [x[2] for x in latlong_ids],\n",
    "                   \"cluster_no\" : [x[3] for x in latlong_ids],\n",
    "                   \"id\" : [x[4] for x in latlong_ids],\n",
    "                    \"patient_index\" : [x[5] for x in latlong_ids],\n",
    "                          \"record_index\" : [x[6] for x in latlong_ids]})\n",
    "\n",
    "# # split by clusters - not necessary\n",
    "# locdf2 = pd.DataFrame(data={\"latlongs\" : [x[0] for x in latlongs_in_clusters],\n",
    "#                    \"submission\" : [x[2] for x in latlongs_in_clusters],\n",
    "#                    \"cluster_no\" : [x[3] for x in latlongs_in_clusters],\n",
    "#                    \"geometry\" : [Point(x[1][0]) if len(x[0]) == 1  \\\n",
    "#                                  else LineString(x[1]) if len(x[0]) == 2 \\\n",
    "#                                  else Polygon(x[1]) for x in latlongs_in_clusters],\n",
    "#                    \"cluster_length\" : [len(x[0]) for x in latlongs_in_clusters]\n",
    "#                    })\n",
    "\n",
    "# convert to geopandas dataframe\n",
    "locdf = geopandas.GeoDataFrame(locdf).set_crs(\"EPSG:4326\")\n",
    "# locdf2 = geopandas.GeoDataFrame(locdf2).set_crs(\"EPSG:4326\")\n"
   ]
  },
  {
   "cell_type": "code",
   "execution_count": 41,
   "metadata": {},
   "outputs": [
    {
     "data": {
      "text/html": [
       "<div>\n",
       "<style scoped>\n",
       "    .dataframe tbody tr th:only-of-type {\n",
       "        vertical-align: middle;\n",
       "    }\n",
       "\n",
       "    .dataframe tbody tr th {\n",
       "        vertical-align: top;\n",
       "    }\n",
       "\n",
       "    .dataframe thead th {\n",
       "        text-align: right;\n",
       "    }\n",
       "</style>\n",
       "<table border=\"1\" class=\"dataframe\">\n",
       "  <thead>\n",
       "    <tr style=\"text-align: right;\">\n",
       "      <th></th>\n",
       "      <th>latlong</th>\n",
       "      <th>geometry</th>\n",
       "      <th>record_id</th>\n",
       "      <th>cluster_no</th>\n",
       "      <th>id</th>\n",
       "      <th>patient_index</th>\n",
       "      <th>record_index</th>\n",
       "    </tr>\n",
       "  </thead>\n",
       "  <tbody>\n",
       "    <tr>\n",
       "      <th>0</th>\n",
       "      <td>[0.0005629166666665242, 0.018650416666667002]</td>\n",
       "      <td>POINT (-1.18135 53.00056)</td>\n",
       "      <td>3081</td>\n",
       "      <td>0_1</td>\n",
       "      <td>0_1_0</td>\n",
       "      <td>2</td>\n",
       "      <td>0</td>\n",
       "    </tr>\n",
       "  </tbody>\n",
       "</table>\n",
       "</div>"
      ],
      "text/plain": [
       "                                         latlong                   geometry  \\\n",
       "0  [0.0005629166666665242, 0.018650416666667002]  POINT (-1.18135 53.00056)   \n",
       "\n",
       "  record_id cluster_no     id  patient_index  record_index  \n",
       "0      3081        0_1  0_1_0              2             0  "
      ]
     },
     "execution_count": 41,
     "metadata": {},
     "output_type": "execute_result"
    }
   ],
   "source": [
    "# print example of locdf\n",
    "locdf.head(1)"
   ]
  },
  {
   "cell_type": "code",
   "execution_count": 42,
   "metadata": {},
   "outputs": [],
   "source": [
    "# calculate distances:\n",
    "\n",
    "# convert from longlat to metres\n",
    "locdf1 = locdf.to_crs(\"EPSG:3857\").sort_values(\"id\") \n",
    "\n",
    "# calculate distance of adjacent rows\n",
    "locdf1[\"distances\"] = locdf1.geometry.distance(locdf1.geometry.shift(1)) \n",
    "\n",
    "# remove distances where succeeding row is part of a new cluster\n",
    "locdf1[\"distances\"] = np.where((locdf1.cluster_no == locdf1.cluster_no.shift(1)), locdf1[\"distances\"], np.nan)"
   ]
  },
  {
   "cell_type": "markdown",
   "metadata": {},
   "source": [
    "Data cleansing required next as some longlat relative coordinates are far too displaced, causing unrealistic distances"
   ]
  },
  {
   "cell_type": "code",
   "execution_count": 46,
   "metadata": {},
   "outputs": [
    {
     "data": {
      "text/html": [
       "<div>\n",
       "<style scoped>\n",
       "    .dataframe tbody tr th:only-of-type {\n",
       "        vertical-align: middle;\n",
       "    }\n",
       "\n",
       "    .dataframe tbody tr th {\n",
       "        vertical-align: top;\n",
       "    }\n",
       "\n",
       "    .dataframe thead th {\n",
       "        text-align: right;\n",
       "    }\n",
       "</style>\n",
       "<table border=\"1\" class=\"dataframe\">\n",
       "  <thead>\n",
       "    <tr style=\"text-align: right;\">\n",
       "      <th></th>\n",
       "      <th>latlong</th>\n",
       "      <th>geometry</th>\n",
       "      <th>record_id</th>\n",
       "      <th>cluster_no</th>\n",
       "      <th>id</th>\n",
       "      <th>patient_index</th>\n",
       "      <th>record_index</th>\n",
       "      <th>distances</th>\n",
       "    </tr>\n",
       "  </thead>\n",
       "  <tbody>\n",
       "    <tr>\n",
       "      <th>220133</th>\n",
       "      <td>[2.086775628266601, -3.147616644754124]</td>\n",
       "      <td>POINT (-483974.471 7378725.739)</td>\n",
       "      <td>3</td>\n",
       "      <td>6074_1</td>\n",
       "      <td>6074_1_9</td>\n",
       "      <td>4</td>\n",
       "      <td>6074</td>\n",
       "      <td>4.799910e+06</td>\n",
       "    </tr>\n",
       "    <tr>\n",
       "      <th>220102</th>\n",
       "      <td>[2.086775628266601, -3.147616644754124]</td>\n",
       "      <td>POINT (-483974.471 7378725.739)</td>\n",
       "      <td>3</td>\n",
       "      <td>6072_1</td>\n",
       "      <td>6072_1_9</td>\n",
       "      <td>4</td>\n",
       "      <td>6072</td>\n",
       "      <td>4.799910e+06</td>\n",
       "    </tr>\n",
       "  </tbody>\n",
       "</table>\n",
       "</div>"
      ],
      "text/plain": [
       "                                        latlong  \\\n",
       "220133  [2.086775628266601, -3.147616644754124]   \n",
       "220102  [2.086775628266601, -3.147616644754124]   \n",
       "\n",
       "                               geometry record_id cluster_no        id  \\\n",
       "220133  POINT (-483974.471 7378725.739)         3     6074_1  6074_1_9   \n",
       "220102  POINT (-483974.471 7378725.739)         3     6072_1  6072_1_9   \n",
       "\n",
       "        patient_index  record_index     distances  \n",
       "220133              4          6074  4.799910e+06  \n",
       "220102              4          6072  4.799910e+06  "
      ]
     },
     "execution_count": 46,
     "metadata": {},
     "output_type": "execute_result"
    }
   ],
   "source": [
    "# example with large distance\n",
    "locdf1.loc[locdf1.record_id == \"3\"].sort_values(\"distances\", ascending=False)[:2]"
   ]
  },
  {
   "cell_type": "code",
   "execution_count": 238,
   "metadata": {},
   "outputs": [
    {
     "data": {
      "text/html": [
       "<div>\n",
       "<style scoped>\n",
       "    .dataframe tbody tr th:only-of-type {\n",
       "        vertical-align: middle;\n",
       "    }\n",
       "\n",
       "    .dataframe tbody tr th {\n",
       "        vertical-align: top;\n",
       "    }\n",
       "\n",
       "    .dataframe thead th {\n",
       "        text-align: right;\n",
       "    }\n",
       "</style>\n",
       "<table border=\"1\" class=\"dataframe\">\n",
       "  <thead>\n",
       "    <tr style=\"text-align: right;\">\n",
       "      <th></th>\n",
       "      <th>n_patients</th>\n",
       "      <th>n_clusters</th>\n",
       "      <th>latlong</th>\n",
       "      <th>clusters</th>\n",
       "      <th>region</th>\n",
       "      <th>postcodes</th>\n",
       "      <th>created</th>\n",
       "      <th>mode</th>\n",
       "      <th>record_id</th>\n",
       "    </tr>\n",
       "  </thead>\n",
       "  <tbody>\n",
       "    <tr>\n",
       "      <th>6072</th>\n",
       "      <td>10</td>\n",
       "      <td>1</td>\n",
       "      <td>[[2.08087414887207, -3.1204763505982402], [2.0790434488720706, -3.10461375059824], [2.07788084887207, -3.1142305505982404], [2.073906448872073, -3.1185366505982404], [2.086775628266601, -3.147616644754124], [2.073569448872071, -3.12093015059824], [2.085673180756835, -3.1146086504599575], [2.0791432488720716, -3.11963465059824], [-18.71316575112793, 28.06691634940176], [2.0762993488720696, -3.10626895059824]]</td>\n",
       "      <td>[[5, 3, 7, 0, 1, 9, 2, 6, 8, 4]]</td>\n",
       "      <td>UK</td>\n",
       "      <td>{}</td>\n",
       "      <td>2021-02-12</td>\n",
       "      <td>driving</td>\n",
       "      <td>3</td>\n",
       "    </tr>\n",
       "    <tr>\n",
       "      <th>6074</th>\n",
       "      <td>10</td>\n",
       "      <td>1</td>\n",
       "      <td>[[2.08087414887207, -3.1204763505982402], [2.0790434488720706, -3.10461375059824], [2.07788084887207, -3.1142305505982404], [2.073906448872073, -3.1185366505982404], [2.086775628266601, -3.147616644754124], [2.073569448872071, -3.12093015059824], [2.085673180756835, -3.1146086504599575], [2.0791432488720716, -3.11963465059824], [-18.71316575112793, 28.06691634940176], [2.0762993488720696, -3.10626895059824]]</td>\n",
       "      <td>[[5, 3, 7, 0, 1, 9, 2, 6, 8, 4]]</td>\n",
       "      <td>UK</td>\n",
       "      <td>{}</td>\n",
       "      <td>2021-02-12</td>\n",
       "      <td>driving</td>\n",
       "      <td>3</td>\n",
       "    </tr>\n",
       "  </tbody>\n",
       "</table>\n",
       "</div>"
      ],
      "text/plain": [
       "      n_patients  n_clusters  \\\n",
       "6072          10           1   \n",
       "6074          10           1   \n",
       "\n",
       "                                                                                                                                                                                                                                                                                                                                                                                                                          latlong  \\\n",
       "6072  [[2.08087414887207, -3.1204763505982402], [2.0790434488720706, -3.10461375059824], [2.07788084887207, -3.1142305505982404], [2.073906448872073, -3.1185366505982404], [2.086775628266601, -3.147616644754124], [2.073569448872071, -3.12093015059824], [2.085673180756835, -3.1146086504599575], [2.0791432488720716, -3.11963465059824], [-18.71316575112793, 28.06691634940176], [2.0762993488720696, -3.10626895059824]]   \n",
       "6074  [[2.08087414887207, -3.1204763505982402], [2.0790434488720706, -3.10461375059824], [2.07788084887207, -3.1142305505982404], [2.073906448872073, -3.1185366505982404], [2.086775628266601, -3.147616644754124], [2.073569448872071, -3.12093015059824], [2.085673180756835, -3.1146086504599575], [2.0791432488720716, -3.11963465059824], [-18.71316575112793, 28.06691634940176], [2.0762993488720696, -3.10626895059824]]   \n",
       "\n",
       "                              clusters region postcodes    created     mode  \\\n",
       "6072  [[5, 3, 7, 0, 1, 9, 2, 6, 8, 4]]     UK        {} 2021-02-12  driving   \n",
       "6074  [[5, 3, 7, 0, 1, 9, 2, 6, 8, 4]]     UK        {} 2021-02-12  driving   \n",
       "\n",
       "      record_id  \n",
       "6072          3  \n",
       "6074          3  "
      ]
     },
     "execution_count": 238,
     "metadata": {},
     "output_type": "execute_result"
    }
   ],
   "source": [
    "# example with large distance: raw dataset\n",
    "dataset.loc[dataset.record_id == 3]"
   ]
  },
  {
   "cell_type": "code",
   "execution_count": 76,
   "metadata": {},
   "outputs": [
    {
     "name": "stdout",
     "output_type": "stream",
     "text": [
      "Distance travelled VaxiMap = 220,000 Miles\n",
      "Total Hours VaxiMap = 7,334 h\n"
     ]
    }
   ],
   "source": [
    "# filter out distance threshold\n",
    "\n",
    "df.record_id = df.record_id.astype(\"str\")\n",
    "df0.record_id = df0.record_id.astype(\"str\")\n",
    "\n",
    "\n",
    "locdf2 = locdf1.loc[(locdf1.distances <= distance_threshold) | (locdf1.distances.isnull())].sort_values(\"id\")\\\n",
    ".merge(df.reset_index()[[\"index\", \"record_id\", \"max_cluster_size\"]]\\\n",
    "       .rename(columns={\"index\" : \"record_index\"}).drop_duplicates(subset=[\"record_id\"]), on=[\"record_index\", \"record_id\"])\n",
    "\n",
    "\n",
    "print(\"Distance travelled VaxiMap = {:,} Miles\"\\\n",
    "      .format(int(round((locdf2.distances.sum() * detour_index) / (1.6 * 1000), -3))))\n",
    "print(\"Total Hours VaxiMap = {:,} h\"\\\n",
    "      .format(int(round((locdf2.distances.sum() * detour_index) / (1.6 * 1000 * avg_road_speed), 0))))\n",
    "\n",
    "# locdf2 = locdf1.loc[(locdf1.distances <= distance_threshold) | (locdf1.distances.isnull())].sort_values(\"id\")\\\n",
    "# .merge(df0.reset_index()[[\"index\", \"record_id\", \"max_cluster_size\"]]\\\n",
    "#        .rename(columns={\"index\" : \"record_index\"}) , on=[\"record_index\", \"record_id\"]).reset_index()\n",
    "\n",
    "# print(\"Distance travelled = {:,} Miles (duplicates)\"\\\n",
    "#       .format(int(round((locdf2.distances.sum() * detour_index) / (1.6 * 1000), -3))))"
   ]
  },
  {
   "cell_type": "code",
   "execution_count": 66,
   "metadata": {},
   "outputs": [
    {
     "data": {
      "text/plain": [
       "(array([7.346e+03, 4.843e+03, 1.986e+03, 9.120e+02, 4.500e+02, 2.370e+02,\n",
       "        1.440e+02, 6.800e+01, 3.900e+01, 2.600e+01, 2.500e+01, 1.600e+01,\n",
       "        1.400e+01, 1.300e+01, 5.000e+00, 4.000e+00, 1.000e+00, 5.000e+00,\n",
       "        1.000e+00, 3.000e+00]),\n",
       " array([ 0.        ,  0.92571724,  1.85143449,  2.77715173,  3.70286898,\n",
       "         4.62858622,  5.55430347,  6.48002071,  7.40573796,  8.3314552 ,\n",
       "         9.25717245, 10.18288969, 11.10860694, 12.03432418, 12.96004143,\n",
       "        13.88575867, 14.81147592, 15.73719316, 16.66291041, 17.58862765,\n",
       "        18.5143449 ]),\n",
       " <BarContainer object of 20 artists>)"
      ]
     },
     "execution_count": 66,
     "metadata": {},
     "output_type": "execute_result"
    },
    {
     "data": {
      "image/png": "[encoded data removed]",
      "text/plain": [
       "<Figure size 432x288 with 1 Axes>"
      ]
     },
     "metadata": {
      "needs_background": "light"
     },
     "output_type": "display_data"
    }
   ],
   "source": [
    "dist_df = locdf2.loc[(locdf2[\"distances\"].notnull())].groupby(\"cluster_no\").mean()\n",
    "\n",
    "plt.title(\"Histogram of distances between adjacent patients\")\n",
    "plt.xlabel(\"Distance between patients (miles)\")\n",
    "plt.hist((dist_df[\"distances\"] * detour_index) /(1.6 * 1000), bins=20, color=\"orange\")"
   ]
  },
  {
   "cell_type": "markdown",
   "metadata": {},
   "source": [
    "### Unoptimised: EMIS ordering (descoped from paper)"
   ]
  },
  {
   "cell_type": "code",
   "execution_count": 67,
   "metadata": {},
   "outputs": [
    {
     "name": "stdout",
     "output_type": "stream",
     "text": [
      "Wall time: 23.3 s\n"
     ]
    }
   ],
   "source": [
    "%%time\n",
    "locdf3 = locdf2.sort_values([\"record_index\", \"patient_index\"])\n",
    "\n",
    "unoptimised = []\n",
    "\n",
    "record_index = \"\"\n",
    "cluster_no = 1\n",
    "\n",
    "for index, row in locdf3.iterrows():\n",
    "    if row[\"record_index\"] != record_index:\n",
    "        record_index = row[\"record_index\"]\n",
    "        cluster_no = 1\n",
    "    if row[\"patient_index\"] == row[\"max_cluster_size\"]:\n",
    "        cluster_no += 1\n",
    "    unoptimised.append(str(record_index) + \"_\" + str(cluster_no))\n",
    "            \n",
    "locdf3[\"cluster_no\"] = unoptimised"
   ]
  },
  {
   "cell_type": "code",
   "execution_count": 77,
   "metadata": {},
   "outputs": [
    {
     "name": "stdout",
     "output_type": "stream",
     "text": [
      "Distance travelled unoptimised EMIS = 519,000 Miles\n",
      "Total Hours unoptimised EMIS = 17,295 h\n"
     ]
    }
   ],
   "source": [
    "# recalculate unoptimised distances\n",
    "locdf3[\"distances\"] = locdf3.geometry.distance(locdf3.geometry.shift(1))\n",
    "locdf3[\"distances\"] = np.where((locdf3.cluster_no == locdf3.cluster_no.shift(1)), locdf3[\"distances\"], np.nan)\n",
    "\n",
    "print(\"Distance travelled unoptimised EMIS = {:,} Miles\".format(int(round((locdf3.distances.sum() * detour_index) / (1.6 * 1000), -3))))\n",
    "print(\"Total Hours unoptimised EMIS = {:,} h\"\\\n",
    "      .format(int(round((locdf3.distances.sum() * detour_index) / (1.6 * 1000 * avg_road_speed), 0))))"
   ]
  },
  {
   "cell_type": "markdown",
   "metadata": {},
   "source": [
    "### Random assignment inter + intra cluster\n"
   ]
  },
  {
   "cell_type": "code",
   "execution_count": 78,
   "metadata": {},
   "outputs": [],
   "source": [
    "dist_distances_1 = []"
   ]
  },
  {
   "cell_type": "code",
   "execution_count": 311,
   "metadata": {},
   "outputs": [
    {
     "name": "stderr",
     "output_type": "stream",
     "text": [
      "100%|████████████████████████████████████████████████████████████████████████████████████| 1/1 [00:24<00:00, 24.13s/it]"
     ]
    },
    {
     "name": "stdout",
     "output_type": "stream",
     "text": [
      "Wall time: 24.1 s\n"
     ]
    },
    {
     "name": "stderr",
     "output_type": "stream",
     "text": [
      "\n"
     ]
    }
   ],
   "source": [
    "%%time\n",
    "\n",
    "for i in tqdm(range(1, 2, 1)):\n",
    "    \n",
    "    locdf4 = locdf2.sample(frac=1).sort_values(\"record_index\")\n",
    "\n",
    "    unoptimised = []\n",
    "\n",
    "    record_index = \"\"\n",
    "    cluster_no = 1\n",
    "    patient_no = 1\n",
    "\n",
    "    for index, row in locdf4.iterrows():\n",
    "        if row[\"record_index\"] != record_index:\n",
    "            record_index = row[\"record_index\"]\n",
    "            cluster_no = 1\n",
    "            patient_no = 1\n",
    "        if patient_no > row[\"max_cluster_size\"]:\n",
    "            cluster_no += 1\n",
    "            patient_no = 1\n",
    "        if patient_no <= row[\"max_cluster_size\"]:\n",
    "            patient_no += 1\n",
    "        unoptimised.append(str(record_index) + \"_\" + str(cluster_no))\n",
    "\n",
    "    locdf4[\"cluster_no\"] = unoptimised\n",
    "    \n",
    "    # recalculate unoptimised distances\n",
    "    locdf4[\"distances\"] = locdf4.geometry.distance(locdf4.geometry.shift(1))\n",
    "    locdf4[\"distances\"] = np.where((locdf4.cluster_no == locdf4.cluster_no.shift(1)), locdf4[\"distances\"], np.nan)\n",
    "\n",
    "    \n",
    "    dist_distances_1.append((locdf4.distances.sum() * detour_index) / (1.6 * 1000))"
   ]
  },
  {
   "cell_type": "code",
   "execution_count": 312,
   "metadata": {},
   "outputs": [
    {
     "data": {
      "text/plain": [
       "270"
      ]
     },
     "execution_count": 312,
     "metadata": {},
     "output_type": "execute_result"
    }
   ],
   "source": [
    "len(dist_distances_1)"
   ]
  },
  {
   "cell_type": "code",
   "execution_count": 313,
   "metadata": {},
   "outputs": [
    {
     "data": {
      "text/plain": [
       "(array([ 4.,  2.,  2.,  6.,  5.,  3.,  5.,  3., 11.,  9., 15., 14., 28.,\n",
       "        36., 32., 44., 22., 20.,  4.,  5.]),\n",
       " array([749.48024493, 750.87764865, 752.27505237, 753.67245608,\n",
       "        755.0698598 , 756.46726351, 757.86466723, 759.26207095,\n",
       "        760.65947466, 762.05687838, 763.45428209, 764.85168581,\n",
       "        766.24908952, 767.64649324, 769.04389696, 770.44130067,\n",
       "        771.83870439, 773.2361081 , 774.63351182, 776.03091554,\n",
       "        777.42831925]),\n",
       " <BarContainer object of 20 artists>)"
      ]
     },
     "execution_count": 313,
     "metadata": {},
     "output_type": "execute_result"
    },
    {
     "data": {
      "image/png": "[encoded data removed]",
      "text/plain": [
       "<Figure size 432x288 with 1 Axes>"
      ]
     },
     "metadata": {
      "needs_background": "light"
     },
     "output_type": "display_data"
    }
   ],
   "source": [
    "plt.title(\"Histogram of total distance travelled \\n for simulated unoptimised: random inter/intra-cluster \")\n",
    "plt.xlabel(\"Total Distance Travelled ('000s miles)\")\n",
    "plt.hist([(x / 1000) for x in dist_distances_1], bins=20, color=\"green\")"
   ]
  },
  {
   "cell_type": "code",
   "execution_count": 315,
   "metadata": {},
   "outputs": [
    {
     "name": "stdout",
     "output_type": "stream",
     "text": [
      "Lilliefors statistic, p-value = (0.12697379498611222, 0.0009999999999998899)\n",
      "Shapiro-Wilk test statistic, W: 0.9155565500259399 \n",
      " p-value: 3.260465855636774e-11\n"
     ]
    }
   ],
   "source": [
    "# test data for nomality: lilliefors / shapiro-Wilks tests\n",
    "\n",
    "# lilliefors\n",
    "print(\"Lilliefors statistic, p-value = {}\".format(sm.stats.lilliefors(dist_distances_1)))\n",
    "\n",
    "# shapiro\n",
    "W, p = shapiro(dist_distances_1)\n",
    "print(\"Shapiro-Wilk test statistic, W:\", W, \"\\n\", \"p-value:\", p)"
   ]
  },
  {
   "cell_type": "code",
   "execution_count": 320,
   "metadata": {},
   "outputs": [
    {
     "name": "stdout",
     "output_type": "stream",
     "text": [
      "Distance travelled unoptimised inter + intra = 767,549 Miles\n",
      "Total Hours unoptimised inter + intra = 25,585 h\n"
     ]
    }
   ],
   "source": [
    "# average distance travlled / stats\n",
    "print(\"Distance travelled unoptimised inter + intra = {:,} Miles\".format(int(round(np.mean(dist_distances_1)))))\n",
    "print(\"Total Hours unoptimised inter + intra = {:,} h\"\\\n",
    "      .format(int(round(np.mean(dist_distances_1) / avg_road_speed))))"
   ]
  },
  {
   "cell_type": "code",
   "execution_count": 300,
   "metadata": {},
   "outputs": [
    {
     "data": {
      "text/plain": [
       "0.0"
      ]
     },
     "execution_count": 300,
     "metadata": {},
     "output_type": "execute_result"
    }
   ],
   "source": [
    "# get improvement of optimised route\n",
    "stats.percentileofscore(dist_distances_1, 220000)"
   ]
  },
  {
   "cell_type": "code",
   "execution_count": 481,
   "metadata": {},
   "outputs": [],
   "source": [
    "# CHECKPOINT: Save run1 as textfile\n",
    "dist_distances_1_textfile = open(\"dist_distances_1.txt\", \"w\")\n",
    "for element in dist_distances_1:\n",
    "    dist_distances_1_textfile.write(str(element) + \"\\n\")\n",
    "dist_distances_1_textfile.close()"
   ]
  },
  {
   "cell_type": "code",
   "execution_count": 93,
   "metadata": {},
   "outputs": [],
   "source": [
    "# CHECKPOINT: Open Run 1 as textfile\n",
    "with open(\"dist_distances_1.txt\") as f:\n",
    "    dist_distances_1 = f.readlines()\n",
    "    \n",
    "dist_distances_1 = [float(x.replace(\"\\n\", \"\")) for x in dist_distances_1]"
   ]
  },
  {
   "cell_type": "markdown",
   "metadata": {},
   "source": [
    "### Random assignment intra cluster"
   ]
  },
  {
   "cell_type": "code",
   "execution_count": 80,
   "metadata": {},
   "outputs": [],
   "source": [
    "dist_distances_2 = []"
   ]
  },
  {
   "cell_type": "code",
   "execution_count": 83,
   "metadata": {},
   "outputs": [
    {
     "ename": "KeyboardInterrupt",
     "evalue": "",
     "output_type": "error",
     "traceback": [
      "\u001b[1;31m---------------------------------------------------------------------------\u001b[0m",
      "\u001b[1;31mKeyboardInterrupt\u001b[0m                         Traceback (most recent call last)",
      "\u001b[1;32m<timed exec>\u001b[0m in \u001b[0;36m<module>\u001b[1;34m\u001b[0m\n",
      "\u001b[1;32m~\\AppData\\Local\\Continuum\\anaconda3\\envs\\vaximap\\lib\\site-packages\\geopandas\\base.py\u001b[0m in \u001b[0;36mdistance\u001b[1;34m(self, other, align)\u001b[0m\n\u001b[0;32m   2072\u001b[0m         \u001b[0mdtype\u001b[0m\u001b[1;33m:\u001b[0m \u001b[0mfloat64\u001b[0m\u001b[1;33m\u001b[0m\u001b[1;33m\u001b[0m\u001b[0m\n\u001b[0;32m   2073\u001b[0m         \"\"\"\n\u001b[1;32m-> 2074\u001b[1;33m         \u001b[1;32mreturn\u001b[0m \u001b[0m_binary_op\u001b[0m\u001b[1;33m(\u001b[0m\u001b[1;34m\"distance\"\u001b[0m\u001b[1;33m,\u001b[0m \u001b[0mself\u001b[0m\u001b[1;33m,\u001b[0m \u001b[0mother\u001b[0m\u001b[1;33m,\u001b[0m \u001b[0malign\u001b[0m\u001b[1;33m)\u001b[0m\u001b[1;33m\u001b[0m\u001b[1;33m\u001b[0m\u001b[0m\n\u001b[0m\u001b[0;32m   2075\u001b[0m \u001b[1;33m\u001b[0m\u001b[0m\n\u001b[0;32m   2076\u001b[0m     \u001b[1;31m#\u001b[0m\u001b[1;33m\u001b[0m\u001b[1;33m\u001b[0m\u001b[1;33m\u001b[0m\u001b[0m\n",
      "\u001b[1;32m~\\AppData\\Local\\Continuum\\anaconda3\\envs\\vaximap\\lib\\site-packages\\geopandas\\base.py\u001b[0m in \u001b[0;36m_binary_op\u001b[1;34m(op, this, other, align, *args, **kwargs)\u001b[0m\n\u001b[0;32m     58\u001b[0m     \u001b[1;31m# type: (str, GeoSeries, GeoSeries, args/kwargs) -> Series[bool/float]\u001b[0m\u001b[1;33m\u001b[0m\u001b[1;33m\u001b[0m\u001b[1;33m\u001b[0m\u001b[0m\n\u001b[0;32m     59\u001b[0m     \u001b[1;34m\"\"\"Binary operation on GeoSeries objects that returns a Series\"\"\"\u001b[0m\u001b[1;33m\u001b[0m\u001b[1;33m\u001b[0m\u001b[0m\n\u001b[1;32m---> 60\u001b[1;33m     \u001b[0mdata\u001b[0m\u001b[1;33m,\u001b[0m \u001b[0mindex\u001b[0m \u001b[1;33m=\u001b[0m \u001b[0m_delegate_binary_method\u001b[0m\u001b[1;33m(\u001b[0m\u001b[0mop\u001b[0m\u001b[1;33m,\u001b[0m \u001b[0mthis\u001b[0m\u001b[1;33m,\u001b[0m \u001b[0mother\u001b[0m\u001b[1;33m,\u001b[0m \u001b[0malign\u001b[0m\u001b[1;33m,\u001b[0m \u001b[1;33m*\u001b[0m\u001b[0margs\u001b[0m\u001b[1;33m,\u001b[0m \u001b[1;33m**\u001b[0m\u001b[0mkwargs\u001b[0m\u001b[1;33m)\u001b[0m\u001b[1;33m\u001b[0m\u001b[1;33m\u001b[0m\u001b[0m\n\u001b[0m\u001b[0;32m     61\u001b[0m     \u001b[1;32mreturn\u001b[0m \u001b[0mSeries\u001b[0m\u001b[1;33m(\u001b[0m\u001b[0mdata\u001b[0m\u001b[1;33m,\u001b[0m \u001b[0mindex\u001b[0m\u001b[1;33m=\u001b[0m\u001b[0mindex\u001b[0m\u001b[1;33m)\u001b[0m\u001b[1;33m\u001b[0m\u001b[1;33m\u001b[0m\u001b[0m\n\u001b[0;32m     62\u001b[0m \u001b[1;33m\u001b[0m\u001b[0m\n",
      "\u001b[1;32m~\\AppData\\Local\\Continuum\\anaconda3\\envs\\vaximap\\lib\\site-packages\\geopandas\\base.py\u001b[0m in \u001b[0;36m_delegate_binary_method\u001b[1;34m(op, this, other, align, *args, **kwargs)\u001b[0m\n\u001b[0;32m     42\u001b[0m         \u001b[1;32mraise\u001b[0m \u001b[0mTypeError\u001b[0m\u001b[1;33m(\u001b[0m\u001b[0mtype\u001b[0m\u001b[1;33m(\u001b[0m\u001b[0mthis\u001b[0m\u001b[1;33m)\u001b[0m\u001b[1;33m,\u001b[0m \u001b[0mtype\u001b[0m\u001b[1;33m(\u001b[0m\u001b[0mother\u001b[0m\u001b[1;33m)\u001b[0m\u001b[1;33m)\u001b[0m\u001b[1;33m\u001b[0m\u001b[1;33m\u001b[0m\u001b[0m\n\u001b[0;32m     43\u001b[0m \u001b[1;33m\u001b[0m\u001b[0m\n\u001b[1;32m---> 44\u001b[1;33m     \u001b[0mdata\u001b[0m \u001b[1;33m=\u001b[0m \u001b[0mgetattr\u001b[0m\u001b[1;33m(\u001b[0m\u001b[0ma_this\u001b[0m\u001b[1;33m,\u001b[0m \u001b[0mop\u001b[0m\u001b[1;33m)\u001b[0m\u001b[1;33m(\u001b[0m\u001b[0mother\u001b[0m\u001b[1;33m,\u001b[0m \u001b[1;33m*\u001b[0m\u001b[0margs\u001b[0m\u001b[1;33m,\u001b[0m \u001b[1;33m**\u001b[0m\u001b[0mkwargs\u001b[0m\u001b[1;33m)\u001b[0m\u001b[1;33m\u001b[0m\u001b[1;33m\u001b[0m\u001b[0m\n\u001b[0m\u001b[0;32m     45\u001b[0m     \u001b[1;32mreturn\u001b[0m \u001b[0mdata\u001b[0m\u001b[1;33m,\u001b[0m \u001b[0mthis\u001b[0m\u001b[1;33m.\u001b[0m\u001b[0mindex\u001b[0m\u001b[1;33m\u001b[0m\u001b[1;33m\u001b[0m\u001b[0m\n\u001b[0;32m     46\u001b[0m \u001b[1;33m\u001b[0m\u001b[0m\n",
      "\u001b[1;32m~\\AppData\\Local\\Continuum\\anaconda3\\envs\\vaximap\\lib\\site-packages\\geopandas\\array.py\u001b[0m in \u001b[0;36mdistance\u001b[1;34m(self, other)\u001b[0m\n\u001b[0;32m    625\u001b[0m     \u001b[1;32mdef\u001b[0m \u001b[0mdistance\u001b[0m\u001b[1;33m(\u001b[0m\u001b[0mself\u001b[0m\u001b[1;33m,\u001b[0m \u001b[0mother\u001b[0m\u001b[1;33m)\u001b[0m\u001b[1;33m:\u001b[0m\u001b[1;33m\u001b[0m\u001b[1;33m\u001b[0m\u001b[0m\n\u001b[0;32m    626\u001b[0m         \u001b[0mself\u001b[0m\u001b[1;33m.\u001b[0m\u001b[0mcheck_geographic_crs\u001b[0m\u001b[1;33m(\u001b[0m\u001b[0mstacklevel\u001b[0m\u001b[1;33m=\u001b[0m\u001b[1;36m6\u001b[0m\u001b[1;33m)\u001b[0m\u001b[1;33m\u001b[0m\u001b[1;33m\u001b[0m\u001b[0m\n\u001b[1;32m--> 627\u001b[1;33m         \u001b[1;32mreturn\u001b[0m \u001b[0mself\u001b[0m\u001b[1;33m.\u001b[0m\u001b[0m_binary_method\u001b[0m\u001b[1;33m(\u001b[0m\u001b[1;34m\"distance\"\u001b[0m\u001b[1;33m,\u001b[0m \u001b[0mself\u001b[0m\u001b[1;33m,\u001b[0m \u001b[0mother\u001b[0m\u001b[1;33m)\u001b[0m\u001b[1;33m\u001b[0m\u001b[1;33m\u001b[0m\u001b[0m\n\u001b[0m\u001b[0;32m    628\u001b[0m \u001b[1;33m\u001b[0m\u001b[0m\n\u001b[0;32m    629\u001b[0m     \u001b[1;32mdef\u001b[0m \u001b[0mbuffer\u001b[0m\u001b[1;33m(\u001b[0m\u001b[0mself\u001b[0m\u001b[1;33m,\u001b[0m \u001b[0mdistance\u001b[0m\u001b[1;33m,\u001b[0m \u001b[0mresolution\u001b[0m\u001b[1;33m=\u001b[0m\u001b[1;36m16\u001b[0m\u001b[1;33m,\u001b[0m \u001b[1;33m**\u001b[0m\u001b[0mkwargs\u001b[0m\u001b[1;33m)\u001b[0m\u001b[1;33m:\u001b[0m\u001b[1;33m\u001b[0m\u001b[1;33m\u001b[0m\u001b[0m\n",
      "\u001b[1;32m~\\AppData\\Local\\Continuum\\anaconda3\\envs\\vaximap\\lib\\site-packages\\geopandas\\array.py\u001b[0m in \u001b[0;36m_binary_method\u001b[1;34m(op, left, right, **kwargs)\u001b[0m\n\u001b[0;32m    540\u001b[0m             \u001b[0mright\u001b[0m \u001b[1;33m=\u001b[0m \u001b[0mright\u001b[0m\u001b[1;33m.\u001b[0m\u001b[0mdata\u001b[0m\u001b[1;33m\u001b[0m\u001b[1;33m\u001b[0m\u001b[0m\n\u001b[0;32m    541\u001b[0m \u001b[1;33m\u001b[0m\u001b[0m\n\u001b[1;32m--> 542\u001b[1;33m         \u001b[1;32mreturn\u001b[0m \u001b[0mgetattr\u001b[0m\u001b[1;33m(\u001b[0m\u001b[0mvectorized\u001b[0m\u001b[1;33m,\u001b[0m \u001b[0mop\u001b[0m\u001b[1;33m)\u001b[0m\u001b[1;33m(\u001b[0m\u001b[0mleft\u001b[0m\u001b[1;33m.\u001b[0m\u001b[0mdata\u001b[0m\u001b[1;33m,\u001b[0m \u001b[0mright\u001b[0m\u001b[1;33m,\u001b[0m \u001b[1;33m**\u001b[0m\u001b[0mkwargs\u001b[0m\u001b[1;33m)\u001b[0m\u001b[1;33m\u001b[0m\u001b[1;33m\u001b[0m\u001b[0m\n\u001b[0m\u001b[0;32m    543\u001b[0m \u001b[1;33m\u001b[0m\u001b[0m\n\u001b[0;32m    544\u001b[0m     \u001b[1;32mdef\u001b[0m \u001b[0mcovers\u001b[0m\u001b[1;33m(\u001b[0m\u001b[0mself\u001b[0m\u001b[1;33m,\u001b[0m \u001b[0mother\u001b[0m\u001b[1;33m)\u001b[0m\u001b[1;33m:\u001b[0m\u001b[1;33m\u001b[0m\u001b[1;33m\u001b[0m\u001b[0m\n",
      "\u001b[1;32m~\\AppData\\Local\\Continuum\\anaconda3\\envs\\vaximap\\lib\\site-packages\\geopandas\\_vectorized.py\u001b[0m in \u001b[0;36mdistance\u001b[1;34m(data, other)\u001b[0m\n\u001b[0;32m    759\u001b[0m         \u001b[1;32mreturn\u001b[0m \u001b[0m_binary_method\u001b[0m\u001b[1;33m(\u001b[0m\u001b[1;34m\"distance\"\u001b[0m\u001b[1;33m,\u001b[0m \u001b[0mdata\u001b[0m\u001b[1;33m,\u001b[0m \u001b[0mother\u001b[0m\u001b[1;33m)\u001b[0m\u001b[1;33m\u001b[0m\u001b[1;33m\u001b[0m\u001b[0m\n\u001b[0;32m    760\u001b[0m     \u001b[1;32melse\u001b[0m\u001b[1;33m:\u001b[0m\u001b[1;33m\u001b[0m\u001b[1;33m\u001b[0m\u001b[0m\n\u001b[1;32m--> 761\u001b[1;33m         \u001b[1;32mreturn\u001b[0m \u001b[0m_binary_op_float\u001b[0m\u001b[1;33m(\u001b[0m\u001b[1;34m\"distance\"\u001b[0m\u001b[1;33m,\u001b[0m \u001b[0mdata\u001b[0m\u001b[1;33m,\u001b[0m \u001b[0mother\u001b[0m\u001b[1;33m)\u001b[0m\u001b[1;33m\u001b[0m\u001b[1;33m\u001b[0m\u001b[0m\n\u001b[0m\u001b[0;32m    762\u001b[0m \u001b[1;33m\u001b[0m\u001b[0m\n\u001b[0;32m    763\u001b[0m \u001b[1;33m\u001b[0m\u001b[0m\n",
      "\u001b[1;32m~\\AppData\\Local\\Continuum\\anaconda3\\envs\\vaximap\\lib\\site-packages\\geopandas\\_vectorized.py\u001b[0m in \u001b[0;36m_binary_op_float\u001b[1;34m(op, left, right, *args, **kwargs)\u001b[0m\n\u001b[0;32m    371\u001b[0m             )\n\u001b[0;32m    372\u001b[0m             \u001b[1;32mraise\u001b[0m \u001b[0mValueError\u001b[0m\u001b[1;33m(\u001b[0m\u001b[0mmsg\u001b[0m\u001b[1;33m)\u001b[0m\u001b[1;33m\u001b[0m\u001b[1;33m\u001b[0m\u001b[0m\n\u001b[1;32m--> 373\u001b[1;33m         data = [\n\u001b[0m\u001b[0;32m    374\u001b[0m             \u001b[0mgetattr\u001b[0m\u001b[1;33m(\u001b[0m\u001b[0mthis_elem\u001b[0m\u001b[1;33m,\u001b[0m \u001b[0mop\u001b[0m\u001b[1;33m)\u001b[0m\u001b[1;33m(\u001b[0m\u001b[0mother_elem\u001b[0m\u001b[1;33m,\u001b[0m \u001b[1;33m*\u001b[0m\u001b[0margs\u001b[0m\u001b[1;33m,\u001b[0m \u001b[1;33m**\u001b[0m\u001b[0mkwargs\u001b[0m\u001b[1;33m)\u001b[0m\u001b[1;33m\u001b[0m\u001b[1;33m\u001b[0m\u001b[0m\n\u001b[0;32m    375\u001b[0m             \u001b[1;32mif\u001b[0m \u001b[1;32mnot\u001b[0m \u001b[1;33m(\u001b[0m\u001b[0mthis_elem\u001b[0m \u001b[1;32mis\u001b[0m \u001b[1;32mNone\u001b[0m \u001b[1;32mor\u001b[0m \u001b[0mthis_elem\u001b[0m\u001b[1;33m.\u001b[0m\u001b[0mis_empty\u001b[0m\u001b[1;33m)\u001b[0m\u001b[1;33m\u001b[0m\u001b[1;33m\u001b[0m\u001b[0m\n",
      "\u001b[1;32m~\\AppData\\Local\\Continuum\\anaconda3\\envs\\vaximap\\lib\\site-packages\\geopandas\\_vectorized.py\u001b[0m in \u001b[0;36m<listcomp>\u001b[1;34m(.0)\u001b[0m\n\u001b[0;32m    373\u001b[0m         data = [\n\u001b[0;32m    374\u001b[0m             \u001b[0mgetattr\u001b[0m\u001b[1;33m(\u001b[0m\u001b[0mthis_elem\u001b[0m\u001b[1;33m,\u001b[0m \u001b[0mop\u001b[0m\u001b[1;33m)\u001b[0m\u001b[1;33m(\u001b[0m\u001b[0mother_elem\u001b[0m\u001b[1;33m,\u001b[0m \u001b[1;33m*\u001b[0m\u001b[0margs\u001b[0m\u001b[1;33m,\u001b[0m \u001b[1;33m**\u001b[0m\u001b[0mkwargs\u001b[0m\u001b[1;33m)\u001b[0m\u001b[1;33m\u001b[0m\u001b[1;33m\u001b[0m\u001b[0m\n\u001b[1;32m--> 375\u001b[1;33m             \u001b[1;32mif\u001b[0m \u001b[1;32mnot\u001b[0m \u001b[1;33m(\u001b[0m\u001b[0mthis_elem\u001b[0m \u001b[1;32mis\u001b[0m \u001b[1;32mNone\u001b[0m \u001b[1;32mor\u001b[0m \u001b[0mthis_elem\u001b[0m\u001b[1;33m.\u001b[0m\u001b[0mis_empty\u001b[0m\u001b[1;33m)\u001b[0m\u001b[1;33m\u001b[0m\u001b[1;33m\u001b[0m\u001b[0m\n\u001b[0m\u001b[0;32m    376\u001b[0m             \u001b[1;33m|\u001b[0m \u001b[1;33m(\u001b[0m\u001b[0mother_elem\u001b[0m \u001b[1;32mis\u001b[0m \u001b[1;32mNone\u001b[0m \u001b[1;32mor\u001b[0m \u001b[0mother_elem\u001b[0m\u001b[1;33m.\u001b[0m\u001b[0mis_empty\u001b[0m\u001b[1;33m)\u001b[0m\u001b[1;33m\u001b[0m\u001b[1;33m\u001b[0m\u001b[0m\n\u001b[0;32m    377\u001b[0m             \u001b[1;32melse\u001b[0m \u001b[0mnp\u001b[0m\u001b[1;33m.\u001b[0m\u001b[0mnan\u001b[0m\u001b[1;33m\u001b[0m\u001b[1;33m\u001b[0m\u001b[0m\n",
      "\u001b[1;32m~\\AppData\\Local\\Continuum\\anaconda3\\envs\\vaximap\\lib\\site-packages\\shapely\\geometry\\base.py\u001b[0m in \u001b[0;36mis_empty\u001b[1;34m(self)\u001b[0m\n\u001b[0;32m    697\u001b[0m     \u001b[1;32mdef\u001b[0m \u001b[0mis_empty\u001b[0m\u001b[1;33m(\u001b[0m\u001b[0mself\u001b[0m\u001b[1;33m)\u001b[0m\u001b[1;33m:\u001b[0m\u001b[1;33m\u001b[0m\u001b[1;33m\u001b[0m\u001b[0m\n\u001b[0;32m    698\u001b[0m         \u001b[1;34m\"\"\"True if the set of points in this geometry is empty, else False\"\"\"\u001b[0m\u001b[1;33m\u001b[0m\u001b[1;33m\u001b[0m\u001b[0m\n\u001b[1;32m--> 699\u001b[1;33m         \u001b[1;32mreturn\u001b[0m \u001b[1;33m(\u001b[0m\u001b[0mself\u001b[0m\u001b[1;33m.\u001b[0m\u001b[0m_geom\u001b[0m \u001b[1;32mis\u001b[0m \u001b[1;32mNone\u001b[0m\u001b[1;33m)\u001b[0m \u001b[1;32mor\u001b[0m \u001b[0mbool\u001b[0m\u001b[1;33m(\u001b[0m\u001b[0mself\u001b[0m\u001b[1;33m.\u001b[0m\u001b[0mimpl\u001b[0m\u001b[1;33m[\u001b[0m\u001b[1;34m'is_empty'\u001b[0m\u001b[1;33m]\u001b[0m\u001b[1;33m(\u001b[0m\u001b[0mself\u001b[0m\u001b[1;33m)\u001b[0m\u001b[1;33m)\u001b[0m\u001b[1;33m\u001b[0m\u001b[1;33m\u001b[0m\u001b[0m\n\u001b[0m\u001b[0;32m    700\u001b[0m \u001b[1;33m\u001b[0m\u001b[0m\n\u001b[0;32m    701\u001b[0m     \u001b[1;33m@\u001b[0m\u001b[0mproperty\u001b[0m\u001b[1;33m\u001b[0m\u001b[1;33m\u001b[0m\u001b[0m\n",
      "\u001b[1;32m~\\AppData\\Local\\Continuum\\anaconda3\\envs\\vaximap\\lib\\site-packages\\shapely\\predicates.py\u001b[0m in \u001b[0;36m__call__\u001b[1;34m(self, this)\u001b[0m\n\u001b[0;32m     23\u001b[0m     \u001b[1;32mdef\u001b[0m \u001b[0m__call__\u001b[0m\u001b[1;33m(\u001b[0m\u001b[0mself\u001b[0m\u001b[1;33m,\u001b[0m \u001b[0mthis\u001b[0m\u001b[1;33m)\u001b[0m\u001b[1;33m:\u001b[0m\u001b[1;33m\u001b[0m\u001b[1;33m\u001b[0m\u001b[0m\n\u001b[0;32m     24\u001b[0m         \u001b[0mself\u001b[0m\u001b[1;33m.\u001b[0m\u001b[0m_validate\u001b[0m\u001b[1;33m(\u001b[0m\u001b[0mthis\u001b[0m\u001b[1;33m)\u001b[0m\u001b[1;33m\u001b[0m\u001b[1;33m\u001b[0m\u001b[0m\n\u001b[1;32m---> 25\u001b[1;33m         \u001b[1;32mreturn\u001b[0m \u001b[0mself\u001b[0m\u001b[1;33m.\u001b[0m\u001b[0mfn\u001b[0m\u001b[1;33m(\u001b[0m\u001b[0mthis\u001b[0m\u001b[1;33m.\u001b[0m\u001b[0m_geom\u001b[0m\u001b[1;33m)\u001b[0m\u001b[1;33m\u001b[0m\u001b[1;33m\u001b[0m\u001b[0m\n\u001b[0m",
      "\u001b[1;32m~\\AppData\\Local\\Continuum\\anaconda3\\envs\\vaximap\\lib\\site-packages\\shapely\\geos.py\u001b[0m in \u001b[0;36merrcheck_predicate\u001b[1;34m(result, func, argtuple)\u001b[0m\n\u001b[0;32m    579\u001b[0m \u001b[1;33m\u001b[0m\u001b[0m\n\u001b[0;32m    580\u001b[0m \u001b[1;33m\u001b[0m\u001b[0m\n\u001b[1;32m--> 581\u001b[1;33m \u001b[1;32mdef\u001b[0m \u001b[0merrcheck_predicate\u001b[0m\u001b[1;33m(\u001b[0m\u001b[0mresult\u001b[0m\u001b[1;33m,\u001b[0m \u001b[0mfunc\u001b[0m\u001b[1;33m,\u001b[0m \u001b[0margtuple\u001b[0m\u001b[1;33m)\u001b[0m\u001b[1;33m:\u001b[0m\u001b[1;33m\u001b[0m\u001b[1;33m\u001b[0m\u001b[0m\n\u001b[0m\u001b[0;32m    582\u001b[0m     \u001b[1;34m\"\"\"Result is 2 on exception, 1 on True, 0 on False\"\"\"\u001b[0m\u001b[1;33m\u001b[0m\u001b[1;33m\u001b[0m\u001b[0m\n\u001b[0;32m    583\u001b[0m     \u001b[1;32mif\u001b[0m \u001b[0mresult\u001b[0m \u001b[1;33m==\u001b[0m \u001b[1;36m2\u001b[0m\u001b[1;33m:\u001b[0m\u001b[1;33m\u001b[0m\u001b[1;33m\u001b[0m\u001b[0m\n",
      "\u001b[1;31mKeyboardInterrupt\u001b[0m: "
     ]
    }
   ],
   "source": [
    "%%time\n",
    "\n",
    "for i in range(1, 200, 1):\n",
    "    \n",
    "    locdf5 = locdf2.sample(frac=1).sort_values(\"cluster_no\")\n",
    "\n",
    "    # recalculate unoptimised distances\n",
    "    locdf5[\"distances\"] = locdf5.geometry.distance(locdf5.geometry.shift(1))\n",
    "    locdf5[\"distances\"] = np.where((locdf5.cluster_no == locdf5.cluster_no.shift(1)), locdf5[\"distances\"], np.nan)\n",
    "\n",
    "    \n",
    "    dist_distances_2.append((locdf5.distances.sum() * detour_index) / (1.6 * 1000))"
   ]
  },
  {
   "cell_type": "code",
   "execution_count": 340,
   "metadata": {},
   "outputs": [
    {
     "data": {
      "text/plain": [
       "1000"
      ]
     },
     "execution_count": 340,
     "metadata": {},
     "output_type": "execute_result"
    }
   ],
   "source": [
    "len(dist_distances_2)"
   ]
  },
  {
   "cell_type": "code",
   "execution_count": 536,
   "metadata": {},
   "outputs": [
    {
     "data": {
      "text/plain": [
       "KstestResult(statistic=0.11494356250735578, pvalue=0.13156246292069174)"
      ]
     },
     "execution_count": 536,
     "metadata": {},
     "output_type": "execute_result"
    }
   ],
   "source": [
    "stats.kstest(stats.t.rvs(3, size=100, random_state=rng), \"norm\")"
   ]
  },
  {
   "cell_type": "code",
   "execution_count": 355,
   "metadata": {},
   "outputs": [
    {
     "data": {
      "text/plain": [
       "(array([  3.,   4.,   6.,  23.,  28.,  54.,  86., 112., 109., 121., 136.,\n",
       "        102.,  77.,  62.,  28.,  17.,  21.,   7.,   1.,   3.]),\n",
       " array([392.1949845 , 392.66218772, 393.12939094, 393.59659416,\n",
       "        394.06379739, 394.53100061, 394.99820383, 395.46540705,\n",
       "        395.93261028, 396.3998135 , 396.86701672, 397.33421995,\n",
       "        397.80142317, 398.26862639, 398.73582961, 399.20303284,\n",
       "        399.67023606, 400.13743928, 400.6046425 , 401.07184573,\n",
       "        401.53904895]),\n",
       " <BarContainer object of 20 artists>)"
      ]
     },
     "execution_count": 355,
     "metadata": {},
     "output_type": "execute_result"
    },
    {
     "data": {
      "image/png": "[encoded data removed]",
      "text/plain": [
       "<Figure size 432x288 with 1 Axes>"
      ]
     },
     "metadata": {
      "needs_background": "light"
     },
     "output_type": "display_data"
    }
   ],
   "source": [
    "plt.title(\"Histogram of total distance travelled \\n for simulated unoptimised: random intra-cluster \")\n",
    "plt.xlabel(\"Total Distance Travelled ('000s miles)\")\n",
    "plt.hist([(x / 1000) for x in dist_distances_2], bins=20, color=\"purple\")"
   ]
  },
  {
   "cell_type": "code",
   "execution_count": 346,
   "metadata": {},
   "outputs": [
    {
     "data": {
      "text/plain": [
       "(396689.42322920443, 1468.2360476789602, 13222.980774306814)"
      ]
     },
     "execution_count": 346,
     "metadata": {},
     "output_type": "execute_result"
    }
   ],
   "source": [
    "# test data for nomality: lilliefors / shapiro-Wilks tests\n",
    "\n",
    "# lilliefors\n",
    "print(\"Lilliefors statistic, p-value = {}\".format(sm.stats.lilliefors(dist_distances_2)))\n",
    "\n",
    "# shapiro\n",
    "W, p = shapiro(dist_distances_2)\n",
    "print(\"Shapiro-Wilk test statistic, W:\", W, \"\\n\", \"p-value:\", p)"
   ]
  },
  {
   "cell_type": "code",
   "execution_count": null,
   "metadata": {},
   "outputs": [],
   "source": [
    "# average distance travlled / stats\n",
    "print(\"Distance travelled unoptimised intra = {:,} Miles\".format(int(round(np.mean(dist_distances_2))))\n",
    "print(\"Total Hours unoptimised inter + intra = {:,} h\"\\\n",
    "      .format(int(round(np.mean(dist_distances_2 / avg_road_speed)))))"
   ]
  },
  {
   "cell_type": "code",
   "execution_count": 516,
   "metadata": {},
   "outputs": [
    {
     "data": {
      "text/plain": [
       "120.35855784994969"
      ]
     },
     "execution_count": 516,
     "metadata": {},
     "output_type": "execute_result"
    }
   ],
   "source": [
    "# get improvement of optimised route\n",
    "stats.percentileofscore(dist_distances_2, 220000)"
   ]
  },
  {
   "cell_type": "code",
   "execution_count": 461,
   "metadata": {},
   "outputs": [],
   "source": [
    "# CHECKPOINT: Save Run 2 as textfile\n",
    "dist_distances_2_textfile = open(\"dist_distances_2.txt\", \"w\")\n",
    "for element in dist_distances_2:\n",
    "    dist_distances_2_textfile.write(str(element) + \"\\n\")\n",
    "dist_distances_2_textfile.close()"
   ]
  },
  {
   "cell_type": "code",
   "execution_count": 89,
   "metadata": {},
   "outputs": [],
   "source": [
    "# CHECKPOINT: Open Run 2 as textfile\n",
    "with open(\"dist_distances_2.txt\") as f:\n",
    "    dist_distances_2 = f.readlines()"
   ]
  },
  {
   "cell_type": "markdown",
   "metadata": {},
   "source": [
    "## Appendix"
   ]
  },
  {
   "cell_type": "markdown",
   "metadata": {},
   "source": [
    "## Appendix 1: Unfinished Analysis (not required currently)"
   ]
  },
  {
   "cell_type": "markdown",
   "metadata": {},
   "source": [
    "### Mean Cluster Diameter"
   ]
  },
  {
   "cell_type": "code",
   "execution_count": 195,
   "metadata": {},
   "outputs": [
    {
     "data": {
      "text/html": [
       "<div>\n",
       "<style scoped>\n",
       "    .dataframe tbody tr th:only-of-type {\n",
       "        vertical-align: middle;\n",
       "    }\n",
       "\n",
       "    .dataframe tbody tr th {\n",
       "        vertical-align: top;\n",
       "    }\n",
       "\n",
       "    .dataframe thead th {\n",
       "        text-align: right;\n",
       "    }\n",
       "</style>\n",
       "<table border=\"1\" class=\"dataframe\">\n",
       "  <thead>\n",
       "    <tr style=\"text-align: right;\">\n",
       "      <th></th>\n",
       "      <th>latlongs</th>\n",
       "      <th>cluster_no</th>\n",
       "      <th>geometry</th>\n",
       "      <th>cluster_length</th>\n",
       "    </tr>\n",
       "    <tr>\n",
       "      <th>submission</th>\n",
       "      <th></th>\n",
       "      <th></th>\n",
       "      <th></th>\n",
       "      <th></th>\n",
       "    </tr>\n",
       "  </thead>\n",
       "  <tbody>\n",
       "    <tr>\n",
       "      <th>2198</th>\n",
       "      <td>4</td>\n",
       "      <td>4</td>\n",
       "      <td>4</td>\n",
       "      <td>4</td>\n",
       "    </tr>\n",
       "    <tr>\n",
       "      <th>3826</th>\n",
       "      <td>4</td>\n",
       "      <td>4</td>\n",
       "      <td>4</td>\n",
       "      <td>4</td>\n",
       "    </tr>\n",
       "    <tr>\n",
       "      <th>3066</th>\n",
       "      <td>4</td>\n",
       "      <td>4</td>\n",
       "      <td>4</td>\n",
       "      <td>4</td>\n",
       "    </tr>\n",
       "    <tr>\n",
       "      <th>2104</th>\n",
       "      <td>4</td>\n",
       "      <td>4</td>\n",
       "      <td>4</td>\n",
       "      <td>4</td>\n",
       "    </tr>\n",
       "    <tr>\n",
       "      <th>3086</th>\n",
       "      <td>4</td>\n",
       "      <td>4</td>\n",
       "      <td>4</td>\n",
       "      <td>4</td>\n",
       "    </tr>\n",
       "    <tr>\n",
       "      <th>2854</th>\n",
       "      <td>4</td>\n",
       "      <td>4</td>\n",
       "      <td>4</td>\n",
       "      <td>4</td>\n",
       "    </tr>\n",
       "    <tr>\n",
       "      <th>3809</th>\n",
       "      <td>4</td>\n",
       "      <td>4</td>\n",
       "      <td>4</td>\n",
       "      <td>4</td>\n",
       "    </tr>\n",
       "    <tr>\n",
       "      <th>4071</th>\n",
       "      <td>4</td>\n",
       "      <td>4</td>\n",
       "      <td>4</td>\n",
       "      <td>4</td>\n",
       "    </tr>\n",
       "    <tr>\n",
       "      <th>2371</th>\n",
       "      <td>4</td>\n",
       "      <td>4</td>\n",
       "      <td>4</td>\n",
       "      <td>4</td>\n",
       "    </tr>\n",
       "    <tr>\n",
       "      <th>4073</th>\n",
       "      <td>4</td>\n",
       "      <td>4</td>\n",
       "      <td>4</td>\n",
       "      <td>4</td>\n",
       "    </tr>\n",
       "  </tbody>\n",
       "</table>\n",
       "</div>"
      ],
      "text/plain": [
       "            latlongs  cluster_no  geometry  cluster_length\n",
       "submission                                                \n",
       "2198               4           4         4               4\n",
       "3826               4           4         4               4\n",
       "3066               4           4         4               4\n",
       "2104               4           4         4               4\n",
       "3086               4           4         4               4\n",
       "2854               4           4         4               4\n",
       "3809               4           4         4               4\n",
       "4071               4           4         4               4\n",
       "2371               4           4         4               4\n",
       "4073               4           4         4               4"
      ]
     },
     "execution_count": 195,
     "metadata": {},
     "output_type": "execute_result"
    }
   ],
   "source": [
    "locdf2.groupby(\"submission\").count().sort_values(\"cluster_length\", ascending=False)[1000:1010]"
   ]
  },
  {
   "cell_type": "markdown",
   "metadata": {},
   "source": [
    "### Hierarchical Clustering"
   ]
  },
  {
   "cell_type": "markdown",
   "metadata": {},
   "source": [
    "(Iterative) K-Means clustering is being used currently to:\n",
    "   * Find the centroid of G clusters\n",
    "   * Populate clusters using ranking based on optimisation penalty, each cluster given patient size <=D, based on distances between patient lat/lon and centroid lat/lon (similar to https://elki-project.github.io/tutorial/same-size_k_means)\n",
    "   \n",
    "(we assume that cluster label, which is integer, has no cardinal value).\n",
    "\n",
    "K-means uses Euclidean-based distance metrics, however since lat/lon coordinates are on a geodesic, there may be some error when comparing distances. One way to get around this is clustering using HDBSCAN (Hierarchical Density-Based Spatial Clustering), but you cannot set the number of clusters: it instead words to find spatially dense areas with nearest neighbour / separation between clusters being prime parameters.\n",
    "\n",
    "A better tool than HDBSCAN is tree-based Hierarchical clustering, since it can support haversine metrics to accurately calculate lat/lon distance, you can set number of clusters and it is non-parametric. Centre of cluster = mean value of items. There is an iterative fashion to achieve this using the outline described here (http://jmonlong.github.io/Hippocamplus/2018/06/09/cluster-same-size/#iterative-bottom-leaves-hierarchical-clustering).\n",
    "\n",
    "To then find which centroids map to which patients, there is an optimisation algorithm p-median (more details here: http://courses.ieor.berkeley.edu/ieor151/lecture_notes/ieor151_lec13.pdf) to reduce the distance between centroid and patient. I will look at (i) constraint that means size of cluster = max_cluster_size (and see what happens with leftover patients), or add another objective to maximise patient numbers per cluster up to max cluster size.\n",
    "\n",
    "N.B. prerequisite is that lat/lon must be converted into radians beforehand. We do this using a simply using inbuilt numpy function radians to convert entire coordinate array.\n",
    "\n",
    "Other ideas:\n",
    "Springer: balanced K means: https://link.springer.com/chapter/10.1007/978-3-662-44415-3_4\n",
    "Kmedoids: https://github.com/OmarAflak/kmedoids/blob/master/constrained_kmedoids.py"
   ]
  },
  {
   "cell_type": "code",
   "execution_count": 14,
   "metadata": {},
   "outputs": [
    {
     "data": {
      "text/html": [
       "<div>\n",
       "<style scoped>\n",
       "    .dataframe tbody tr th:only-of-type {\n",
       "        vertical-align: middle;\n",
       "    }\n",
       "\n",
       "    .dataframe tbody tr th {\n",
       "        vertical-align: top;\n",
       "    }\n",
       "\n",
       "    .dataframe thead th {\n",
       "        text-align: right;\n",
       "    }\n",
       "</style>\n",
       "<table border=\"1\" class=\"dataframe\">\n",
       "  <thead>\n",
       "    <tr style=\"text-align: right;\">\n",
       "      <th></th>\n",
       "      <th>n_patients</th>\n",
       "      <th>n_clusters</th>\n",
       "      <th>latlong</th>\n",
       "      <th>clusters</th>\n",
       "      <th>region</th>\n",
       "      <th>postcodes</th>\n",
       "      <th>created</th>\n",
       "      <th>mode</th>\n",
       "      <th>max_cluster_size</th>\n",
       "      <th>postcodes_size</th>\n",
       "    </tr>\n",
       "  </thead>\n",
       "  <tbody>\n",
       "    <tr>\n",
       "      <th>2</th>\n",
       "      <td>11</td>\n",
       "      <td>1</td>\n",
       "      <td>[[-0.00422240000000329, -0.010207700000000014], [0.0017050999999810301, 0.0027945999999999804], [-0.0019168000000036045, -0.004896500000000026], [0.0014654999999947904, 0.007844799999999985], [0.0017771999999922627, -0.0046426000000000245], [0.005728599999990536, 0.0037821999999999856], [-0.004459200000006547, -0.0035046999999999995], [0.0031894999999906304, 0.008110899999999976], [0.0031894999999906304, 0.008110899999999976], [-0.003712000000007265, 0.0028246999999999856], [-0.002745000000018649, -0.01021660000000002]]</td>\n",
       "      <td>[[2, 6, 9, 0, 10, 4, 1, 5, 8, 7, 3]]</td>\n",
       "      <td>UK</td>\n",
       "      <td>{}</td>\n",
       "      <td>2021-01-23</td>\n",
       "      <td>driving</td>\n",
       "      <td>11</td>\n",
       "      <td>0</td>\n",
       "    </tr>\n",
       "  </tbody>\n",
       "</table>\n",
       "</div>"
      ],
      "text/plain": [
       "   n_patients  n_clusters  \\\n",
       "2          11           1   \n",
       "\n",
       "                                                                                                                                                                                                                                                                                                                                                                                                                                                                                                                                         latlong  \\\n",
       "2  [[-0.00422240000000329, -0.010207700000000014], [0.0017050999999810301, 0.0027945999999999804], [-0.0019168000000036045, -0.004896500000000026], [0.0014654999999947904, 0.007844799999999985], [0.0017771999999922627, -0.0046426000000000245], [0.005728599999990536, 0.0037821999999999856], [-0.004459200000006547, -0.0035046999999999995], [0.0031894999999906304, 0.008110899999999976], [0.0031894999999906304, 0.008110899999999976], [-0.003712000000007265, 0.0028246999999999856], [-0.002745000000018649, -0.01021660000000002]]   \n",
       "\n",
       "                               clusters region postcodes     created     mode  \\\n",
       "2  [[2, 6, 9, 0, 10, 4, 1, 5, 8, 7, 3]]     UK        {}  2021-01-23  driving   \n",
       "\n",
       "   max_cluster_size  postcodes_size  \n",
       "2                11               0  "
      ]
     },
     "execution_count": 14,
     "metadata": {},
     "output_type": "execute_result"
    }
   ],
   "source": [
    "df.head(1)"
   ]
  },
  {
   "cell_type": "code",
   "execution_count": 15,
   "metadata": {},
   "outputs": [],
   "source": [
    "def distanceIterHierarchicalClustering(latlon, n_clusters, max_cluster_size, linkage=\"average\"):\n",
    "    # convert lat/lon to radians\n",
    "    latlon_rad = np.radians(latlon)\n",
    "    print(\"N patients = {a}, N clusters = {b}, Max size = {c}\".format(a=len(latlon), b=n_clusters, c=max_cluster_size))\n",
    "    \n",
    "    # compute pairwise haversine distances between each lat/lon point\n",
    "    haversine_pairwise = haversine_distances(latlon_rad)\n",
    "    \n",
    "    # define clustering algorithm and predict for points\n",
    "    clusterer = AgglomerativeClustering(affinity='precomputed', n_clusters=n_clusters,\n",
    "                                        linkage=linkage, distance_threshold=None,\n",
    "                                        compute_distances=True, compute_full_tree=False)\n",
    "    \n",
    "    # Iterative clustering method\n",
    "    model = clusterer.fit(haversine_pairwise)\n",
    "    print(model.get_params())\n",
    "\n",
    "    \n",
    "    plot_dendrogram(model, truncate_mode='level', p=3)\n",
    "    plt.xlabel(\"Number of points in node (or index of point if no parenthesis).\")\n",
    "    plt.show()\n",
    "    model = clusterer.fit_predict(haversine_pairwise)\n",
    "    \n",
    "    # convert to indices of lat/lon\n",
    "    patients = []\n",
    "    for k in range(n_clusters):\n",
    "        patients.append([i for i, j in enumerate(model) if j == k])\n",
    "        \n",
    "    print(patients)\n",
    "    return patients\n",
    "    "
   ]
  },
  {
   "cell_type": "code",
   "execution_count": 16,
   "metadata": {
    "scrolled": false
   },
   "outputs": [
    {
     "name": "stdout",
     "output_type": "stream",
     "text": [
      "N patients = 11, N clusters = 1, Max size = 11\n",
      "{'affinity': 'precomputed', 'compute_distances': True, 'compute_full_tree': False, 'connectivity': None, 'distance_threshold': None, 'linkage': 'average', 'memory': None, 'n_clusters': 1}\n"
     ]
    },
    {
     "data": {
      "image/png": "[encoded data removed]",
      "text/plain": [
       "<Figure size 432x288 with 1 Axes>"
      ]
     },
     "metadata": {
      "needs_background": "light"
     },
     "output_type": "display_data"
    },
    {
     "name": "stdout",
     "output_type": "stream",
     "text": [
      "[[0, 1, 2, 3, 4, 5, 6, 7, 8, 9, 10]]\n",
      "N patients = 20, N clusters = 2, Max size = 10\n",
      "{'affinity': 'precomputed', 'compute_distances': True, 'compute_full_tree': False, 'connectivity': None, 'distance_threshold': None, 'linkage': 'average', 'memory': None, 'n_clusters': 2}\n"
     ]
    },
    {
     "data": {
      "image/png": "[encoded data removed]",
      "text/plain": [
       "<Figure size 432x288 with 1 Axes>"
      ]
     },
     "metadata": {
      "needs_background": "light"
     },
     "output_type": "display_data"
    },
    {
     "name": "stdout",
     "output_type": "stream",
     "text": [
      "[[0, 1, 2, 3, 4, 14, 15, 16, 17, 18, 19], [5, 6, 7, 8, 9, 10, 11, 12, 13]]\n",
      "N patients = 32, N clusters = 4, Max size = 10\n",
      "{'affinity': 'precomputed', 'compute_distances': True, 'compute_full_tree': False, 'connectivity': None, 'distance_threshold': None, 'linkage': 'average', 'memory': None, 'n_clusters': 4}\n"
     ]
    },
    {
     "data": {
      "image/png": "[encoded data removed]",
      "text/plain": [
       "<Figure size 432x288 with 1 Axes>"
      ]
     },
     "metadata": {
      "needs_background": "light"
     },
     "output_type": "display_data"
    },
    {
     "name": "stdout",
     "output_type": "stream",
     "text": [
      "[[6, 11, 12, 13, 14, 15, 16, 17, 18], [19, 22, 23, 25, 26, 27, 30, 31], [0, 1, 2, 3, 4, 5, 8, 9, 10], [7, 20, 21, 24, 28, 29]]\n"
     ]
    }
   ],
   "source": [
    "# Output hierarchichal clustering and resulting dendrograms for 3 examples\n",
    "for i in range(len(df[:3])):\n",
    "    distanceIterHierarchicalClustering(df[\"latlong\"].values[i], df[\"n_clusters\"].values[i], \\\n",
    "                                   df[\"max_cluster_size\"].values[i], linkage=\"average\")"
   ]
  },
  {
   "cell_type": "markdown",
   "metadata": {},
   "source": [
    "#### Optimisation algorithm for finding best distribution of patients given number of centroids \n",
    "\n",
    "Adapted from https://github.com/ralaruri/p_median_python"
   ]
  },
  {
   "cell_type": "code",
   "execution_count": 17,
   "metadata": {},
   "outputs": [],
   "source": [
    "# change so that rows = patients, columns = centroids, values = distances"
   ]
  },
  {
   "cell_type": "code",
   "execution_count": 18,
   "metadata": {},
   "outputs": [
    {
     "name": "stdout",
     "output_type": "stream",
     "text": [
      " \n",
      "Status: Optimal\n",
      " \n",
      "Objective:  0.001163296353385322\n",
      " \n",
      "p-Median Node:  2\n",
      "p-Median Node:  7\n",
      " \n",
      "[('0', ' is connected to', '2'), ('10', ' is connected to', '2'), ('11', ' is connected to', '7'), ('1', ' is connected to', '7'), ('2', ' is connected to', '2'), ('3', ' is connected to', '7'), ('4', ' is connected to', '2'), ('5', ' is connected to', '7'), ('6', ' is connected to', '2'), ('7', ' is connected to', '7'), ('8', ' is connected to', '7'), ('9', ' is connected to', '2')]\n"
     ]
    }
   ],
   "source": [
    "from pulp import *\n",
    "import time\n",
    "\n",
    "locations_1 = np.radians(df.latlong.values[0])\n",
    "locations_1 = np.append(locations_1, [[5.56e-04, 1.413e-04]], axis=0)\n",
    "\n",
    "pairwise_distance_df = pd.DataFrame(haversine_distances(locations_1))\n",
    "centroids = pairwise_distance_df.keys()\n",
    "patient = pairwise_distance_df.index\n",
    "\n",
    "\n",
    "# start counting time\n",
    "t1=time.time()\n",
    "\n",
    "p = 2 #  number of locations to optimize to\n",
    "\n",
    "\n",
    "# declare patient variables\n",
    "X = LpVariable.dicts('X',(centroids), 0, 1, LpInteger)\n",
    "\n",
    "# declare decision variables\n",
    "Y = LpVariable.dicts('Y', (patient, centroids), 0, 1, LpInteger) \n",
    "\n",
    "# create the LP object, set up as a MINIMIZATION problem\n",
    "prob = LpProblem('P Median', LpMinimize)\n",
    "\n",
    "# prob += sum(sum(D[i][j] * Y[i][j] for j in location) for i in patient)\n",
    "# pandas iloc looks up values by row(i) and column(j)\n",
    "prob += sum(sum(pairwise_distance_df.iloc[i,j] * Y[i][j] for j in centroids) for i in patient)\n",
    "\n",
    "# set up constraints\n",
    "# This is same as prob += sum([X[j] for j in location]) == p\n",
    "prob += lpSum([X[j] for j in centroids]) == p\n",
    "\n",
    "# constraint: make sure that each patient is connected to one centroid\n",
    "for i in patient: prob += sum(Y[i][j] for j in centroids) == 1\n",
    "\n",
    "for i in patient:\n",
    "    for j in centroids: \n",
    "        prob +=  Y[i][j] <= X[j]\n",
    "\n",
    "\n",
    "prob.solve()\n",
    "\n",
    "#  format output\n",
    "print(' ')\n",
    "print(\"Status:\",LpStatus[prob.status])\n",
    "print(' ')\n",
    "print(\"Objective: \",value(prob.objective))\n",
    "print(' ')\n",
    "\n",
    "for v in prob.variables():\n",
    "    subV = v.name.split('_')\n",
    "    \n",
    "    if subV[0] == \"X\" and v.varValue == 1: print('p-Median Node: ', subV[1])\n",
    "\n",
    "result = []   \n",
    "'''print(' ')\n",
    "for v in prob.variables():\n",
    "    subV = v.name.split('_')\n",
    "    if subV[0] == \"Y\" and v.varValue == 1: print(subV[1], ' is connected to', subV[2])'''\n",
    "\n",
    "print(' ')\n",
    "for v in prob.variables():\n",
    "    subV = v.name.split('_')\n",
    "    if subV[0] == \"Y\" and v.varValue == 1: \n",
    "        result.append((subV[1], ' is connected to', subV[2]))\n",
    "print(result)\n",
    "\n",
    "dfo = pd.DataFrame(np.array(result))"
   ]
  },
  {
   "cell_type": "markdown",
   "metadata": {},
   "source": [
    "## Appendix 2: Ideas / Notes"
   ]
  },
  {
   "cell_type": "markdown",
   "metadata": {},
   "source": [
    "###  Potential Areas for Analysis\n",
    "\n",
    "**1) Evaluate error using UK centre coordinate vs coordinate from high level postcode** <br>\n",
    "Affects ~10% of points. Would need to convert level postcode into lat/lon. Not sure if interesting for paper as we do not practically use this anonymised dataset when route planning. <br>\n"
   ]
  },
  {
   "cell_type": "markdown",
   "metadata": {},
   "source": [
    "### General notes and questions:\n",
    "\n",
    "Github Codebase:\n",
    "* requirements.txt: requires \"tables\" module and also need python=3.8\n",
    "\n",
    "Paper:\n",
    "* Cite TSP in line 8\n",
    "* Need to confirm vial size, in paper says 9 but on website it says 11\n",
    "\n",
    "Data:\n",
    "* Website has Time per Patient column, why is this omitted from dataset?"
   ]
  },
  {
   "cell_type": "markdown",
   "metadata": {},
   "source": [
    "Other Notes (For personal reference):\n",
    "\n",
    "* D = number of patients per cluster, 3 <= D <= 25. One vial of AstraZeneca has D=9 vials\n",
    "* Number of groups G = ceil(N/D), N = number of patients\n",
    "* Iterative k-means produces centroids, then ranks based on optimisation penalty (distance_furthest_centroid - distance_nearest_centroid), so those equidistant to centroids rank less and those close to only one rank more\n",
    "* I'm assuming that we treat each cluster as one set of delivery and is constrained by D, G = group size = number of delivery sessions\n",
    "* EMIS Database would likely store patients randomly\n",
    "* In doc multiplying by 1.2 to take into account fact roads are not straight"
   ]
  }
 ],
 "metadata": {
  "interpreter": {
   "hash": "b4502b264546c4c21079cff70a73ca3228babe1d7cea9c4d5516d4cb41402be5"
  },
  "kernelspec": {
   "display_name": "Python [conda env:vaximap] *",
   "language": "python",
   "name": "conda-env-vaximap-py"
  },
  "language_info": {
   "codemirror_mode": {
    "name": "ipython",
    "version": 3
   },
   "file_extension": ".py",
   "mimetype": "text/x-python",
   "name": "python",
   "nbconvert_exporter": "python",
   "pygments_lexer": "ipython3",
   "version": "3.8.10"
  }
 },
 "nbformat": 4,
 "nbformat_minor": 2
}
