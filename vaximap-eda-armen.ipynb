{
 "cells": [
  {
   "cell_type": "markdown",
   "metadata": {},
   "source": [
    "# Vaximap EDA"
   ]
  },
  {
   "cell_type": "markdown",
   "metadata": {},
   "source": [
    "##  Table of Contents\n",
    "\n",
    "* [Initialisation](#Initialisation)\n",
    "* [Exploratory Data Analysis](#Exploratory-Data-Analysis)\n",
    "* [Assessing Patient Clustering](#Assessing-Patient-Clustering)\n",
    "* [Potential Improvement: HDBSCAN Clustering](#HDBSCAN-Clustering)\n",
    "* [Appendix: Feedback, Other Suggestions](#Appendix)"
   ]
  },
  {
   "cell_type": "markdown",
   "metadata": {},
   "source": [
    "## Initialisation"
   ]
  },
  {
   "cell_type": "code",
   "execution_count": 1,
   "metadata": {},
   "outputs": [],
   "source": [
    "'------------Import Modules------------'\n",
    "import warnings\n",
    "warnings.filterwarnings('ignore')\n",
    "\n",
    "# DS Modules\n",
    "import random\n",
    "import datetime\n",
    "import pandas as pd\n",
    "import numpy as np\n",
    "import itertools\n",
    "\n",
    "# Visualisation\n",
    "import matplotlib.pyplot as plt\n",
    "from bokeh.plotting import figure, show\n",
    "from bokeh.io import output_notebook\n",
    "import seaborn as sns\n",
    "\n",
    "# Statistical Tests\n",
    "from scipy.stats import normaltest, ttest_ind, chi2_contingency, chi2\n",
    "\n",
    "# Clustering\n",
    "import hdbscan\n",
    "from sklearn.cluster import AgglomerativeClustering\n",
    "from sklearn.metrics.pairwise import haversine_distances\n",
    "from scipy.cluster.hierarchy import dendrogram\n",
    "\n",
    "# Import dataset\n",
    "from load_dataset import dataset\n",
    "\n",
    "# Import functions used in this notebook\n",
    "from vaximapFunctions import *"
   ]
  },
  {
   "cell_type": "code",
   "execution_count": 2,
   "metadata": {},
   "outputs": [
    {
     "data": {
      "text/html": [
       "\n",
       "    <div class=\"bk-root\">\n",
       "        <a href=\"https://bokeh.org\" target=\"_blank\" class=\"bk-logo bk-logo-small bk-logo-notebook\"></a>\n",
       "        <span id=\"1002\">Loading BokehJS ...</span>\n",
       "    </div>"
      ]
     },
     "metadata": {},
     "output_type": "display_data"
    },
    {
     "data": {
      "application/javascript": [
       "\n",
       "(function(root) {\n",
       "  function now() {\n",
       "    return new Date();\n",
       "  }\n",
       "\n",
       "  var force = true;\n",
       "\n",
       "  if (typeof root._bokeh_onload_callbacks === \"undefined\" || force === true) {\n",
       "    root._bokeh_onload_callbacks = [];\n",
       "    root._bokeh_is_loading = undefined;\n",
       "  }\n",
       "\n",
       "  var JS_MIME_TYPE = 'application/javascript';\n",
       "  var HTML_MIME_TYPE = 'text/html';\n",
       "  var EXEC_MIME_TYPE = 'application/vnd.bokehjs_exec.v0+json';\n",
       "  var CLASS_NAME = 'output_bokeh rendered_html';\n",
       "\n",
       "  /**\n",
       "   * Render data to the DOM node\n",
       "   */\n",
       "  function render(props, node) {\n",
       "    var script = document.createElement(\"script\");\n",
       "    node.appendChild(script);\n",
       "  }\n",
       "\n",
       "  /**\n",
       "   * Handle when an output is cleared or removed\n",
       "   */\n",
       "  function handleClearOutput(event, handle) {\n",
       "    var cell = handle.cell;\n",
       "\n",
       "    var id = cell.output_area._bokeh_element_id;\n",
       "    var server_id = cell.output_area._bokeh_server_id;\n",
       "    // Clean up Bokeh references\n",
       "    if (id != null && id in Bokeh.index) {\n",
       "      Bokeh.index[id].model.document.clear();\n",
       "      delete Bokeh.index[id];\n",
       "    }\n",
       "\n",
       "    if (server_id !== undefined) {\n",
       "      // Clean up Bokeh references\n",
       "      var cmd = \"from bokeh.io.state import curstate; print(curstate().uuid_to_server['\" + server_id + \"'].get_sessions()[0].document.roots[0]._id)\";\n",
       "      cell.notebook.kernel.execute(cmd, {\n",
       "        iopub: {\n",
       "          output: function(msg) {\n",
       "            var id = msg.content.text.trim();\n",
       "            if (id in Bokeh.index) {\n",
       "              Bokeh.index[id].model.document.clear();\n",
       "              delete Bokeh.index[id];\n",
       "            }\n",
       "          }\n",
       "        }\n",
       "      });\n",
       "      // Destroy server and session\n",
       "      var cmd = \"import bokeh.io.notebook as ion; ion.destroy_server('\" + server_id + \"')\";\n",
       "      cell.notebook.kernel.execute(cmd);\n",
       "    }\n",
       "  }\n",
       "\n",
       "  /**\n",
       "   * Handle when a new output is added\n",
       "   */\n",
       "  function handleAddOutput(event, handle) {\n",
       "    var output_area = handle.output_area;\n",
       "    var output = handle.output;\n",
       "\n",
       "    // limit handleAddOutput to display_data with EXEC_MIME_TYPE content only\n",
       "    if ((output.output_type != \"display_data\") || (!Object.prototype.hasOwnProperty.call(output.data, EXEC_MIME_TYPE))) {\n",
       "      return\n",
       "    }\n",
       "\n",
       "    var toinsert = output_area.element.find(\".\" + CLASS_NAME.split(' ')[0]);\n",
       "\n",
       "    if (output.metadata[EXEC_MIME_TYPE][\"id\"] !== undefined) {\n",
       "      toinsert[toinsert.length - 1].firstChild.textContent = output.data[JS_MIME_TYPE];\n",
       "      // store reference to embed id on output_area\n",
       "      output_area._bokeh_element_id = output.metadata[EXEC_MIME_TYPE][\"id\"];\n",
       "    }\n",
       "    if (output.metadata[EXEC_MIME_TYPE][\"server_id\"] !== undefined) {\n",
       "      var bk_div = document.createElement(\"div\");\n",
       "      bk_div.innerHTML = output.data[HTML_MIME_TYPE];\n",
       "      var script_attrs = bk_div.children[0].attributes;\n",
       "      for (var i = 0; i < script_attrs.length; i++) {\n",
       "        toinsert[toinsert.length - 1].firstChild.setAttribute(script_attrs[i].name, script_attrs[i].value);\n",
       "        toinsert[toinsert.length - 1].firstChild.textContent = bk_div.children[0].textContent\n",
       "      }\n",
       "      // store reference to server id on output_area\n",
       "      output_area._bokeh_server_id = output.metadata[EXEC_MIME_TYPE][\"server_id\"];\n",
       "    }\n",
       "  }\n",
       "\n",
       "  function register_renderer(events, OutputArea) {\n",
       "\n",
       "    function append_mime(data, metadata, element) {\n",
       "      // create a DOM node to render to\n",
       "      var toinsert = this.create_output_subarea(\n",
       "        metadata,\n",
       "        CLASS_NAME,\n",
       "        EXEC_MIME_TYPE\n",
       "      );\n",
       "      this.keyboard_manager.register_events(toinsert);\n",
       "      // Render to node\n",
       "      var props = {data: data, metadata: metadata[EXEC_MIME_TYPE]};\n",
       "      render(props, toinsert[toinsert.length - 1]);\n",
       "      element.append(toinsert);\n",
       "      return toinsert\n",
       "    }\n",
       "\n",
       "    /* Handle when an output is cleared or removed */\n",
       "    events.on('clear_output.CodeCell', handleClearOutput);\n",
       "    events.on('delete.Cell', handleClearOutput);\n",
       "\n",
       "    /* Handle when a new output is added */\n",
       "    events.on('output_added.OutputArea', handleAddOutput);\n",
       "\n",
       "    /**\n",
       "     * Register the mime type and append_mime function with output_area\n",
       "     */\n",
       "    OutputArea.prototype.register_mime_type(EXEC_MIME_TYPE, append_mime, {\n",
       "      /* Is output safe? */\n",
       "      safe: true,\n",
       "      /* Index of renderer in `output_area.display_order` */\n",
       "      index: 0\n",
       "    });\n",
       "  }\n",
       "\n",
       "  // register the mime type if in Jupyter Notebook environment and previously unregistered\n",
       "  if (root.Jupyter !== undefined) {\n",
       "    var events = require('base/js/events');\n",
       "    var OutputArea = require('notebook/js/outputarea').OutputArea;\n",
       "\n",
       "    if (OutputArea.prototype.mime_types().indexOf(EXEC_MIME_TYPE) == -1) {\n",
       "      register_renderer(events, OutputArea);\n",
       "    }\n",
       "  }\n",
       "\n",
       "  \n",
       "  if (typeof (root._bokeh_timeout) === \"undefined\" || force === true) {\n",
       "    root._bokeh_timeout = Date.now() + 5000;\n",
       "    root._bokeh_failed_load = false;\n",
       "  }\n",
       "\n",
       "  var NB_LOAD_WARNING = {'data': {'text/html':\n",
       "     \"<div style='background-color: #fdd'>\\n\"+\n",
       "     \"<p>\\n\"+\n",
       "     \"BokehJS does not appear to have successfully loaded. If loading BokehJS from CDN, this \\n\"+\n",
       "     \"may be due to a slow or bad network connection. Possible fixes:\\n\"+\n",
       "     \"</p>\\n\"+\n",
       "     \"<ul>\\n\"+\n",
       "     \"<li>re-rerun `output_notebook()` to attempt to load from CDN again, or</li>\\n\"+\n",
       "     \"<li>use INLINE resources instead, as so:</li>\\n\"+\n",
       "     \"</ul>\\n\"+\n",
       "     \"<code>\\n\"+\n",
       "     \"from bokeh.resources import INLINE\\n\"+\n",
       "     \"output_notebook(resources=INLINE)\\n\"+\n",
       "     \"</code>\\n\"+\n",
       "     \"</div>\"}};\n",
       "\n",
       "  function display_loaded() {\n",
       "    var el = document.getElementById(\"1002\");\n",
       "    if (el != null) {\n",
       "      el.textContent = \"BokehJS is loading...\";\n",
       "    }\n",
       "    if (root.Bokeh !== undefined) {\n",
       "      if (el != null) {\n",
       "        el.textContent = \"BokehJS \" + root.Bokeh.version + \" successfully loaded.\";\n",
       "      }\n",
       "    } else if (Date.now() < root._bokeh_timeout) {\n",
       "      setTimeout(display_loaded, 100)\n",
       "    }\n",
       "  }\n",
       "\n",
       "\n",
       "  function run_callbacks() {\n",
       "    try {\n",
       "      root._bokeh_onload_callbacks.forEach(function(callback) {\n",
       "        if (callback != null)\n",
       "          callback();\n",
       "      });\n",
       "    } finally {\n",
       "      delete root._bokeh_onload_callbacks\n",
       "    }\n",
       "    console.debug(\"Bokeh: all callbacks have finished\");\n",
       "  }\n",
       "\n",
       "  function load_libs(css_urls, js_urls, callback) {\n",
       "    if (css_urls == null) css_urls = [];\n",
       "    if (js_urls == null) js_urls = [];\n",
       "\n",
       "    root._bokeh_onload_callbacks.push(callback);\n",
       "    if (root._bokeh_is_loading > 0) {\n",
       "      console.debug(\"Bokeh: BokehJS is being loaded, scheduling callback at\", now());\n",
       "      return null;\n",
       "    }\n",
       "    if (js_urls == null || js_urls.length === 0) {\n",
       "      run_callbacks();\n",
       "      return null;\n",
       "    }\n",
       "    console.debug(\"Bokeh: BokehJS not loaded, scheduling load and callback at\", now());\n",
       "    root._bokeh_is_loading = css_urls.length + js_urls.length;\n",
       "\n",
       "    function on_load() {\n",
       "      root._bokeh_is_loading--;\n",
       "      if (root._bokeh_is_loading === 0) {\n",
       "        console.debug(\"Bokeh: all BokehJS libraries/stylesheets loaded\");\n",
       "        run_callbacks()\n",
       "      }\n",
       "    }\n",
       "\n",
       "    function on_error(url) {\n",
       "      console.error(\"failed to load \" + url);\n",
       "    }\n",
       "\n",
       "    for (let i = 0; i < css_urls.length; i++) {\n",
       "      const url = css_urls[i];\n",
       "      const element = document.createElement(\"link\");\n",
       "      element.onload = on_load;\n",
       "      element.onerror = on_error.bind(null, url);\n",
       "      element.rel = \"stylesheet\";\n",
       "      element.type = \"text/css\";\n",
       "      element.href = url;\n",
       "      console.debug(\"Bokeh: injecting link tag for BokehJS stylesheet: \", url);\n",
       "      document.body.appendChild(element);\n",
       "    }\n",
       "\n",
       "    const hashes = {\"https://cdn.bokeh.org/bokeh/release/bokeh-2.3.3.min.js\": \"dM3QQsP+wXdHg42wTqW85BjZQdLNNIXqlPw/BgKoExPmTG7ZLML4EGqLMfqHT6ON\", \"https://cdn.bokeh.org/bokeh/release/bokeh-tables-2.3.3.min.js\": \"8x57I4YuIfu8XyZfFo0XVr2WAT8EK4rh/uDe3wF7YuW2FNUSNEpJbsPaB1nJ2fz2\", \"https://cdn.bokeh.org/bokeh/release/bokeh-widgets-2.3.3.min.js\": \"3QTqdz9LyAm2i0sG5XTePsHec3UHWwVsrOL68SYRoAXsafvfAyqtQ+h440+qIBhS\"};\n",
       "\n",
       "    for (let i = 0; i < js_urls.length; i++) {\n",
       "      const url = js_urls[i];\n",
       "      const element = document.createElement('script');\n",
       "      element.onload = on_load;\n",
       "      element.onerror = on_error.bind(null, url);\n",
       "      element.async = false;\n",
       "      element.src = url;\n",
       "      if (url in hashes) {\n",
       "        element.crossOrigin = \"anonymous\";\n",
       "        element.integrity = \"sha384-\" + hashes[url];\n",
       "      }\n",
       "      console.debug(\"Bokeh: injecting script tag for BokehJS library: \", url);\n",
       "      document.head.appendChild(element);\n",
       "    }\n",
       "  };\n",
       "\n",
       "  function inject_raw_css(css) {\n",
       "    const element = document.createElement(\"style\");\n",
       "    element.appendChild(document.createTextNode(css));\n",
       "    document.body.appendChild(element);\n",
       "  }\n",
       "\n",
       "  \n",
       "  var js_urls = [\"https://cdn.bokeh.org/bokeh/release/bokeh-2.3.3.min.js\", \"https://cdn.bokeh.org/bokeh/release/bokeh-widgets-2.3.3.min.js\", \"https://cdn.bokeh.org/bokeh/release/bokeh-tables-2.3.3.min.js\"];\n",
       "  var css_urls = [];\n",
       "  \n",
       "\n",
       "  var inline_js = [\n",
       "    function(Bokeh) {\n",
       "      Bokeh.set_log_level(\"info\");\n",
       "    },\n",
       "    function(Bokeh) {\n",
       "    \n",
       "    \n",
       "    }\n",
       "  ];\n",
       "\n",
       "  function run_inline_js() {\n",
       "    \n",
       "    if (root.Bokeh !== undefined || force === true) {\n",
       "      \n",
       "    for (var i = 0; i < inline_js.length; i++) {\n",
       "      inline_js[i].call(root, root.Bokeh);\n",
       "    }\n",
       "    if (force === true) {\n",
       "        display_loaded();\n",
       "      }} else if (Date.now() < root._bokeh_timeout) {\n",
       "      setTimeout(run_inline_js, 100);\n",
       "    } else if (!root._bokeh_failed_load) {\n",
       "      console.log(\"Bokeh: BokehJS failed to load within specified timeout.\");\n",
       "      root._bokeh_failed_load = true;\n",
       "    } else if (force !== true) {\n",
       "      var cell = $(document.getElementById(\"1002\")).parents('.cell').data().cell;\n",
       "      cell.output_area.append_execute_result(NB_LOAD_WARNING)\n",
       "    }\n",
       "\n",
       "  }\n",
       "\n",
       "  if (root._bokeh_is_loading === 0) {\n",
       "    console.debug(\"Bokeh: BokehJS loaded, going straight to plotting\");\n",
       "    run_inline_js();\n",
       "  } else {\n",
       "    load_libs(css_urls, js_urls, function() {\n",
       "      console.debug(\"Bokeh: BokehJS plotting callback run at\", now());\n",
       "      run_inline_js();\n",
       "    });\n",
       "  }\n",
       "}(window));"
      ],
      "application/vnd.bokehjs_load.v0+json": "\n(function(root) {\n  function now() {\n    return new Date();\n  }\n\n  var force = true;\n\n  if (typeof root._bokeh_onload_callbacks === \"undefined\" || force === true) {\n    root._bokeh_onload_callbacks = [];\n    root._bokeh_is_loading = undefined;\n  }\n\n  \n\n  \n  if (typeof (root._bokeh_timeout) === \"undefined\" || force === true) {\n    root._bokeh_timeout = Date.now() + 5000;\n    root._bokeh_failed_load = false;\n  }\n\n  var NB_LOAD_WARNING = {'data': {'text/html':\n     \"<div style='background-color: #fdd'>\\n\"+\n     \"<p>\\n\"+\n     \"BokehJS does not appear to have successfully loaded. If loading BokehJS from CDN, this \\n\"+\n     \"may be due to a slow or bad network connection. Possible fixes:\\n\"+\n     \"</p>\\n\"+\n     \"<ul>\\n\"+\n     \"<li>re-rerun `output_notebook()` to attempt to load from CDN again, or</li>\\n\"+\n     \"<li>use INLINE resources instead, as so:</li>\\n\"+\n     \"</ul>\\n\"+\n     \"<code>\\n\"+\n     \"from bokeh.resources import INLINE\\n\"+\n     \"output_notebook(resources=INLINE)\\n\"+\n     \"</code>\\n\"+\n     \"</div>\"}};\n\n  function display_loaded() {\n    var el = document.getElementById(\"1002\");\n    if (el != null) {\n      el.textContent = \"BokehJS is loading...\";\n    }\n    if (root.Bokeh !== undefined) {\n      if (el != null) {\n        el.textContent = \"BokehJS \" + root.Bokeh.version + \" successfully loaded.\";\n      }\n    } else if (Date.now() < root._bokeh_timeout) {\n      setTimeout(display_loaded, 100)\n    }\n  }\n\n\n  function run_callbacks() {\n    try {\n      root._bokeh_onload_callbacks.forEach(function(callback) {\n        if (callback != null)\n          callback();\n      });\n    } finally {\n      delete root._bokeh_onload_callbacks\n    }\n    console.debug(\"Bokeh: all callbacks have finished\");\n  }\n\n  function load_libs(css_urls, js_urls, callback) {\n    if (css_urls == null) css_urls = [];\n    if (js_urls == null) js_urls = [];\n\n    root._bokeh_onload_callbacks.push(callback);\n    if (root._bokeh_is_loading > 0) {\n      console.debug(\"Bokeh: BokehJS is being loaded, scheduling callback at\", now());\n      return null;\n    }\n    if (js_urls == null || js_urls.length === 0) {\n      run_callbacks();\n      return null;\n    }\n    console.debug(\"Bokeh: BokehJS not loaded, scheduling load and callback at\", now());\n    root._bokeh_is_loading = css_urls.length + js_urls.length;\n\n    function on_load() {\n      root._bokeh_is_loading--;\n      if (root._bokeh_is_loading === 0) {\n        console.debug(\"Bokeh: all BokehJS libraries/stylesheets loaded\");\n        run_callbacks()\n      }\n    }\n\n    function on_error(url) {\n      console.error(\"failed to load \" + url);\n    }\n\n    for (let i = 0; i < css_urls.length; i++) {\n      const url = css_urls[i];\n      const element = document.createElement(\"link\");\n      element.onload = on_load;\n      element.onerror = on_error.bind(null, url);\n      element.rel = \"stylesheet\";\n      element.type = \"text/css\";\n      element.href = url;\n      console.debug(\"Bokeh: injecting link tag for BokehJS stylesheet: \", url);\n      document.body.appendChild(element);\n    }\n\n    const hashes = {\"https://cdn.bokeh.org/bokeh/release/bokeh-2.3.3.min.js\": \"dM3QQsP+wXdHg42wTqW85BjZQdLNNIXqlPw/BgKoExPmTG7ZLML4EGqLMfqHT6ON\", \"https://cdn.bokeh.org/bokeh/release/bokeh-tables-2.3.3.min.js\": \"8x57I4YuIfu8XyZfFo0XVr2WAT8EK4rh/uDe3wF7YuW2FNUSNEpJbsPaB1nJ2fz2\", \"https://cdn.bokeh.org/bokeh/release/bokeh-widgets-2.3.3.min.js\": \"3QTqdz9LyAm2i0sG5XTePsHec3UHWwVsrOL68SYRoAXsafvfAyqtQ+h440+qIBhS\"};\n\n    for (let i = 0; i < js_urls.length; i++) {\n      const url = js_urls[i];\n      const element = document.createElement('script');\n      element.onload = on_load;\n      element.onerror = on_error.bind(null, url);\n      element.async = false;\n      element.src = url;\n      if (url in hashes) {\n        element.crossOrigin = \"anonymous\";\n        element.integrity = \"sha384-\" + hashes[url];\n      }\n      console.debug(\"Bokeh: injecting script tag for BokehJS library: \", url);\n      document.head.appendChild(element);\n    }\n  };\n\n  function inject_raw_css(css) {\n    const element = document.createElement(\"style\");\n    element.appendChild(document.createTextNode(css));\n    document.body.appendChild(element);\n  }\n\n  \n  var js_urls = [\"https://cdn.bokeh.org/bokeh/release/bokeh-2.3.3.min.js\", \"https://cdn.bokeh.org/bokeh/release/bokeh-widgets-2.3.3.min.js\", \"https://cdn.bokeh.org/bokeh/release/bokeh-tables-2.3.3.min.js\"];\n  var css_urls = [];\n  \n\n  var inline_js = [\n    function(Bokeh) {\n      Bokeh.set_log_level(\"info\");\n    },\n    function(Bokeh) {\n    \n    \n    }\n  ];\n\n  function run_inline_js() {\n    \n    if (root.Bokeh !== undefined || force === true) {\n      \n    for (var i = 0; i < inline_js.length; i++) {\n      inline_js[i].call(root, root.Bokeh);\n    }\n    if (force === true) {\n        display_loaded();\n      }} else if (Date.now() < root._bokeh_timeout) {\n      setTimeout(run_inline_js, 100);\n    } else if (!root._bokeh_failed_load) {\n      console.log(\"Bokeh: BokehJS failed to load within specified timeout.\");\n      root._bokeh_failed_load = true;\n    } else if (force !== true) {\n      var cell = $(document.getElementById(\"1002\")).parents('.cell').data().cell;\n      cell.output_area.append_execute_result(NB_LOAD_WARNING)\n    }\n\n  }\n\n  if (root._bokeh_is_loading === 0) {\n    console.debug(\"Bokeh: BokehJS loaded, going straight to plotting\");\n    run_inline_js();\n  } else {\n    load_libs(css_urls, js_urls, function() {\n      console.debug(\"Bokeh: BokehJS plotting callback run at\", now());\n      run_inline_js();\n    });\n  }\n}(window));"
     },
     "metadata": {},
     "output_type": "display_data"
    }
   ],
   "source": [
    "# Set up notebook parameters\n",
    "%matplotlib inline\n",
    "pd.set_option('display.max_columns', None)\n",
    "pd.set_option('display.max_colwidth', None)\n",
    "output_notebook() # outputs bokeh plots directly in notebook"
   ]
  },
  {
   "cell_type": "code",
   "execution_count": 3,
   "metadata": {},
   "outputs": [],
   "source": [
    "# Set configuration parameters\n",
    "random_seed = 42\n",
    "random.seed = random_seed\n",
    "centre_lat_lon = (53, -1.2) # defined as approximate centre of UK"
   ]
  },
  {
   "cell_type": "markdown",
   "metadata": {},
   "source": [
    "## Exploratory Data Analysis"
   ]
  },
  {
   "cell_type": "code",
   "execution_count": 4,
   "metadata": {},
   "outputs": [
    {
     "name": "stdout",
     "output_type": "stream",
     "text": [
      "Length of raw dataset = 8,659\n",
      "Number of patients in raw dataset = 286,924\n"
     ]
    },
    {
     "data": {
      "text/html": [
       "<div>\n",
       "<style scoped>\n",
       "    .dataframe tbody tr th:only-of-type {\n",
       "        vertical-align: middle;\n",
       "    }\n",
       "\n",
       "    .dataframe tbody tr th {\n",
       "        vertical-align: top;\n",
       "    }\n",
       "\n",
       "    .dataframe thead th {\n",
       "        text-align: right;\n",
       "    }\n",
       "</style>\n",
       "<table border=\"1\" class=\"dataframe\">\n",
       "  <thead>\n",
       "    <tr style=\"text-align: right;\">\n",
       "      <th></th>\n",
       "      <th>n_patients</th>\n",
       "      <th>n_clusters</th>\n",
       "      <th>latlong</th>\n",
       "      <th>clusters</th>\n",
       "      <th>region</th>\n",
       "      <th>postcodes</th>\n",
       "      <th>created</th>\n",
       "      <th>mode</th>\n",
       "    </tr>\n",
       "  </thead>\n",
       "  <tbody>\n",
       "    <tr>\n",
       "      <th>0</th>\n",
       "      <td>6</td>\n",
       "      <td>1</td>\n",
       "      <td>[[-0.0011351833333321792, -0.03472788333333332], [0.0018483166666669604, -0.03430198333333312], [0.0005629166666665242, 0.018650416666667002], [-0.0023297833333302265, 0.018505116666666765], [0.002702216666669699, 0.015526416666666876], [-0.0016484833333336724, 0.016347916666666684]]</td>\n",
       "      <td>[[2, 3, 5, 4, 1, 0]]</td>\n",
       "      <td>UK</td>\n",
       "      <td>{}</td>\n",
       "      <td>2021-01-23</td>\n",
       "      <td>driving</td>\n",
       "    </tr>\n",
       "  </tbody>\n",
       "</table>\n",
       "</div>"
      ],
      "text/plain": [
       "   n_patients  n_clusters  \\\n",
       "0           6           1   \n",
       "\n",
       "                                                                                                                                                                                                                                                                                        latlong  \\\n",
       "0  [[-0.0011351833333321792, -0.03472788333333332], [0.0018483166666669604, -0.03430198333333312], [0.0005629166666665242, 0.018650416666667002], [-0.0023297833333302265, 0.018505116666666765], [0.002702216666669699, 0.015526416666666876], [-0.0016484833333336724, 0.016347916666666684]]   \n",
       "\n",
       "               clusters region postcodes     created     mode  \n",
       "0  [[2, 3, 5, 4, 1, 0]]     UK        {}  2021-01-23  driving  "
      ]
     },
     "execution_count": 4,
     "metadata": {},
     "output_type": "execute_result"
    }
   ],
   "source": [
    "# Plot example row of df\n",
    "print(\"Length of raw dataset = {:,}\".format(len(dataset)))\n",
    "print(\"Number of patients in raw dataset = {:,}\".format(dataset.n_patients.sum()))\n",
    "dataset.head(1)"
   ]
  },
  {
   "cell_type": "code",
   "execution_count": 5,
   "metadata": {},
   "outputs": [
    {
     "name": "stdout",
     "output_type": "stream",
     "text": [
      "Number of duplicates = 2,849\n"
     ]
    }
   ],
   "source": [
    "# Test to identify duplicates: need to convert latlong numpy to string beforehand to be able to drop\n",
    "df1 = dataset.copy()[[\"latlong\"]]\n",
    "df1.latlong = df1.latlong.astype(\"str\")\n",
    "df1 = df1.sort_values(\"latlong\")\n",
    "\n",
    "# extract number of duplicates from pandas duplicated inbuilt function\n",
    "df1[\"is_duplicate\"] = df1.duplicated(subset=\"latlong\", keep=\"last\")\n",
    "print(\"Number of duplicates = {:,}\".format(len(df1.loc[df1.is_duplicate == True])))"
   ]
  },
  {
   "cell_type": "code",
   "execution_count": 6,
   "metadata": {},
   "outputs": [
    {
     "data": {
      "text/html": [
       "<div>\n",
       "<style scoped>\n",
       "    .dataframe tbody tr th:only-of-type {\n",
       "        vertical-align: middle;\n",
       "    }\n",
       "\n",
       "    .dataframe tbody tr th {\n",
       "        vertical-align: top;\n",
       "    }\n",
       "\n",
       "    .dataframe thead th {\n",
       "        text-align: right;\n",
       "    }\n",
       "</style>\n",
       "<table border=\"1\" class=\"dataframe\">\n",
       "  <thead>\n",
       "    <tr style=\"text-align: right;\">\n",
       "      <th></th>\n",
       "      <th>latlong</th>\n",
       "      <th>is_duplicate</th>\n",
       "      <th>is_duplicate_keep_both</th>\n",
       "    </tr>\n",
       "  </thead>\n",
       "  <tbody>\n",
       "    <tr>\n",
       "      <th>3091</th>\n",
       "      <td>[[  0.52405293   3.92101897]\\n [  0.55872712   3.85893157]\\n [  0.54876492   3.89190307]\\n [  0.54966812   3.89196977]\\n [  0.54624852   3.89271367]\\n [  0.54583842   3.89267127]\\n [  0.54535412   3.89462037]\\n [  0.54742872   3.89657457]\\n [  0.55436802   3.85095737]\\n [  0.54456612   3.89271007]\\n [  0.52911782   3.91491207]\\n [  0.52911782   3.91491207]\\n [  0.52992102   3.91602817]\\n [  0.52992102   3.91602817]\\n [  0.52884392   3.90426727]\\n [  0.52714462   3.91622087]\\n [  0.52541342   3.91298777]\\n [  0.52837862   3.91484467]\\n [  0.53021882   3.91953967]\\n [  0.53001182   3.89907477]\\n [  0.52884392   3.90426727]\\n [  0.52619842   3.91898797]\\n [  0.52611872   3.91750837]\\n [-12.33426708 -89.75364992]]</td>\n",
       "      <td>True</td>\n",
       "      <td>True</td>\n",
       "    </tr>\n",
       "    <tr>\n",
       "      <th>3089</th>\n",
       "      <td>[[  0.52405293   3.92101897]\\n [  0.55872712   3.85893157]\\n [  0.54876492   3.89190307]\\n [  0.54966812   3.89196977]\\n [  0.54624852   3.89271367]\\n [  0.54583842   3.89267127]\\n [  0.54535412   3.89462037]\\n [  0.54742872   3.89657457]\\n [  0.55436802   3.85095737]\\n [  0.54456612   3.89271007]\\n [  0.52911782   3.91491207]\\n [  0.52911782   3.91491207]\\n [  0.52992102   3.91602817]\\n [  0.52992102   3.91602817]\\n [  0.52884392   3.90426727]\\n [  0.52714462   3.91622087]\\n [  0.52541342   3.91298777]\\n [  0.52837862   3.91484467]\\n [  0.53021882   3.91953967]\\n [  0.53001182   3.89907477]\\n [  0.52884392   3.90426727]\\n [  0.52619842   3.91898797]\\n [  0.52611872   3.91750837]\\n [-12.33426708 -89.75364992]]</td>\n",
       "      <td>True</td>\n",
       "      <td>True</td>\n",
       "    </tr>\n",
       "  </tbody>\n",
       "</table>\n",
       "</div>"
      ],
      "text/plain": [
       "                                                                                                                                                                                                                                                                                                                                                                                                                                                                                                                                                                                                                                                                                                                                              latlong  \\\n",
       "3091  [[  0.52405293   3.92101897]\\n [  0.55872712   3.85893157]\\n [  0.54876492   3.89190307]\\n [  0.54966812   3.89196977]\\n [  0.54624852   3.89271367]\\n [  0.54583842   3.89267127]\\n [  0.54535412   3.89462037]\\n [  0.54742872   3.89657457]\\n [  0.55436802   3.85095737]\\n [  0.54456612   3.89271007]\\n [  0.52911782   3.91491207]\\n [  0.52911782   3.91491207]\\n [  0.52992102   3.91602817]\\n [  0.52992102   3.91602817]\\n [  0.52884392   3.90426727]\\n [  0.52714462   3.91622087]\\n [  0.52541342   3.91298777]\\n [  0.52837862   3.91484467]\\n [  0.53021882   3.91953967]\\n [  0.53001182   3.89907477]\\n [  0.52884392   3.90426727]\\n [  0.52619842   3.91898797]\\n [  0.52611872   3.91750837]\\n [-12.33426708 -89.75364992]]   \n",
       "3089  [[  0.52405293   3.92101897]\\n [  0.55872712   3.85893157]\\n [  0.54876492   3.89190307]\\n [  0.54966812   3.89196977]\\n [  0.54624852   3.89271367]\\n [  0.54583842   3.89267127]\\n [  0.54535412   3.89462037]\\n [  0.54742872   3.89657457]\\n [  0.55436802   3.85095737]\\n [  0.54456612   3.89271007]\\n [  0.52911782   3.91491207]\\n [  0.52911782   3.91491207]\\n [  0.52992102   3.91602817]\\n [  0.52992102   3.91602817]\\n [  0.52884392   3.90426727]\\n [  0.52714462   3.91622087]\\n [  0.52541342   3.91298777]\\n [  0.52837862   3.91484467]\\n [  0.53021882   3.91953967]\\n [  0.53001182   3.89907477]\\n [  0.52884392   3.90426727]\\n [  0.52619842   3.91898797]\\n [  0.52611872   3.91750837]\\n [-12.33426708 -89.75364992]]   \n",
       "\n",
       "      is_duplicate  is_duplicate_keep_both  \n",
       "3091          True                    True  \n",
       "3089          True                    True  "
      ]
     },
     "execution_count": 6,
     "metadata": {},
     "output_type": "execute_result"
    }
   ],
   "source": [
    "# Demonstrate example of duplicate indices:\n",
    "df1[\"is_duplicate_keep_both\"] = df1.duplicated(subset=\"latlong\", keep=False)\n",
    "df1.loc[df1.is_duplicate_keep_both == True][:2]"
   ]
  },
  {
   "cell_type": "code",
   "execution_count": 7,
   "metadata": {},
   "outputs": [
    {
     "name": "stdout",
     "output_type": "stream",
     "text": [
      "Length of dataset without duplicates = 5,810\n",
      "Number of patients in dataset without duplicates = 179,073\n"
     ]
    }
   ],
   "source": [
    "# Remove duplicate indices from raw dataset, keeping \"last\" assuming earlier duplicates were for testing\n",
    "df = dataset.loc[dataset.index.isin(df1.loc[df1.is_duplicate == False].index.values)]\n",
    "print(\"Length of dataset without duplicates = {:,}\".format(len(df)))\n",
    "print(\"Number of patients in dataset without duplicates = {:,}\".format(df.n_patients.sum()))"
   ]
  },
  {
   "cell_type": "markdown",
   "metadata": {},
   "source": [
    "N.B: For now assuming duplicate lat/lon within nested list in one row is because these patients share the same address, rather than clerical error e.g. if user accidentally has duplicates patients in their excel sheet."
   ]
  },
  {
   "cell_type": "code",
   "execution_count": 8,
   "metadata": {},
   "outputs": [],
   "source": [
    "# Create new feature: max cluster size\n",
    "df[\"max_cluster_size\"] = df[\"clusters\"].apply(FindMaxLength)\n",
    "\n",
    "# Create new feature: postcodes size (used to filter empty postcode dicts)\n",
    "df[\"postcodes_size\"] = [len(i) for i in df.postcodes]\n"
   ]
  },
  {
   "cell_type": "code",
   "execution_count": 9,
   "metadata": {},
   "outputs": [
    {
     "data": {
      "text/html": [
       "\n",
       "\n",
       "\n",
       "\n",
       "\n",
       "\n",
       "  <div class=\"bk-root\" id=\"3d8a1a2b-5a05-4b5d-b087-8e1b0f0a2063\" data-root-id=\"1003\"></div>\n"
      ]
     },
     "metadata": {},
     "output_type": "display_data"
    },
    {
     "data": {
      "application/javascript": [
       "(function(root) {\n",
       "  function embed_document(root) {\n",
       "    \n",
       "  var docs_json = {\"31e06625-a358-463d-92ec-9de1bc1c8332\":{\"defs\":[],\"roots\":{\"references\":[{\"attributes\":{\"below\":[{\"id\":\"1014\"}],\"center\":[{\"id\":\"1017\"},{\"id\":\"1021\"}],\"height\":300,\"left\":[{\"id\":\"1018\"}],\"renderers\":[{\"id\":\"1039\"}],\"title\":{\"id\":\"1004\"},\"toolbar\":{\"id\":\"1029\"},\"width\":800,\"x_range\":{\"id\":\"1006\"},\"x_scale\":{\"id\":\"1010\"},\"y_range\":{\"id\":\"1008\"},\"y_scale\":{\"id\":\"1012\"}},\"id\":\"1003\",\"subtype\":\"Figure\",\"type\":\"Plot\"},{\"attributes\":{\"days\":[1,15]},\"id\":\"1057\",\"type\":\"DaysTicker\"},{\"attributes\":{},\"id\":\"1062\",\"type\":\"YearsTicker\"},{\"attributes\":{\"data_source\":{\"id\":\"1036\"},\"glyph\":{\"id\":\"1037\"},\"hover_glyph\":null,\"muted_glyph\":null,\"nonselection_glyph\":{\"id\":\"1038\"},\"view\":{\"id\":\"1040\"}},\"id\":\"1039\",\"type\":\"GlyphRenderer\"},{\"attributes\":{},\"id\":\"1022\",\"type\":\"PanTool\"},{\"attributes\":{\"line_alpha\":0.1,\"line_color\":\"#1f77b4\",\"x\":{\"field\":\"x\"},\"y\":{\"field\":\"y\"}},\"id\":\"1038\",\"type\":\"Line\"},{\"attributes\":{\"axis\":{\"id\":\"1014\"},\"grid_line_alpha\":0.3,\"ticker\":null},\"id\":\"1017\",\"type\":\"Grid\"},{\"attributes\":{\"axis_label\":\"Request Frequency\",\"formatter\":{\"id\":\"1044\"},\"major_label_policy\":{\"id\":\"1043\"},\"ticker\":{\"id\":\"1019\"}},\"id\":\"1018\",\"type\":\"LinearAxis\"},{\"attributes\":{\"months\":[0,4,8]},\"id\":\"1060\",\"type\":\"MonthsTicker\"},{\"attributes\":{},\"id\":\"1027\",\"type\":\"HelpTool\"},{\"attributes\":{},\"id\":\"1019\",\"type\":\"BasicTicker\"},{\"attributes\":{},\"id\":\"1043\",\"type\":\"AllLabels\"},{\"attributes\":{\"line_color\":\"#1f77b4\",\"x\":{\"field\":\"x\"},\"y\":{\"field\":\"y\"}},\"id\":\"1037\",\"type\":\"Line\"},{\"attributes\":{\"source\":{\"id\":\"1036\"}},\"id\":\"1040\",\"type\":\"CDSView\"},{\"attributes\":{\"active_multi\":null,\"tools\":[{\"id\":\"1022\"},{\"id\":\"1023\"},{\"id\":\"1024\"},{\"id\":\"1025\"},{\"id\":\"1026\"},{\"id\":\"1027\"}]},\"id\":\"1029\",\"type\":\"Toolbar\"},{\"attributes\":{},\"id\":\"1044\",\"type\":\"BasicTickFormatter\"},{\"attributes\":{},\"id\":\"1050\",\"type\":\"UnionRenderers\"},{\"attributes\":{},\"id\":\"1046\",\"type\":\"AllLabels\"},{\"attributes\":{},\"id\":\"1008\",\"type\":\"DataRange1d\"},{\"attributes\":{\"bottom_units\":\"screen\",\"fill_alpha\":0.5,\"fill_color\":\"lightgrey\",\"left_units\":\"screen\",\"level\":\"overlay\",\"line_alpha\":1.0,\"line_color\":\"black\",\"line_dash\":[4,4],\"line_width\":2,\"right_units\":\"screen\",\"syncable\":false,\"top_units\":\"screen\"},\"id\":\"1028\",\"type\":\"BoxAnnotation\"},{\"attributes\":{\"num_minor_ticks\":5,\"tickers\":[{\"id\":\"1051\"},{\"id\":\"1052\"},{\"id\":\"1053\"},{\"id\":\"1054\"},{\"id\":\"1055\"},{\"id\":\"1056\"},{\"id\":\"1057\"},{\"id\":\"1058\"},{\"id\":\"1059\"},{\"id\":\"1060\"},{\"id\":\"1061\"},{\"id\":\"1062\"}]},\"id\":\"1015\",\"type\":\"DatetimeTicker\"},{\"attributes\":{\"overlay\":{\"id\":\"1028\"}},\"id\":\"1024\",\"type\":\"BoxZoomTool\"},{\"attributes\":{},\"id\":\"1049\",\"type\":\"Selection\"},{\"attributes\":{\"axis\":{\"id\":\"1018\"},\"dimension\":1,\"grid_line_alpha\":0.3,\"ticker\":null},\"id\":\"1021\",\"type\":\"Grid\"},{\"attributes\":{\"mantissas\":[1,2,5],\"max_interval\":500.0,\"num_minor_ticks\":0},\"id\":\"1051\",\"type\":\"AdaptiveTicker\"},{\"attributes\":{\"base\":60,\"mantissas\":[1,2,5,10,15,20,30],\"max_interval\":1800000.0,\"min_interval\":1000.0,\"num_minor_ticks\":0},\"id\":\"1052\",\"type\":\"AdaptiveTicker\"},{\"attributes\":{\"days\":[1,2,3,4,5,6,7,8,9,10,11,12,13,14,15,16,17,18,19,20,21,22,23,24,25,26,27,28,29,30,31]},\"id\":\"1054\",\"type\":\"DaysTicker\"},{\"attributes\":{},\"id\":\"1010\",\"type\":\"LinearScale\"},{\"attributes\":{},\"id\":\"1023\",\"type\":\"WheelZoomTool\"},{\"attributes\":{},\"id\":\"1012\",\"type\":\"LinearScale\"},{\"attributes\":{\"base\":24,\"mantissas\":[1,2,4,6,8,12],\"max_interval\":43200000.0,\"min_interval\":3600000.0,\"num_minor_ticks\":0},\"id\":\"1053\",\"type\":\"AdaptiveTicker\"},{\"attributes\":{\"months\":[0,2,4,6,8,10]},\"id\":\"1059\",\"type\":\"MonthsTicker\"},{\"attributes\":{},\"id\":\"1006\",\"type\":\"DataRange1d\"},{\"attributes\":{},\"id\":\"1026\",\"type\":\"ResetTool\"},{\"attributes\":{\"months\":[0,1,2,3,4,5,6,7,8,9,10,11]},\"id\":\"1058\",\"type\":\"MonthsTicker\"},{\"attributes\":{\"axis_label\":\"Date\",\"formatter\":{\"id\":\"1047\"},\"major_label_policy\":{\"id\":\"1046\"},\"ticker\":{\"id\":\"1015\"}},\"id\":\"1014\",\"type\":\"DatetimeAxis\"},{\"attributes\":{\"days\":[1,4,7,10,13,16,19,22,25,28]},\"id\":\"1055\",\"type\":\"DaysTicker\"},{\"attributes\":{\"text\":\"Number of Vaximap requests per date\"},\"id\":\"1004\",\"type\":\"Title\"},{\"attributes\":{},\"id\":\"1047\",\"type\":\"DatetimeTickFormatter\"},{\"attributes\":{\"data\":{\"x\":{\"__ndarray__\":\"AACApchyd0IAAEALG3N3QgAAAHFtc3dCAADA1r9zd0IAAIA8EnR3QgAAQKJkdHdCAAAACLd0d0IAAMBtCXV3QgAAgNNbdXdCAABAOa51d0IAAACfAHZ3QgAAwARTdndCAACAaqV2d0IAAEDQ93Z3QgAAADZKd3dCAADAm5x3d0IAAIAB73d3QgAAQGdBeHdCAAAAzZN4d0IAAMAy5nh3QgAAgJg4eXdCAABA/op5d0IAAABk3Xl3QgAAwMkvendCAACAL4J6d0IAAECV1Hp3QgAAAPsme3dCAADAYHl7d0IAAIDGy3t3QgAAQCwefHdCAAAAknB8d0IAAMD3wnx3QgAAgF0VfXdCAABAw2d9d0IAAAApun13QgAAgPRefndCAABAWrF+d0IAAADAA393QgAAwCVWf3dCAACAi6h/d0IAAEDx+n93QgAAAFdNgHdCAADAvJ+Ad0IAAIAi8oB3QgAAQIhEgXdCAAAA7paBd0IAAMBT6YF3QgAAgLk7gndCAABAH46Cd0IAAACF4IJ3QgAAwOoyg3dCAACAUIWDd0IAAEC214N3QgAAABwqhHdCAADAgXyEd0IAAIDnzoR3QgAAQE0hhXdCAAAAs3OFd0IAAMAYxoV3QgAAgH4YhndCAABA5GqGd0IAAABKvYZ3QgAAgBVih3dCAABAe7SHd0IAAADhBoh3QgAAwEZZiHdCAACArKuId0IAAEAS/oh3QgAAAHhQiXdCAADA3aKJd0IAAIBD9Yl3QgAAQKlHindCAAAAD5qKd0IAAMB07Ip3QgAAgNo+i3dCAABAQJGLd0IAAACm44t3QgAAwAs2jHdCAACAcYiMd0IAAEDX2ox3QgAAAD0tjXdCAADAon+Nd0IAAIAI0o13QgAAQG4kjndCAAAA1HaOd0IAAMA5yY53QgAAgJ8bj3dCAABABW6Pd0IAAABrwI93QgAAwNASkHdCAACANmWQd0IAAECct5B3QgAAAAIKkXdCAADAZ1yRd0IAAIDNrpF3QgAAQDMBkndCAAAAmVOSd0IAAMD+pZJ3QgAAQMpKk3dCAAAAMJ2Td0IAAMCV75N3QgAAgPtBlHdCAABAYZSUd0IAAADH5pR3QgAAwCw5lXdCAACAkouVd0IAAED43ZV3QgAAAF4wlndCAADAw4KWd0IAAIAp1ZZ3QgAAQI8nl3dCAAAA9XmXd0IAAMBazJd3QgAAgMAemHdCAABAJnGYd0IAAACMw5h3QgAAwPEVmXdCAABAvbqZd0IAAAAjDZp3QgAAwIhfmndCAACA7rGad0IAAEBUBJt3QgAAwB+pm3dCAABA602cd0IAAABRoJx3QgAAwLbynHdCAACAHEWdd0IAAADo6Z13QgAAwE08nndCAACAs46ed0IAAEAZ4Z53QgAAAH8zn3dCAADA5IWfd0IAAECwKqB3QgAAABZ9oHdCAADAe8+gd0IAAIDhIaF3Qg==\",\"dtype\":\"float64\",\"order\":\"little\",\"shape\":[137]},\"y\":[451,33,185,184,190,187,155,21,28,144,163,167,122,192,27,55,138,151,162,129,85,31,16,46,60,34,29,37,4,3,35,29,27,27,19,2,23,30,42,24,11,8,2,15,25,11,39,14,5,1,19,26,18,14,34,13,1,33,25,15,19,18,6,34,18,14,17,3,2,3,12,44,46,47,30,8,6,56,61,44,65,51,4,8,75,103,85,82,84,7,1,83,87,58,69,37,4,2,46,33,40,24,2,6,31,41,26,17,14,10,2,14,31,17,20,8,5,25,12,25,25,8,3,15,8,8,9,2,8,10,14,19,5,1,4,7,6]},\"selected\":{\"id\":\"1049\"},\"selection_policy\":{\"id\":\"1050\"}},\"id\":\"1036\",\"type\":\"ColumnDataSource\"},{\"attributes\":{\"months\":[0,6]},\"id\":\"1061\",\"type\":\"MonthsTicker\"},{\"attributes\":{\"days\":[1,8,15,22]},\"id\":\"1056\",\"type\":\"DaysTicker\"},{\"attributes\":{},\"id\":\"1025\",\"type\":\"SaveTool\"}],\"root_ids\":[\"1003\"]},\"title\":\"Bokeh Application\",\"version\":\"2.3.3\"}};\n",
       "  var render_items = [{\"docid\":\"31e06625-a358-463d-92ec-9de1bc1c8332\",\"root_ids\":[\"1003\"],\"roots\":{\"1003\":\"3d8a1a2b-5a05-4b5d-b087-8e1b0f0a2063\"}}];\n",
       "  root.Bokeh.embed.embed_items_notebook(docs_json, render_items);\n",
       "\n",
       "  }\n",
       "  if (root.Bokeh !== undefined) {\n",
       "    embed_document(root);\n",
       "  } else {\n",
       "    var attempts = 0;\n",
       "    var timer = setInterval(function(root) {\n",
       "      if (root.Bokeh !== undefined) {\n",
       "        clearInterval(timer);\n",
       "        embed_document(root);\n",
       "      } else {\n",
       "        attempts++;\n",
       "        if (attempts > 100) {\n",
       "          clearInterval(timer);\n",
       "          console.log(\"Bokeh: ERROR: Unable to run BokehJS code because BokehJS library is missing\");\n",
       "        }\n",
       "      }\n",
       "    }, 10, root)\n",
       "  }\n",
       "})(window);"
      ],
      "application/vnd.bokehjs_exec.v0+json": ""
     },
     "metadata": {
      "application/vnd.bokehjs_exec.v0+json": {
       "id": "1003"
      }
     },
     "output_type": "display_data"
    }
   ],
   "source": [
    "# Plot usage per day: group by date to get df_usage\n",
    "df_usage = df.groupby(df.created).count().reset_index()\n",
    "\n",
    "p1 = figure(x_axis_type=\"datetime\", title=\"Number of Vaximap requests per date\", plot_width=800, plot_height=300)\n",
    "p1.grid.grid_line_alpha = 0.3\n",
    "p1.xaxis.axis_label = 'Date'\n",
    "p1.yaxis.axis_label = 'Request Frequency'\n",
    "p1.line(df_usage.created, df_usage.n_patients)\n",
    "show(p1)"
   ]
  },
  {
   "cell_type": "code",
   "execution_count": 10,
   "metadata": {},
   "outputs": [
    {
     "name": "stdout",
     "output_type": "stream",
     "text": [
      "n_clusters: \n",
      "Number of distinct categories = 31 \n",
      "Majority class = '1' with 2871 (49%) of samples.\n",
      "Number of nulls in feature = 0 (0.0%)\n"
     ]
    },
    {
     "data": {
      "image/png": "[encoded data removed]",
      "text/plain": [
       "<Figure size 1080x288 with 1 Axes>"
      ]
     },
     "metadata": {
      "needs_background": "light"
     },
     "output_type": "display_data"
    },
    {
     "name": "stdout",
     "output_type": "stream",
     "text": [
      "mode: \n",
      "Number of distinct categories = 2 \n",
      "Majority class = 'driving' with 5762 (99%) of samples.\n",
      "Number of nulls in feature = 0 (0.0%)\n"
     ]
    },
    {
     "data": {
      "image/png": "[encoded data removed]",
      "text/plain": [
       "<Figure size 1080x288 with 1 Axes>"
      ]
     },
     "metadata": {
      "needs_background": "light"
     },
     "output_type": "display_data"
    }
   ],
   "source": [
    "# Categorical variables\n",
    "categorical_features = ['n_clusters', 'mode'] \n",
    "univariateCategorical(df, categorical_features)"
   ]
  },
  {
   "cell_type": "code",
   "execution_count": 11,
   "metadata": {},
   "outputs": [
    {
     "data": {
      "text/html": [
       "<div>\n",
       "<style scoped>\n",
       "    .dataframe tbody tr th:only-of-type {\n",
       "        vertical-align: middle;\n",
       "    }\n",
       "\n",
       "    .dataframe tbody tr th {\n",
       "        vertical-align: top;\n",
       "    }\n",
       "\n",
       "    .dataframe thead th {\n",
       "        text-align: right;\n",
       "    }\n",
       "</style>\n",
       "<table border=\"1\" class=\"dataframe\">\n",
       "  <thead>\n",
       "    <tr style=\"text-align: right;\">\n",
       "      <th></th>\n",
       "      <th>n_patients</th>\n",
       "      <th>n_clusters</th>\n",
       "      <th>max_cluster_size</th>\n",
       "    </tr>\n",
       "  </thead>\n",
       "  <tbody>\n",
       "    <tr>\n",
       "      <th>count</th>\n",
       "      <td>5810.00</td>\n",
       "      <td>5810.00</td>\n",
       "      <td>5810.00</td>\n",
       "    </tr>\n",
       "    <tr>\n",
       "      <th>mean</th>\n",
       "      <td>31.00</td>\n",
       "      <td>3.00</td>\n",
       "      <td>12.00</td>\n",
       "    </tr>\n",
       "    <tr>\n",
       "      <th>std</th>\n",
       "      <td>41.00</td>\n",
       "      <td>3.00</td>\n",
       "      <td>5.00</td>\n",
       "    </tr>\n",
       "    <tr>\n",
       "      <th>min</th>\n",
       "      <td>3.00</td>\n",
       "      <td>1.00</td>\n",
       "      <td>3.00</td>\n",
       "    </tr>\n",
       "    <tr>\n",
       "      <th>25%</th>\n",
       "      <td>10.00</td>\n",
       "      <td>1.00</td>\n",
       "      <td>9.00</td>\n",
       "    </tr>\n",
       "    <tr>\n",
       "      <th>50%</th>\n",
       "      <td>18.00</td>\n",
       "      <td>2.00</td>\n",
       "      <td>11.00</td>\n",
       "    </tr>\n",
       "    <tr>\n",
       "      <th>75%</th>\n",
       "      <td>32.00</td>\n",
       "      <td>3.00</td>\n",
       "      <td>12.00</td>\n",
       "    </tr>\n",
       "    <tr>\n",
       "      <th>max</th>\n",
       "      <td>300.00</td>\n",
       "      <td>33.00</td>\n",
       "      <td>25.00</td>\n",
       "    </tr>\n",
       "    <tr>\n",
       "      <th>median</th>\n",
       "      <td>18.00</td>\n",
       "      <td>2.00</td>\n",
       "      <td>11.00</td>\n",
       "    </tr>\n",
       "    <tr>\n",
       "      <th>skew</th>\n",
       "      <td>3.59</td>\n",
       "      <td>3.56</td>\n",
       "      <td>1.09</td>\n",
       "    </tr>\n",
       "    <tr>\n",
       "      <th>kurtosis</th>\n",
       "      <td>15.45</td>\n",
       "      <td>16.52</td>\n",
       "      <td>0.64</td>\n",
       "    </tr>\n",
       "    <tr>\n",
       "      <th>normality: statistic</th>\n",
       "      <td>4373.80</td>\n",
       "      <td>4390.53</td>\n",
       "      <td>842.15</td>\n",
       "    </tr>\n",
       "    <tr>\n",
       "      <th>normality: p-value</th>\n",
       "      <td>0.00</td>\n",
       "      <td>0.00</td>\n",
       "      <td>0.00</td>\n",
       "    </tr>\n",
       "  </tbody>\n",
       "</table>\n",
       "</div>"
      ],
      "text/plain": [
       "                      n_patients  n_clusters  max_cluster_size\n",
       "count                    5810.00     5810.00           5810.00\n",
       "mean                       31.00        3.00             12.00\n",
       "std                        41.00        3.00              5.00\n",
       "min                         3.00        1.00              3.00\n",
       "25%                        10.00        1.00              9.00\n",
       "50%                        18.00        2.00             11.00\n",
       "75%                        32.00        3.00             12.00\n",
       "max                       300.00       33.00             25.00\n",
       "median                     18.00        2.00             11.00\n",
       "skew                        3.59        3.56              1.09\n",
       "kurtosis                   15.45       16.52              0.64\n",
       "normality: statistic     4373.80     4390.53            842.15\n",
       "normality: p-value          0.00        0.00              0.00"
      ]
     },
     "execution_count": 11,
     "metadata": {},
     "output_type": "execute_result"
    },
    {
     "data": {
      "image/png": "[encoded data removed]",
      "text/plain": [
       "<Figure size 1440x576 with 3 Axes>"
      ]
     },
     "metadata": {
      "needs_background": "light"
     },
     "output_type": "display_data"
    }
   ],
   "source": [
    "# Numerical variables\n",
    "numerical_features = ['n_patients', 'n_clusters', 'max_cluster_size'] \n",
    "univariateContinuous(df, numerical_features)"
   ]
  },
  {
   "cell_type": "code",
   "execution_count": 12,
   "metadata": {},
   "outputs": [
    {
     "data": {
      "image/png": "[encoded data removed]",
      "text/plain": [
       "<Figure size 1080x504 with 1 Axes>"
      ]
     },
     "metadata": {
      "needs_background": "light"
     },
     "output_type": "display_data"
    }
   ],
   "source": [
    "# Plot bivariate analysis between n_clusters and max_cluster_size\n",
    "bivariateContinuous(df, \"n_clusters\", \"max_cluster_size\", corr_type=\"spearman\")"
   ]
  },
  {
   "cell_type": "markdown",
   "metadata": {},
   "source": [
    "### Key observations:\n",
    "\n",
    "* Mean n_patients = 31 and long tail, kurtosis = 15.45\n",
    "* Most requests seemed to have used the website default value D = 11 for cluster size, secondary peak at D = 9 (explained by fact that AstraZeneca has 9 vials). 3 <= D <= 25 (which is what we need, probably due to form constraints set on vaximap website)"
   ]
  },
  {
   "cell_type": "markdown",
   "metadata": {},
   "source": [
    "## Assessing Patient Clustering"
   ]
  },
  {
   "cell_type": "markdown",
   "metadata": {},
   "source": [
    "Evaluating how well the iterative K means works. We compare clustering to non-optimised grouping to see how much time is saved in Delivery time (total time = Planning time + Delivery time, in this analysis not focusing on planning time)."
   ]
  },
  {
   "cell_type": "code",
   "execution_count": 13,
   "metadata": {},
   "outputs": [],
   "source": [
    "# To do"
   ]
  },
  {
   "cell_type": "markdown",
   "metadata": {},
   "source": [
    "## Hierarchical Clustering"
   ]
  },
  {
   "cell_type": "markdown",
   "metadata": {},
   "source": [
    "(Iterative) K-Means clustering is being used currently to:\n",
    "   * Find the centroid of G clusters\n",
    "   * Populate clusters using ranking based on optimisation penalty, each cluster given patient size <=D, based on distances between patient lat/lon and centroid lat/lon (similar to https://elki-project.github.io/tutorial/same-size_k_means)\n",
    "   \n",
    "(we assume that cluster label, which is integer, has no cardinal value).\n",
    "\n",
    "K-means uses Euclidean-based distance metrics, however since lat/lon coordinates are on a geodesic, there may be some error when comparing distances. One way to get around this is clustering using HDBSCAN (Hierarchical Density-Based Spatial Clustering), but you cannot set the number of clusters: it instead words to find spatially dense areas with nearest neighbour / separation between clusters being prime parameters.\n",
    "\n",
    "A better tool than HDBSCAN is tree-based Hierarchical clustering, since it can support haversine metrics to accurately calculate lat/lon distance, you can set number of clusters and it is non-parametric. Centre of cluster = mean value of items. There is an iterative fashion to achieve this using the outline described here (http://jmonlong.github.io/Hippocamplus/2018/06/09/cluster-same-size/#iterative-bottom-leaves-hierarchical-clustering).\n",
    "\n",
    "To then find which centroids map to which patients, there is an optimisation algorithm p-median (more details here: http://courses.ieor.berkeley.edu/ieor151/lecture_notes/ieor151_lec13.pdf) to reduce the distance between centroid and patient. I will look at (i) constraint that means size of cluster = max_cluster_size (and see what happens with leftover patients), or add another objective to maximise patient numbers per cluster up to max cluster size.\n",
    "\n",
    "N.B. prerequisite is that lat/lon must be converted into radians beforehand. We do this using a simply using inbuilt numpy function radians to convert entire coordinate array.\n",
    "\n",
    "Other ideas:\n",
    "Springer: balanced K means: https://link.springer.com/chapter/10.1007/978-3-662-44415-3_4\n",
    "Kmedoids: https://github.com/OmarAflak/kmedoids/blob/master/constrained_kmedoids.py"
   ]
  },
  {
   "cell_type": "code",
   "execution_count": 14,
   "metadata": {},
   "outputs": [
    {
     "data": {
      "text/html": [
       "<div>\n",
       "<style scoped>\n",
       "    .dataframe tbody tr th:only-of-type {\n",
       "        vertical-align: middle;\n",
       "    }\n",
       "\n",
       "    .dataframe tbody tr th {\n",
       "        vertical-align: top;\n",
       "    }\n",
       "\n",
       "    .dataframe thead th {\n",
       "        text-align: right;\n",
       "    }\n",
       "</style>\n",
       "<table border=\"1\" class=\"dataframe\">\n",
       "  <thead>\n",
       "    <tr style=\"text-align: right;\">\n",
       "      <th></th>\n",
       "      <th>n_patients</th>\n",
       "      <th>n_clusters</th>\n",
       "      <th>latlong</th>\n",
       "      <th>clusters</th>\n",
       "      <th>region</th>\n",
       "      <th>postcodes</th>\n",
       "      <th>created</th>\n",
       "      <th>mode</th>\n",
       "      <th>max_cluster_size</th>\n",
       "      <th>postcodes_size</th>\n",
       "    </tr>\n",
       "  </thead>\n",
       "  <tbody>\n",
       "    <tr>\n",
       "      <th>2</th>\n",
       "      <td>11</td>\n",
       "      <td>1</td>\n",
       "      <td>[[-0.00422240000000329, -0.010207700000000014], [0.0017050999999810301, 0.0027945999999999804], [-0.0019168000000036045, -0.004896500000000026], [0.0014654999999947904, 0.007844799999999985], [0.0017771999999922627, -0.0046426000000000245], [0.005728599999990536, 0.0037821999999999856], [-0.004459200000006547, -0.0035046999999999995], [0.0031894999999906304, 0.008110899999999976], [0.0031894999999906304, 0.008110899999999976], [-0.003712000000007265, 0.0028246999999999856], [-0.002745000000018649, -0.01021660000000002]]</td>\n",
       "      <td>[[2, 6, 9, 0, 10, 4, 1, 5, 8, 7, 3]]</td>\n",
       "      <td>UK</td>\n",
       "      <td>{}</td>\n",
       "      <td>2021-01-23</td>\n",
       "      <td>driving</td>\n",
       "      <td>11</td>\n",
       "      <td>0</td>\n",
       "    </tr>\n",
       "  </tbody>\n",
       "</table>\n",
       "</div>"
      ],
      "text/plain": [
       "   n_patients  n_clusters  \\\n",
       "2          11           1   \n",
       "\n",
       "                                                                                                                                                                                                                                                                                                                                                                                                                                                                                                                                         latlong  \\\n",
       "2  [[-0.00422240000000329, -0.010207700000000014], [0.0017050999999810301, 0.0027945999999999804], [-0.0019168000000036045, -0.004896500000000026], [0.0014654999999947904, 0.007844799999999985], [0.0017771999999922627, -0.0046426000000000245], [0.005728599999990536, 0.0037821999999999856], [-0.004459200000006547, -0.0035046999999999995], [0.0031894999999906304, 0.008110899999999976], [0.0031894999999906304, 0.008110899999999976], [-0.003712000000007265, 0.0028246999999999856], [-0.002745000000018649, -0.01021660000000002]]   \n",
       "\n",
       "                               clusters region postcodes     created     mode  \\\n",
       "2  [[2, 6, 9, 0, 10, 4, 1, 5, 8, 7, 3]]     UK        {}  2021-01-23  driving   \n",
       "\n",
       "   max_cluster_size  postcodes_size  \n",
       "2                11               0  "
      ]
     },
     "execution_count": 14,
     "metadata": {},
     "output_type": "execute_result"
    }
   ],
   "source": [
    "df.head(1)"
   ]
  },
  {
   "cell_type": "code",
   "execution_count": 15,
   "metadata": {},
   "outputs": [],
   "source": [
    "def distanceIterHierarchicalClustering(latlon, n_clusters, max_cluster_size, linkage=\"average\"):\n",
    "    # convert lat/lon to radians\n",
    "    latlon_rad = np.radians(latlon)\n",
    "    print(\"N patients = {a}, N clusters = {b}, Max size = {c}\".format(a=len(latlon), b=n_clusters, c=max_cluster_size))\n",
    "\n",
    "    \n",
    "    # compute pairwise haversine distances between each lat/lon point\n",
    "    haversine_pairwise = haversine_distances(latlon_rad)\n",
    "    \n",
    "    # define clustering algorithm and predict for points\n",
    "    clusterer = AgglomerativeClustering(affinity='precomputed', n_clusters=n_clusters,\n",
    "                                        linkage=linkage, distance_threshold=None,\n",
    "                                        compute_distances=True, compute_full_tree=False)\n",
    "    \n",
    "    # Iterative clustering method\n",
    "    \n",
    "    model = clusterer.fit(haversine_pairwise)\n",
    "    print(model.get_params())\n",
    "\n",
    "    \n",
    "    plot_dendrogram(model, truncate_mode='level', p=3)\n",
    "    plt.xlabel(\"Number of points in node (or index of point if no parenthesis).\")\n",
    "    plt.show()\n",
    "    model = clusterer.fit_predict(haversine_pairwise)\n",
    "    \n",
    "    # convert to indices of lat/lon\n",
    "    patients = []\n",
    "    for k in range(n_clusters):\n",
    "        patients.append([i for i, j in enumerate(model) if j == k])\n",
    "        \n",
    "    print(patients)\n",
    "    return patients\n",
    "    "
   ]
  },
  {
   "cell_type": "code",
   "execution_count": 16,
   "metadata": {
    "scrolled": false
   },
   "outputs": [
    {
     "name": "stdout",
     "output_type": "stream",
     "text": [
      "N patients = 11, N clusters = 1, Max size = 11\n",
      "{'affinity': 'precomputed', 'compute_distances': True, 'compute_full_tree': False, 'connectivity': None, 'distance_threshold': None, 'linkage': 'average', 'memory': None, 'n_clusters': 1}\n"
     ]
    },
    {
     "data": {
      "image/png": "[encoded data removed]",
      "text/plain": [
       "<Figure size 432x288 with 1 Axes>"
      ]
     },
     "metadata": {
      "needs_background": "light"
     },
     "output_type": "display_data"
    },
    {
     "name": "stdout",
     "output_type": "stream",
     "text": [
      "[[0, 1, 2, 3, 4, 5, 6, 7, 8, 9, 10]]\n",
      "N patients = 20, N clusters = 2, Max size = 10\n",
      "{'affinity': 'precomputed', 'compute_distances': True, 'compute_full_tree': False, 'connectivity': None, 'distance_threshold': None, 'linkage': 'average', 'memory': None, 'n_clusters': 2}\n"
     ]
    },
    {
     "data": {
      "image/png": "[encoded data removed]",
      "text/plain": [
       "<Figure size 432x288 with 1 Axes>"
      ]
     },
     "metadata": {
      "needs_background": "light"
     },
     "output_type": "display_data"
    },
    {
     "name": "stdout",
     "output_type": "stream",
     "text": [
      "[[0, 1, 2, 3, 4, 14, 15, 16, 17, 18, 19], [5, 6, 7, 8, 9, 10, 11, 12, 13]]\n",
      "N patients = 32, N clusters = 4, Max size = 10\n",
      "{'affinity': 'precomputed', 'compute_distances': True, 'compute_full_tree': False, 'connectivity': None, 'distance_threshold': None, 'linkage': 'average', 'memory': None, 'n_clusters': 4}\n"
     ]
    },
    {
     "data": {
      "image/png": "[encoded data removed]",
      "text/plain": [
       "<Figure size 432x288 with 1 Axes>"
      ]
     },
     "metadata": {
      "needs_background": "light"
     },
     "output_type": "display_data"
    },
    {
     "name": "stdout",
     "output_type": "stream",
     "text": [
      "[[6, 11, 12, 13, 14, 15, 16, 17, 18], [19, 22, 23, 25, 26, 27, 30, 31], [0, 1, 2, 3, 4, 5, 8, 9, 10], [7, 20, 21, 24, 28, 29]]\n"
     ]
    }
   ],
   "source": [
    "# Output hierarchichal clustering and resulting dendrograms for 3 examples\n",
    "for i in range(len(df[:3])):\n",
    "    distanceIterHierarchicalClustering(df[\"latlong\"].values[i], df[\"n_clusters\"].values[i], \\\n",
    "                                   df[\"max_cluster_size\"].values[i], linkage=\"average\")"
   ]
  },
  {
   "cell_type": "markdown",
   "metadata": {},
   "source": [
    "#### Optimisation algorithm for finding best distribution of patients given number of centroids \n",
    "#### WORK IN PROGRESS\n",
    "\n",
    "Adapted from https://github.com/ralaruri/p_median_python"
   ]
  },
  {
   "cell_type": "code",
   "execution_count": 17,
   "metadata": {},
   "outputs": [],
   "source": [
    "# change so that rows = patients, columns = centroids, values = distances"
   ]
  },
  {
   "cell_type": "code",
   "execution_count": 18,
   "metadata": {},
   "outputs": [
    {
     "name": "stdout",
     "output_type": "stream",
     "text": [
      " \n",
      "Status: Optimal\n",
      " \n",
      "Objective:  0.001163296353385322\n",
      " \n",
      "p-Median Node:  2\n",
      "p-Median Node:  7\n",
      " \n",
      "[('0', ' is connected to', '2'), ('10', ' is connected to', '2'), ('11', ' is connected to', '7'), ('1', ' is connected to', '7'), ('2', ' is connected to', '2'), ('3', ' is connected to', '7'), ('4', ' is connected to', '2'), ('5', ' is connected to', '7'), ('6', ' is connected to', '2'), ('7', ' is connected to', '7'), ('8', ' is connected to', '7'), ('9', ' is connected to', '2')]\n"
     ]
    }
   ],
   "source": [
    "from pulp import *\n",
    "import time\n",
    "\n",
    "locations_1 = np.radians(df.latlong.values[0])\n",
    "locations_1 = np.append(locations_1, [[5.56e-04, 1.413e-04]], axis=0)\n",
    "\n",
    "pairwise_distance_df = pd.DataFrame(haversine_distances(locations_1))\n",
    "centroids = pairwise_distance_df.keys()\n",
    "patient = pairwise_distance_df.index\n",
    "\n",
    "\n",
    "# start counting time\n",
    "t1=time.time()\n",
    "\n",
    "p = 2 #  number of locations to optimize to\n",
    "\n",
    "\n",
    "# declare patient variables\n",
    "X = LpVariable.dicts('X',(centroids), 0, 1, LpInteger)\n",
    "\n",
    "# declare decision variables\n",
    "Y = LpVariable.dicts('Y', (patient, centroids), 0, 1, LpInteger) \n",
    "\n",
    "# create the LP object, set up as a MINIMIZATION problem\n",
    "prob = LpProblem('P Median', LpMinimize)\n",
    "\n",
    "# prob += sum(sum(D[i][j] * Y[i][j] for j in location) for i in patient)\n",
    "# pandas iloc looks up values by row(i) and column(j)\n",
    "prob += sum(sum(pairwise_distance_df.iloc[i,j] * Y[i][j] for j in centroids) for i in patient)\n",
    "\n",
    "# set up constraints\n",
    "# This is same as prob += sum([X[j] for j in location]) == p\n",
    "prob += lpSum([X[j] for j in centroids]) == p\n",
    "\n",
    "# constraint: make sure that each patient is connected to one centroid\n",
    "for i in patient: prob += sum(Y[i][j] for j in centroids) == 1\n",
    "\n",
    "for i in patient:\n",
    "    for j in centroids: \n",
    "        prob +=  Y[i][j] <= X[j]\n",
    "\n",
    "\n",
    "prob.solve()\n",
    "\n",
    "#  format output\n",
    "print(' ')\n",
    "print(\"Status:\",LpStatus[prob.status])\n",
    "print(' ')\n",
    "print(\"Objective: \",value(prob.objective))\n",
    "print(' ')\n",
    "\n",
    "for v in prob.variables():\n",
    "    subV = v.name.split('_')\n",
    "    \n",
    "    if subV[0] == \"X\" and v.varValue == 1: print('p-Median Node: ', subV[1])\n",
    "\n",
    "result = []   \n",
    "'''print(' ')\n",
    "for v in prob.variables():\n",
    "    subV = v.name.split('_')\n",
    "    if subV[0] == \"Y\" and v.varValue == 1: print(subV[1], ' is connected to', subV[2])'''\n",
    "\n",
    "print(' ')\n",
    "for v in prob.variables():\n",
    "    subV = v.name.split('_')\n",
    "    if subV[0] == \"Y\" and v.varValue == 1: \n",
    "        result.append((subV[1], ' is connected to', subV[2]))\n",
    "print(result)\n",
    "\n",
    "dfo = pd.DataFrame(np.array(result))"
   ]
  },
  {
   "cell_type": "markdown",
   "metadata": {},
   "source": [
    "## Appendix"
   ]
  },
  {
   "cell_type": "markdown",
   "metadata": {},
   "source": [
    "###  Potential Areas for Analysis\n",
    "\n",
    "**1) Evaluate error using UK centre coordinate vs coordinate from high level postcode** <br>\n",
    "Affects ~10% of points. Would need to convert level postcode into lat/lon. Not sure if interesting for paper as we do not practically use this anonymised dataset when route planning. <br>\n"
   ]
  },
  {
   "cell_type": "markdown",
   "metadata": {},
   "source": [
    "### General notes and questions:\n",
    "\n",
    "Github Codebase:\n",
    "* requirements.txt: requires \"tables\" module and also need python=3.8\n",
    "\n",
    "Paper:\n",
    "* Cite TSP in line 8\n",
    "* Need to confirm vial size, in paper says 9 but on website it says 11\n",
    "\n",
    "Data:\n",
    "* Website has Time per Patient column, why is this omitted from dataset?"
   ]
  },
  {
   "cell_type": "markdown",
   "metadata": {},
   "source": [
    "Other Notes (For personal reference):\n",
    "\n",
    "* D = number of patients per cluster, 3 <= D <= 25. One vial of AstraZeneca has D=9 vials\n",
    "* Number of groups G = ceil(N/D), N = number of patients\n",
    "* Iterative k-means produces centroids, then ranks based on optimisation penalty (distance_furthest_centroid - distance_nearest_centroid), so those equidistant to centroids rank less and those close to only one rank more\n",
    "* I'm assuming that we treat each cluster as one set of delivery and is constrained by D, G = group size = number of delivery sessions\n",
    "* EMIS Database would likely store patients randomly\n",
    "* In doc multiplying by 1.2 to take into account fact roads are not straight"
   ]
  }
 ],
 "metadata": {
  "interpreter": {
   "hash": "b4502b264546c4c21079cff70a73ca3228babe1d7cea9c4d5516d4cb41402be5"
  },
  "kernelspec": {
   "display_name": "Python [conda env:vaximap] *",
   "language": "python",
   "name": "conda-env-vaximap-py"
  },
  "language_info": {
   "codemirror_mode": {
    "name": "ipython",
    "version": 3
   },
   "file_extension": ".py",
   "mimetype": "text/x-python",
   "name": "python",
   "nbconvert_exporter": "python",
   "pygments_lexer": "ipython3",
   "version": "3.8.10"
  }
 },
 "nbformat": 4,
 "nbformat_minor": 2
}
