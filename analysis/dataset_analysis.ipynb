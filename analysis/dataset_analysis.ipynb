{
 "cells": [
  {
   "cell_type": "markdown",
   "metadata": {},
   "source": [
    "# Vaximap dataset analysis: time saving estimates "
   ]
  },
  {
   "cell_type": "code",
   "execution_count": 26,
   "metadata": {},
   "outputs": [],
   "source": [
    "%matplotlib inline\n",
    "import pandas as pd\n",
    "import numpy as np\n",
    "from pyproj import Transformer\n",
    "import matplotlib.pyplot as plt\n",
    "from scipy import spatial, optimize\n",
    "from matplotlib.cm import get_cmap\n",
    "import matplotlib.dates as mdates\n",
    "from collections import Counter\n",
    "import sys\n",
    "sys.path.append('..')\n",
    "from load_dataset import dataset as dataset_repeat"
   ]
  },
  {
   "cell_type": "markdown",
   "metadata": {},
   "source": [
    "`UK_CENTER` is used to shift all relative latlong coords onto the approximate center of the UK. `DETOUR_INDEX` is selected from the literature as the midpoint of the quoted range of 1.2 to 1.6. `REPEAT_THRESHOLD` is set at 21 days, the minimum permissible time between identical requests. "
   ]
  },
  {
   "cell_type": "code",
   "execution_count": 27,
   "metadata": {},
   "outputs": [],
   "source": [
    "CMAP = np.array(get_cmap('tab10').colors)\n",
    "UK_CENTER = (-1.2, 53)\n",
    "DETOUR_INDEX = 1.4\n",
    "REPEAT_THRESHOLD = 21 # days \n",
    "MEAN_SPEED = 50 # kmh "
   ]
  },
  {
   "cell_type": "markdown",
   "metadata": {},
   "source": [
    "These values are taken from the linear regressions performed in the `survey/survey_analysis` notebook; both are in seconds per patient location"
   ]
  },
  {
   "cell_type": "code",
   "execution_count": 28,
   "metadata": {},
   "outputs": [],
   "source": [
    "LOOKUP_COEFFICIENT = 37.0/60\n",
    "ROUTING_COEFFICIENT = 4.7/60"
   ]
  },
  {
   "cell_type": "markdown",
   "metadata": {},
   "source": [
    "This is what a single row of the raw dataset (including repeats) looks like "
   ]
  },
  {
   "cell_type": "code",
   "execution_count": 29,
   "metadata": {},
   "outputs": [
    {
     "name": "stdout",
     "output_type": "stream",
     "text": [
      "Length of raw dataset = 9,501\n",
      "Number of patients in raw dataset = 314,861\n"
     ]
    },
    {
     "data": {
      "text/html": [
       "<div>\n",
       "<style scoped>\n",
       "    .dataframe tbody tr th:only-of-type {\n",
       "        vertical-align: middle;\n",
       "    }\n",
       "\n",
       "    .dataframe tbody tr th {\n",
       "        vertical-align: top;\n",
       "    }\n",
       "\n",
       "    .dataframe thead th {\n",
       "        text-align: right;\n",
       "    }\n",
       "</style>\n",
       "<table border=\"1\" class=\"dataframe\">\n",
       "  <thead>\n",
       "    <tr style=\"text-align: right;\">\n",
       "      <th></th>\n",
       "      <th>n_patients</th>\n",
       "      <th>n_clusters</th>\n",
       "      <th>latlong</th>\n",
       "      <th>clusters</th>\n",
       "      <th>region</th>\n",
       "      <th>postcodes</th>\n",
       "      <th>created</th>\n",
       "      <th>mode</th>\n",
       "    </tr>\n",
       "  </thead>\n",
       "  <tbody>\n",
       "    <tr>\n",
       "      <th>0</th>\n",
       "      <td>6</td>\n",
       "      <td>1</td>\n",
       "      <td>[[-0.0011351833333321792, -0.03472788333333332...</td>\n",
       "      <td>[[2, 3, 5, 4, 1, 0]]</td>\n",
       "      <td>UK</td>\n",
       "      <td>{}</td>\n",
       "      <td>2021-01-23</td>\n",
       "      <td>driving</td>\n",
       "    </tr>\n",
       "  </tbody>\n",
       "</table>\n",
       "</div>"
      ],
      "text/plain": [
       "   n_patients  n_clusters                                            latlong  \\\n",
       "0           6           1  [[-0.0011351833333321792, -0.03472788333333332...   \n",
       "\n",
       "               clusters region postcodes     created     mode  \n",
       "0  [[2, 3, 5, 4, 1, 0]]     UK        {}  2021-01-23  driving  "
      ]
     },
     "execution_count": 29,
     "metadata": {},
     "output_type": "execute_result"
    }
   ],
   "source": [
    "print(\"Length of raw dataset = {:,}\".format(len(dataset_repeat)))\n",
    "print(\"Number of patients in raw dataset = {:,}\".format(dataset_repeat.n_patients.sum()))\n",
    "dataset_repeat.head(1)"
   ]
  },
  {
   "cell_type": "markdown",
   "metadata": {},
   "source": [
    "## Repeat removal\n",
    "\n",
    "Identifying and removing repeat requests below `REPEAT_THRESHOLD`"
   ]
  },
  {
   "cell_type": "code",
   "execution_count": 30,
   "metadata": {},
   "outputs": [
    {
     "name": "stdout",
     "output_type": "stream",
     "text": [
      "Number of duplicates = 3,051\n",
      "Number of distinct sets in dataset = 6450\n"
     ]
    }
   ],
   "source": [
    "# Test to identify duplicates: need to convert latlong numpy to string beforehand to be able to drop\n",
    "df1 = dataset_repeat.copy()[[\"latlong\"]]\n",
    "df1.latlong = df1.latlong.astype(\"str\")\n",
    "df1 = df1.sort_values(\"latlong\")\n",
    "\n",
    "# extract number of duplicates from pandas duplicated inbuilt function\n",
    "df1[\"is_duplicate\"] = df1.duplicated(subset=\"latlong\", keep=\"last\")\n",
    "print(\"Number of duplicates = {:,}\".format(len(df1.loc[df1.is_duplicate == True])))\n",
    "print(\"Number of distinct sets in dataset = {}\".format(len(df1.loc[df1.is_duplicate == False])))"
   ]
  },
  {
   "cell_type": "code",
   "execution_count": 31,
   "metadata": {},
   "outputs": [
    {
     "data": {
      "text/html": [
       "<div>\n",
       "<style scoped>\n",
       "    .dataframe tbody tr th:only-of-type {\n",
       "        vertical-align: middle;\n",
       "    }\n",
       "\n",
       "    .dataframe tbody tr th {\n",
       "        vertical-align: top;\n",
       "    }\n",
       "\n",
       "    .dataframe thead th {\n",
       "        text-align: right;\n",
       "    }\n",
       "</style>\n",
       "<table border=\"1\" class=\"dataframe\">\n",
       "  <thead>\n",
       "    <tr style=\"text-align: right;\">\n",
       "      <th></th>\n",
       "      <th>index</th>\n",
       "      <th>latlong</th>\n",
       "      <th>is_duplicate</th>\n",
       "      <th>is_duplicate_keep_both</th>\n",
       "    </tr>\n",
       "  </thead>\n",
       "  <tbody>\n",
       "    <tr>\n",
       "      <th>0</th>\n",
       "      <td>174</td>\n",
       "      <td>[[ 0.00013685  0.0024527 ]\\n [-0.00220345  0.0...</td>\n",
       "      <td>True</td>\n",
       "      <td>True</td>\n",
       "    </tr>\n",
       "    <tr>\n",
       "      <th>1</th>\n",
       "      <td>175</td>\n",
       "      <td>[[ 0.00013685  0.0024527 ]\\n [-0.00220345  0.0...</td>\n",
       "      <td>True</td>\n",
       "      <td>True</td>\n",
       "    </tr>\n",
       "    <tr>\n",
       "      <th>2</th>\n",
       "      <td>176</td>\n",
       "      <td>[[ 0.00013685  0.0024527 ]\\n [-0.00220345  0.0...</td>\n",
       "      <td>False</td>\n",
       "      <td>True</td>\n",
       "    </tr>\n",
       "  </tbody>\n",
       "</table>\n",
       "</div>"
      ],
      "text/plain": [
       "   index                                            latlong  is_duplicate  \\\n",
       "0    174  [[ 0.00013685  0.0024527 ]\\n [-0.00220345  0.0...          True   \n",
       "1    175  [[ 0.00013685  0.0024527 ]\\n [-0.00220345  0.0...          True   \n",
       "2    176  [[ 0.00013685  0.0024527 ]\\n [-0.00220345  0.0...         False   \n",
       "\n",
       "   is_duplicate_keep_both  \n",
       "0                    True  \n",
       "1                    True  \n",
       "2                    True  "
      ]
     },
     "execution_count": 31,
     "metadata": {},
     "output_type": "execute_result"
    }
   ],
   "source": [
    "# Demonstrate example of duplicate indices:\n",
    "df1[\"is_duplicate_keep_both\"] = df1.duplicated(subset=\"latlong\", keep=False)\n",
    "df1.loc[df1.is_duplicate_keep_both == True][15:18].reset_index()"
   ]
  },
  {
   "cell_type": "code",
   "execution_count": 32,
   "metadata": {},
   "outputs": [
    {
     "data": {
      "image/png": "[encoded data removed]",
      "text/plain": [
       "<Figure size 720x288 with 1 Axes>"
      ]
     },
     "metadata": {
      "needs_background": "light"
     },
     "output_type": "display_data"
    }
   ],
   "source": [
    "# plot histogram of frequency of duplicate set occurring (not showing cases without duplicates)\n",
    "x = df1.groupby(\"latlong\").count().sort_values(\"is_duplicate\", ascending=False)\n",
    "x = x.loc[x.is_duplicate > 1]\n",
    "\n",
    "plt.figure(figsize=(10,4))\n",
    "plt.grid()\n",
    "plt.title(\"Frequency of duplicated set of lat/lons\")\n",
    "plt.xlabel(\"Number of duplications\")\n",
    "plt.hist(x.is_duplicate, bins=20, color=\"green\")\n",
    "plt.show()"
   ]
  },
  {
   "cell_type": "code",
   "execution_count": 33,
   "metadata": {},
   "outputs": [],
   "source": [
    "# create record_id and join to dataset\n",
    "idf = df1.sort_values(\"latlong\")\n",
    "idn = 1\n",
    "id_list = [1]\n",
    "\n",
    "for i in range(1, len(idf)):\n",
    "    if idf.latlong.values[i] == idf.latlong.values[i - 1]:\n",
    "        id_list.append(idn)\n",
    "    else:\n",
    "        idn += 1\n",
    "        id_list.append(idn)\n",
    "        \n",
    "idf[\"record_id\"] = id_list\n",
    "\n",
    "# join\n",
    "dataset_repeat = dataset_repeat.join(idf[[\"record_id\"]])"
   ]
  },
  {
   "cell_type": "code",
   "execution_count": 34,
   "metadata": {},
   "outputs": [],
   "source": [
    "# Check duration between duplicates\n",
    "dataset_repeat[\"created\"] = pd.to_datetime(dataset_repeat[\"created\"])\n",
    "\n",
    "dup = df1.loc[df1.is_duplicate_keep_both == True]\n",
    "dup = dup.join(idf[[\"record_id\"]])\n",
    "\n",
    "time_bet = pd.DataFrame()\n",
    "\n",
    "for latlong in dup.latlong.unique()[:]:\n",
    "    dup1 = dup.loc[dup.latlong == latlong]\n",
    "    index_list = dup1.index.values\n",
    "    dat = dataset_repeat.iloc[index_list].sort_values(\"created\")\n",
    "    dat[\"time_between\"] = (dat[\"created\"] - dat[\"created\"].shift(1)).dt.days\n",
    "    time_bet = time_bet.append(dat[:])\n"
   ]
  },
  {
   "cell_type": "markdown",
   "metadata": {},
   "source": [
    "Can see here that vast majority of duplicates occur same day, only a minority occurring on further days"
   ]
  },
  {
   "cell_type": "code",
   "execution_count": 35,
   "metadata": {},
   "outputs": [
    {
     "data": {
      "image/png": "[encoded data removed]",
      "text/plain": [
       "<Figure size 720x360 with 1 Axes>"
      ]
     },
     "metadata": {
      "needs_background": "light"
     },
     "output_type": "display_data"
    }
   ],
   "source": [
    "# for each record plot the time gaps - note y axis is record id (so cardinality is meaningless)\n",
    "plt.figure(figsize=(10,5))\n",
    "plt.title(\"Time gaps of patient sets\")\n",
    "plt.xlabel(\"Days between\")\n",
    "plt.plot(time_bet.time_between, time_bet.record_id, \"ro\")\n",
    "plt.show()"
   ]
  },
  {
   "cell_type": "code",
   "execution_count": 36,
   "metadata": {},
   "outputs": [],
   "source": [
    "# plot scatters comparing days between duplicates vs number of duplicates \n",
    "\n",
    "# dataframe to get average duration per duplicate per set\n",
    "record_time_bet = time_bet.groupby(\"record_id\").mean()\n",
    "record_time_bet = record_time_bet.join(dup.groupby(\"record_id\").count()[[\"latlong\"]].rename(columns={\"latlong\" : \"occurrences\"}))\n",
    "\n",
    "# filter for those where mean time > 0\n",
    "record_time_bet1 = record_time_bet.loc[record_time_bet.time_between > 0]"
   ]
  },
  {
   "cell_type": "code",
   "execution_count": 37,
   "metadata": {},
   "outputs": [
    {
     "data": {
      "text/html": [
       "<div>\n",
       "<style scoped>\n",
       "    .dataframe tbody tr th:only-of-type {\n",
       "        vertical-align: middle;\n",
       "    }\n",
       "\n",
       "    .dataframe tbody tr th {\n",
       "        vertical-align: top;\n",
       "    }\n",
       "\n",
       "    .dataframe thead th {\n",
       "        text-align: right;\n",
       "    }\n",
       "</style>\n",
       "<table border=\"1\" class=\"dataframe\">\n",
       "  <thead>\n",
       "    <tr style=\"text-align: right;\">\n",
       "      <th></th>\n",
       "      <th>n_patients</th>\n",
       "      <th>n_clusters</th>\n",
       "      <th>time_between</th>\n",
       "      <th>occurrences</th>\n",
       "    </tr>\n",
       "    <tr>\n",
       "      <th>record_id</th>\n",
       "      <th></th>\n",
       "      <th></th>\n",
       "      <th></th>\n",
       "      <th></th>\n",
       "    </tr>\n",
       "  </thead>\n",
       "  <tbody>\n",
       "    <tr>\n",
       "      <th>100</th>\n",
       "      <td>8.0</td>\n",
       "      <td>1.000000</td>\n",
       "      <td>0.000000</td>\n",
       "      <td>18</td>\n",
       "    </tr>\n",
       "    <tr>\n",
       "      <th>205</th>\n",
       "      <td>33.0</td>\n",
       "      <td>3.000000</td>\n",
       "      <td>0.000000</td>\n",
       "      <td>11</td>\n",
       "    </tr>\n",
       "    <tr>\n",
       "      <th>2000</th>\n",
       "      <td>24.0</td>\n",
       "      <td>4.000000</td>\n",
       "      <td>3.238095</td>\n",
       "      <td>22</td>\n",
       "    </tr>\n",
       "    <tr>\n",
       "      <th>2058</th>\n",
       "      <td>24.0</td>\n",
       "      <td>2.945946</td>\n",
       "      <td>0.361111</td>\n",
       "      <td>37</td>\n",
       "    </tr>\n",
       "    <tr>\n",
       "      <th>3190</th>\n",
       "      <td>116.0</td>\n",
       "      <td>12.642857</td>\n",
       "      <td>0.000000</td>\n",
       "      <td>14</td>\n",
       "    </tr>\n",
       "    <tr>\n",
       "      <th>3463</th>\n",
       "      <td>6.0</td>\n",
       "      <td>1.125000</td>\n",
       "      <td>1.133333</td>\n",
       "      <td>16</td>\n",
       "    </tr>\n",
       "    <tr>\n",
       "      <th>4588</th>\n",
       "      <td>116.0</td>\n",
       "      <td>11.000000</td>\n",
       "      <td>0.600000</td>\n",
       "      <td>11</td>\n",
       "    </tr>\n",
       "    <tr>\n",
       "      <th>5607</th>\n",
       "      <td>114.0</td>\n",
       "      <td>13.000000</td>\n",
       "      <td>0.000000</td>\n",
       "      <td>12</td>\n",
       "    </tr>\n",
       "    <tr>\n",
       "      <th>6134</th>\n",
       "      <td>285.0</td>\n",
       "      <td>32.000000</td>\n",
       "      <td>0.000000</td>\n",
       "      <td>13</td>\n",
       "    </tr>\n",
       "    <tr>\n",
       "      <th>6318</th>\n",
       "      <td>42.0</td>\n",
       "      <td>4.000000</td>\n",
       "      <td>0.000000</td>\n",
       "      <td>11</td>\n",
       "    </tr>\n",
       "    <tr>\n",
       "      <th>6331</th>\n",
       "      <td>45.0</td>\n",
       "      <td>5.000000</td>\n",
       "      <td>0.083333</td>\n",
       "      <td>13</td>\n",
       "    </tr>\n",
       "  </tbody>\n",
       "</table>\n",
       "</div>"
      ],
      "text/plain": [
       "           n_patients  n_clusters  time_between  occurrences\n",
       "record_id                                                   \n",
       "100               8.0    1.000000      0.000000           18\n",
       "205              33.0    3.000000      0.000000           11\n",
       "2000             24.0    4.000000      3.238095           22\n",
       "2058             24.0    2.945946      0.361111           37\n",
       "3190            116.0   12.642857      0.000000           14\n",
       "3463              6.0    1.125000      1.133333           16\n",
       "4588            116.0   11.000000      0.600000           11\n",
       "5607            114.0   13.000000      0.000000           12\n",
       "6134            285.0   32.000000      0.000000           13\n",
       "6318             42.0    4.000000      0.000000           11\n",
       "6331             45.0    5.000000      0.083333           13"
      ]
     },
     "execution_count": 37,
     "metadata": {},
     "output_type": "execute_result"
    }
   ],
   "source": [
    "# records with large occurrences\n",
    "record_time_bet.loc[record_time_bet.occurrences > 10]"
   ]
  },
  {
   "cell_type": "code",
   "execution_count": 38,
   "metadata": {},
   "outputs": [
    {
     "data": {
      "text/html": [
       "<div>\n",
       "<style scoped>\n",
       "    .dataframe tbody tr th:only-of-type {\n",
       "        vertical-align: middle;\n",
       "    }\n",
       "\n",
       "    .dataframe tbody tr th {\n",
       "        vertical-align: top;\n",
       "    }\n",
       "\n",
       "    .dataframe thead th {\n",
       "        text-align: right;\n",
       "    }\n",
       "</style>\n",
       "<table border=\"1\" class=\"dataframe\">\n",
       "  <thead>\n",
       "    <tr style=\"text-align: right;\">\n",
       "      <th></th>\n",
       "      <th>n_patients</th>\n",
       "      <th>n_clusters</th>\n",
       "      <th>time_between</th>\n",
       "      <th>occurrences</th>\n",
       "    </tr>\n",
       "    <tr>\n",
       "      <th>record_id</th>\n",
       "      <th></th>\n",
       "      <th></th>\n",
       "      <th></th>\n",
       "      <th></th>\n",
       "    </tr>\n",
       "  </thead>\n",
       "  <tbody>\n",
       "    <tr>\n",
       "      <th>336</th>\n",
       "      <td>8.0</td>\n",
       "      <td>1.0</td>\n",
       "      <td>15.000000</td>\n",
       "      <td>2</td>\n",
       "    </tr>\n",
       "    <tr>\n",
       "      <th>1827</th>\n",
       "      <td>8.0</td>\n",
       "      <td>1.0</td>\n",
       "      <td>25.000000</td>\n",
       "      <td>2</td>\n",
       "    </tr>\n",
       "    <tr>\n",
       "      <th>1999</th>\n",
       "      <td>24.0</td>\n",
       "      <td>3.0</td>\n",
       "      <td>26.666667</td>\n",
       "      <td>7</td>\n",
       "    </tr>\n",
       "    <tr>\n",
       "      <th>2871</th>\n",
       "      <td>32.0</td>\n",
       "      <td>2.5</td>\n",
       "      <td>22.000000</td>\n",
       "      <td>2</td>\n",
       "    </tr>\n",
       "    <tr>\n",
       "      <th>3252</th>\n",
       "      <td>8.0</td>\n",
       "      <td>1.0</td>\n",
       "      <td>13.000000</td>\n",
       "      <td>2</td>\n",
       "    </tr>\n",
       "    <tr>\n",
       "      <th>3381</th>\n",
       "      <td>9.0</td>\n",
       "      <td>1.0</td>\n",
       "      <td>38.000000</td>\n",
       "      <td>2</td>\n",
       "    </tr>\n",
       "    <tr>\n",
       "      <th>4113</th>\n",
       "      <td>5.0</td>\n",
       "      <td>1.0</td>\n",
       "      <td>20.000000</td>\n",
       "      <td>2</td>\n",
       "    </tr>\n",
       "    <tr>\n",
       "      <th>4386</th>\n",
       "      <td>6.0</td>\n",
       "      <td>1.0</td>\n",
       "      <td>33.500000</td>\n",
       "      <td>5</td>\n",
       "    </tr>\n",
       "    <tr>\n",
       "      <th>5221</th>\n",
       "      <td>7.0</td>\n",
       "      <td>1.0</td>\n",
       "      <td>91.000000</td>\n",
       "      <td>3</td>\n",
       "    </tr>\n",
       "    <tr>\n",
       "      <th>5228</th>\n",
       "      <td>18.0</td>\n",
       "      <td>1.5</td>\n",
       "      <td>96.000000</td>\n",
       "      <td>2</td>\n",
       "    </tr>\n",
       "  </tbody>\n",
       "</table>\n",
       "</div>"
      ],
      "text/plain": [
       "           n_patients  n_clusters  time_between  occurrences\n",
       "record_id                                                   \n",
       "336               8.0         1.0     15.000000            2\n",
       "1827              8.0         1.0     25.000000            2\n",
       "1999             24.0         3.0     26.666667            7\n",
       "2871             32.0         2.5     22.000000            2\n",
       "3252              8.0         1.0     13.000000            2\n",
       "3381              9.0         1.0     38.000000            2\n",
       "4113              5.0         1.0     20.000000            2\n",
       "4386              6.0         1.0     33.500000            5\n",
       "5221              7.0         1.0     91.000000            3\n",
       "5228             18.0         1.5     96.000000            2"
      ]
     },
     "execution_count": 38,
     "metadata": {},
     "output_type": "execute_result"
    }
   ],
   "source": [
    "# records with long timespan\n",
    "record_time_bet.loc[record_time_bet.time_between > 10]"
   ]
  },
  {
   "cell_type": "markdown",
   "metadata": {},
   "source": [
    "## Repeat analysis \n",
    "The irrelevant repeats have been removed; what can we say about the ones that remain?"
   ]
  },
  {
   "cell_type": "code",
   "execution_count": 39,
   "metadata": {},
   "outputs": [
    {
     "data": {
      "image/png": "[encoded data removed]",
      "text/plain": [
       "<Figure size 504x36 with 1 Axes>"
      ]
     },
     "metadata": {
      "needs_background": "light"
     },
     "output_type": "display_data"
    },
    {
     "data": {
      "image/png": "[encoded data removed]",
      "text/plain": [
       "<Figure size 504x36 with 1 Axes>"
      ]
     },
     "metadata": {
      "needs_background": "light"
     },
     "output_type": "display_data"
    },
    {
     "data": {
      "image/png": "[encoded data removed]",
      "text/plain": [
       "<Figure size 504x36 with 1 Axes>"
      ]
     },
     "metadata": {
      "needs_background": "light"
     },
     "output_type": "display_data"
    },
    {
     "data": {
      "image/png": "[encoded data removed]",
      "text/plain": [
       "<Figure size 504x36 with 1 Axes>"
      ]
     },
     "metadata": {
      "needs_background": "light"
     },
     "output_type": "display_data"
    },
    {
     "data": {
      "image/png": "[encoded data removed]",
      "text/plain": [
       "<Figure size 504x36 with 1 Axes>"
      ]
     },
     "metadata": {
      "needs_background": "light"
     },
     "output_type": "display_data"
    },
    {
     "data": {
      "image/png": "[encoded data removed]",
      "text/plain": [
       "<Figure size 504x36 with 1 Axes>"
      ]
     },
     "metadata": {
      "needs_background": "light"
     },
     "output_type": "display_data"
    },
    {
     "data": {
      "image/png": "[encoded data removed]",
      "text/plain": [
       "<Figure size 504x36 with 1 Axes>"
      ]
     },
     "metadata": {
      "needs_background": "light"
     },
     "output_type": "display_data"
    },
    {
     "data": {
      "image/png": "[encoded data removed]",
      "text/plain": [
       "<Figure size 504x36 with 1 Axes>"
      ]
     },
     "metadata": {
      "needs_background": "light"
     },
     "output_type": "display_data"
    }
   ],
   "source": [
    "# we set a threshold to say valid repeats are those that occur a certain number of days after a previous request\n",
    "z = time_bet.loc[time_bet.record_id.isin(time_bet.loc[time_bet.time_between >= REPEAT_THRESHOLD].record_id.unique())]\n",
    "z = z.loc[(z.time_between >= REPEAT_THRESHOLD) | (z.time_between.isnull())]\n",
    "\n",
    "for record in z.record_id.unique():\n",
    "    plt.figure(figsize=(7,0.5))\n",
    "    z1 = z.loc[z.record_id == record]\n",
    "    x = pd.to_datetime(z1.created)\n",
    "    plt.xlim(dataset_repeat.created.min(), dataset_repeat.created.max())\n",
    "    plt.title(\"Occurrences of request #{}, threshold > {} days\"\n",
    "                .format(record, REPEAT_THRESHOLD))\n",
    "    plt.plot(x, z1.record_id, \"r\", alpha=0.4)\n",
    "    ax = plt.gca()\n",
    "    ax.xaxis.set_major_formatter(mdates.DateFormatter('%b-%y'))\n",
    "    plt.scatter(z1.created, z1.record_id, color=\"black\")\n",
    "    plt.yticks([])\n",
    "    plt.ylabel(record)\n",
    "\n",
    "    if record == 1999: \n",
    "        plt.savefig('a_repeat.png', dpi=250, bbox_inches='tight')\n",
    "    \n"
   ]
  },
  {
   "cell_type": "code",
   "execution_count": 40,
   "metadata": {},
   "outputs": [
    {
     "data": {
      "image/png": "[encoded data removed]",
      "text/plain": [
       "<Figure size 504x288 with 8 Axes>"
      ]
     },
     "metadata": {
      "needs_background": "light"
     },
     "output_type": "display_data"
    }
   ],
   "source": [
    "unique_records = z.record_id.unique()\n",
    "fig, axes = plt.subplots(len(unique_records), 1, sharex=True, figsize=(7,4))\n",
    "fig.suptitle(\"Occurrences of repeats, threshold > {} days\"\n",
    "                .format(REPEAT_THRESHOLD))\n",
    "for ax, record in zip(axes, unique_records):\n",
    "    z1 = z.loc[z.record_id == record]\n",
    "    x = pd.to_datetime(z1.created)\n",
    "    ax.set_xlim(dataset_repeat.created.min(), dataset_repeat.created.max())\n",
    "\n",
    "    ax.plot(x, z1.record_id, \"r\", alpha=0.4)\n",
    "    ax.xaxis.set_major_formatter(mdates.DateFormatter('%b-%y'))\n",
    "    ax.scatter(z1.created, z1.record_id, color=\"black\")\n",
    "    ax.set_yticks([])\n",
    "    ax.set_ylabel(record)\n",
    "\n",
    "plt.savefig('many_repeats.png', dpi=250, bbox_inches='tight')"
   ]
  },
  {
   "cell_type": "markdown",
   "metadata": {},
   "source": [
    "It appears that the ID=2058 is Tom's test dataset."
   ]
  },
  {
   "cell_type": "code",
   "execution_count": 41,
   "metadata": {},
   "outputs": [
    {
     "name": "stdout",
     "output_type": "stream",
     "text": [
      "Length of dataset without repeats = 6,459\n",
      "Number of patients in dataset without repeats = 198,023\n",
      "Length of dataset with repeats = 9,501\n",
      "Number of patients in dataset with repeats = 314,861\n"
     ]
    }
   ],
   "source": [
    "# we remove from dataset Tom's test set for EDA\n",
    "dataset_nonrepeat = dataset_repeat.loc[dataset_repeat.record_id != 2058]\n",
    "\n",
    "# Remove duplicate indices from raw dataset, keeping \"last\" assuming earlier duplicates were for testing\n",
    "repeat_keep_indices = time_bet.loc[(time_bet.time_between >= REPEAT_THRESHOLD) | (time_bet.time_between.isnull())].index\n",
    "dataset_nonrepeat = dataset_nonrepeat.loc[(dataset_nonrepeat.index.isin(df1.loc[df1.is_duplicate_keep_both == False].index.values)) | (dataset_nonrepeat.index.isin(repeat_keep_indices))]\n",
    "print(\"Length of dataset without repeats = {:,}\".format(len(dataset_nonrepeat)))\n",
    "print(\"Number of patients in dataset without repeats = {:,}\".format(dataset_nonrepeat.n_patients.sum()))\n",
    "print(\"Length of dataset with repeats = {:,}\".format(len(dataset_repeat)))\n",
    "print(\"Number of patients in dataset with repeats = {:,}\".format(dataset_repeat.n_patients.sum()))"
   ]
  },
  {
   "cell_type": "markdown",
   "metadata": {},
   "source": [
    "## Time savings in planning "
   ]
  },
  {
   "cell_type": "code",
   "execution_count": 18,
   "metadata": {},
   "outputs": [
    {
     "name": "stdout",
     "output_type": "stream",
     "text": [
      "Time saved in planning 3647 hours\n",
      "Time saved in planning 91 weeks (40hr week)\n"
     ]
    }
   ],
   "source": [
    "lookup_time = dataset_repeat.n_patients.sum() * LOOKUP_COEFFICIENT\n",
    "routing_time = dataset_repeat.n_patients.sum() * ROUTING_COEFFICIENT \n",
    "planning_time_hrs = (lookup_time + routing_time) / 60\n",
    "print('Time saved in planning %d hours' % planning_time_hrs)\n",
    "print('Time saved in planning %d weeks (40hr week)' % (planning_time_hrs / 40))"
   ]
  },
  {
   "cell_type": "markdown",
   "metadata": {},
   "source": [
    "## Time savings in travelling \n",
    "We are lifting the optimisation penalty function for human performance reported in figure 2b of Dry, Matthew; Lee, Michael D; Vickers, Douglas; Hughes, Peter; Human Performance on Visually Presented Traveling Salesperson Problems with Varying Numbers of Nodes, The Journal of Problem Solving, 2006"
   ]
  },
  {
   "cell_type": "code",
   "execution_count": 54,
   "metadata": {},
   "outputs": [],
   "source": [
    "# optimisation penalty \n",
    "n = np.array([0, 10, 20, 30, 40, 50, 70, 90, 120])\n",
    "p = np.array([0, 0.02, 0.025, 0.06, 0.075, 0.095, 0.105, 0.11, 0.12])\n",
    "\n",
    "# Assume a relation of the form y = A(1 - e(-n/B))\n",
    "def curve(x, A, B):\n",
    "    return A * (1 - np.exp(-x / B))\n",
    "\n",
    "params = optimize.curve_fit(curve, n.flatten(), p.flatten())[0]"
   ]
  },
  {
   "cell_type": "code",
   "execution_count": 56,
   "metadata": {},
   "outputs": [
    {
     "data": {
      "image/png": "[encoded data removed]",
      "text/plain": [
       "<Figure size 360x216 with 1 Axes>"
      ]
     },
     "metadata": {
      "needs_background": "light"
     },
     "output_type": "display_data"
    }
   ],
   "source": [
    "plt.figure(figsize=(5,3))\n",
    "plt.scatter(n.flat, 100 * p.flatten(), label='observations')\n",
    "n_fit = np.linspace(0,120)\n",
    "p_fit = curve(n_fit, *params)\n",
    "plt.plot(n_fit, 100 * p_fit, 'r-', label=r'$A(1 - e^{n/B}), $' + f'A = {params[0]:.2f}, B = {params[1]:.2f}' )\n",
    "\n",
    "plt.xlabel('Number of locations')\n",
    "plt.ylabel('Distance penalty (%)')\n",
    "plt.title('Dry\\'s empirical model of human solution quality')\n",
    "plt.legend(loc='lower right')\n",
    "plt.savefig('dry_model.png', dpi=250, bbox_inches='tight')"
   ]
  },
  {
   "cell_type": "code",
   "execution_count": 21,
   "metadata": {},
   "outputs": [],
   "source": [
    "# Calculating the distance implied by all Vaximap routes. \n",
    "# The coordinates are stored in the dataset as latitude and longitude, so we need to convert into a metric \n",
    "# coordinate system (EPSG3857) and then can use distance matrices to work out the length of each closed route \n",
    "transformer = Transformer.from_crs(\"EPSG:4326\", \"EPSG:3857\")\n",
    "\n",
    "def get_vaximap_route_length(latlong, routes):\n",
    "    ll_m = transformer.transform(*(latlong + UK_CENTER).T)\n",
    "    ll_m = np.vstack(ll_m).T\n",
    "    dm = spatial.distance_matrix(ll_m, ll_m)\n",
    "    total = 0 \n",
    "    for route in routes: \n",
    "        rt_length = sum([ dm[route[x], route[x+1]] for x in range(len(route) - 1) ])\n",
    "        rt_length += dm[route[-1], route[0]]\n",
    "        total += rt_length\n",
    "    return total\n",
    "\n",
    "# Calculate total length of routes for each request (ie, row of dataset). Then, we can apply the manual distance\n",
    "# penalty which is a function of the total number of patients in the request \n",
    "dataset_nonrepeat['vaximap distance'] = [ get_vaximap_route_length(row.latlong, row.clusters) \n",
    "                                          for row in dataset_nonrepeat.loc[:,['latlong', 'clusters']].itertuples() ]\n",
    "dataset_nonrepeat['manual distance'] = (dataset_nonrepeat['vaximap distance'] \n",
    "                                        * (1 + params[0] * (1 - np.exp(-dataset_nonrepeat['n_patients'] / params[1]))))"
   ]
  },
  {
   "cell_type": "code",
   "execution_count": 25,
   "metadata": {},
   "outputs": [
    {
     "name": "stdout",
     "output_type": "stream",
     "text": [
      "travel savings 37368 km\n",
      "travel savings 747 hours\n",
      "travel savings 18 weeks (40hr week)\n",
      "total savings 4394 hours\n",
      "total savings 109 weeks (40hr week)\n"
     ]
    }
   ],
   "source": [
    "# Route lengths are in meters. Apply the detour index, convert into km, and apply average speed to convert into time \n",
    "dist_saving = DETOUR_INDEX * (dataset_nonrepeat['manual distance'] - dataset_nonrepeat['vaximap distance']).sum() / 1000\n",
    "dist_saving_hrs = dist_saving / 50\n",
    "print('travel savings %d km' % dist_saving)\n",
    "print('travel savings %d hours' % dist_saving_hrs)\n",
    "print('travel savings %d weeks (40hr week)' % (dist_saving_hrs / 40))\n",
    "total_savings_hrs = dist_saving_hrs + planning_time_hrs\n",
    "print('total savings %d hours' % total_savings_hrs)\n",
    "print('total savings %d weeks (40hr week)' % (total_savings_hrs / 40))"
   ]
  },
  {
   "cell_type": "code",
   "execution_count": 53,
   "metadata": {},
   "outputs": [
    {
     "name": "stdout",
     "output_type": "stream",
     "text": [
      "Total cost savings 84639.28957038642\n"
     ]
    }
   ],
   "source": [
    "# Convert into cost savings \n",
    "pm_salary = 38e3 # practice manager\n",
    "cn_salary = 32e3 # community nurse \n",
    "total_cost_savings = (pm_salary * planning_time_hrs / (40 * 48)) + (cn_salary * dist_saving_hrs / (40 * 48))\n",
    "print('Total cost savings', total_cost_savings)"
   ]
  },
  {
   "cell_type": "markdown",
   "metadata": {},
   "source": [
    "## Summary plots \n",
    "A variety of plots showing high level summaries of dataset "
   ]
  },
  {
   "cell_type": "code",
   "execution_count": 34,
   "metadata": {},
   "outputs": [
    {
     "data": {
      "image/png": "[encoded data removed]",
      "text/plain": [
       "<Figure size 576x216 with 2 Axes>"
      ]
     },
     "metadata": {
      "needs_background": "light"
     },
     "output_type": "display_data"
    }
   ],
   "source": [
    "# sort the dataframe by date created\n",
    "dataset_repeat['created'] = pd.to_datetime(dataset_repeat.created)\n",
    "dataset_repeat = dataset_repeat.sort_values(by='created')\n",
    "\n",
    "# define average patients per cluster\n",
    "dataset_repeat['patients_per_cluster'] = (dataset_repeat['n_patients']/dataset_repeat['n_clusters'])\n",
    "\n",
    "# get the raw data\n",
    "y = dataset_repeat.n_patients\n",
    "x = dataset_repeat.created\n",
    "\n",
    "# bin the data by date\n",
    "binned = dataset_repeat['n_patients'].groupby(dataset_repeat['created']).sum()\n",
    "x_binned = binned.index\n",
    "y_binned = binned.values\n",
    "\n",
    "def movingaverage(interval, window_size):\n",
    "    window = np.ones(int(window_size))/float(window_size)\n",
    "    return np.convolve(interval, window, 'same')\n",
    "\n",
    "def add_titlebox(ax, text):\n",
    "    ax.text(.67, .8, text,\n",
    "        horizontalalignment='center',\n",
    "         transform=ax.transAxes,\n",
    "         bbox=dict(facecolor='white', alpha=0.2),\n",
    "         fontsize=12.5)\n",
    "    return ax\n",
    "\n",
    "fig, ax1 = plt.subplots(1,1, figsize=(8, 3))\n",
    "ax11= ax1.twinx()\n",
    "\n",
    "# Headline figure\n",
    "fig.suptitle('Patients per request (LHS) and per day (RHS)',\n",
    "              fontsize=14)\n",
    "sctr = ax1.scatter(x, y, color='tab:blue', alpha=0.5, s=0.3)\n",
    "y_av = movingaverage(y_binned, 30)\n",
    "ax11.plot(x_binned, y_av, \"tab:red\", linewidth=2)\n",
    "ax1.set_yscale('linear')\n",
    "ax1.set_ylabel('Patients per request', color='tab:blue')\n",
    "#ax1.text(0.8, 0.8, r'A', fontsize=15,transform=ax.transAxes)\n",
    "ax11.set_ylabel('Patients per day', color='tab:red')\n",
    "ax1.xaxis.set_major_formatter(mdates.DateFormatter('%b-%y'))\n",
    "plt.savefig('timeseries.png', dpi=250, bbox_inches='tight')"
   ]
  },
  {
   "cell_type": "code",
   "execution_count": 35,
   "metadata": {},
   "outputs": [
    {
     "data": {
      "image/png": "[encoded data removed]",
      "text/plain": [
       "<Figure size 720x216 with 3 Axes>"
      ]
     },
     "metadata": {
      "needs_background": "light"
     },
     "output_type": "display_data"
    }
   ],
   "source": [
    "# Patients per route\n",
    "fig, axes = plt.subplots(1, 3, figsize=(10, 3), constrained_layout=True)\n",
    "\n",
    "ax1 = axes[0]\n",
    "ax1.hist(dataset_repeat.n_patients, bins=50)\n",
    "ax1.set_xlabel('Number of patients')\n",
    "ax1.set_ylabel('Count')\n",
    "ax1.set_title('Patients per request')\n",
    "ax1.text(220, 1750, f'mean = {dataset_repeat.n_patients.mean():.1f}\\n'\n",
    "                    +f'median = {dataset_repeat.n_patients.median():.1f}',\n",
    "        horizontalalignment='center',\n",
    "        bbox=dict(facecolor='white', alpha=0.25))\n",
    "\n",
    "ax2 = axes[1]\n",
    "binwidth=0.5\n",
    "ax2.hist(dataset_repeat.patients_per_cluster, bins=np.arange(min(dataset_repeat.patients_per_cluster), \n",
    "                                                      max(dataset_repeat.patients_per_cluster) + binwidth, binwidth),\n",
    "         color='tab:red', align='left')\n",
    "ax2.axis(xmin=0,xmax=25)\n",
    "ax2.set_title('Cluster size for request')\n",
    "ax2.set_xlabel('Patients per cluster')\n",
    "\n",
    "# Clusters per route\n",
    "ax3 = axes[2]\n",
    "binwidth=0.5\n",
    "ax3.hist(dataset_repeat.n_clusters, bins=np.arange(min(dataset_repeat.n_clusters), \n",
    "                                            max(dataset_repeat.n_clusters) + binwidth, binwidth),\n",
    "                                            align='left', color='tab:purple')\n",
    "ax3.axis(xmin=0,xmax=13.5)\n",
    "ax3.set_title('Clusters per request')\n",
    "ax3.set_xlabel('Number of clusters')\n",
    "\n",
    "plt.savefig('hists.png', dpi=250, bbox_inches='tight')"
   ]
  },
  {
   "cell_type": "markdown",
   "metadata": {},
   "source": [
    "## Geographic analysis\n",
    "Extract postcodes (to be plotted via another program not available here)"
   ]
  },
  {
   "cell_type": "code",
   "execution_count": 47,
   "metadata": {},
   "outputs": [
    {
     "name": "stdout",
     "output_type": "stream",
     "text": [
      "9501 rows, 3113 have postcodes\n"
     ]
    }
   ],
   "source": [
    "has_pc = [ bool(pc) for pc in dataset_repeat.postcodes ]\n",
    "print(f'{len(has_pc)} rows, {sum(has_pc)} have postcodes')"
   ]
  },
  {
   "cell_type": "code",
   "execution_count": 36,
   "metadata": {},
   "outputs": [],
   "source": [
    "pc_counts = Counter() \n",
    "[ pc_counts.update(pc) for pc in dataset_repeat.postcodes.tolist() ] \n",
    "\n",
    "df = pd.DataFrame(data={\"postcodes\" : pc_counts.keys(), \"num\" : pc_counts.values()})\n",
    "df1 = df.groupby(\"postcodes\").sum()\n",
    "df1[\"name\"] = df1.index.str[:2]\n",
    "df1.to_csv(\"postcodes.csv\", header=True)"
   ]
  },
  {
   "cell_type": "code",
   "execution_count": null,
   "metadata": {},
   "outputs": [],
   "source": []
  }
 ],
 "metadata": {
  "interpreter": {
   "hash": "fdfe010d924dc0ee8273dc0f137a0c9ff02ecb37b659d215ccf43e8d4e7bddad"
  },
  "kernelspec": {
   "display_name": "Python 3.8.5 64-bit ('vaximap': conda)",
   "language": "python",
   "name": "python3"
  },
  "language_info": {
   "codemirror_mode": {
    "name": "ipython",
    "version": 3
   },
   "file_extension": ".py",
   "mimetype": "text/x-python",
   "name": "python",
   "nbconvert_exporter": "python",
   "pygments_lexer": "ipython3",
   "version": "3.8.5"
  },
  "orig_nbformat": 4
 },
 "nbformat": 4,
 "nbformat_minor": 2
}
