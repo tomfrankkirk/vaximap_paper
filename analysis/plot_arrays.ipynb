{
 "cells": [
  {
   "cell_type": "code",
   "execution_count": 1,
   "metadata": {},
   "outputs": [],
   "source": [
    "# Notebook to produce arrays of points for route finding"
   ]
  },
  {
   "cell_type": "code",
   "execution_count": 45,
   "metadata": {},
   "outputs": [],
   "source": [
    "# Import libs\n",
    "import string\n",
    "import numpy as np\n",
    "import matplotlib.pyplot as plt"
   ]
  },
  {
   "cell_type": "code",
   "execution_count": 124,
   "metadata": {},
   "outputs": [],
   "source": [
    "# Define useful functions\n",
    "\n",
    "# Get alphabet\n",
    "alphabet = list(string.ascii_uppercase)\n",
    "\n",
    "# Take a list of 2D arrays and, to each pair, add a third element which is an integer\n",
    "def tokenize(array,offset=0):\n",
    "    index = np.array([alphabet[i+offset] for i in range(0,len(array))]).reshape(len(array),1)\n",
    "    array = np.hstack((array,index))\n",
    "    return array"
   ]
  },
  {
   "cell_type": "code",
   "execution_count": 146,
   "metadata": {},
   "outputs": [],
   "source": [
    "# Define the numbers of points\n",
    "fig1_points = 12\n",
    "fig2_points = 26\n",
    "textsize = 10\n",
    "\n",
    "# Create 2D array of uniform points for figure 1\n",
    "np.random.seed(0)\n",
    "xy1=np.array(np.random.random((fig1_points,2)))\n",
    "\n",
    "# Create 2D array of uniform points for figure 1\n",
    "np.random.seed(3)\n",
    "xy2=np.array(np.random.random((fig2_points,2)))\n",
    "\n",
    "# Tokenize both arrays\n",
    "xy1 = tokenize(xy1)\n",
    "xy2 = tokenize(xy2)\n"
   ]
  },
  {
   "cell_type": "code",
   "execution_count": 144,
   "metadata": {},
   "outputs": [
    {
     "data": {
      "image/png": "[encoded data removed]",
      "text/plain": [
       "<Figure size 432x288 with 1 Axes>"
      ]
     },
     "metadata": {},
     "output_type": "display_data"
    }
   ],
   "source": [
    "# Plot figure 1\n",
    "for i in range(0,len(xy1)):\n",
    "    plt.text(float(xy1[i,0]), float(xy1[i,1]), str(xy1[i,2]), fontsize=textsize)\n",
    "plt.xticks([], [])\n",
    "plt.yticks([], [])\n",
    "plt.show()\n",
    "plt.savefig('fig1.png')"
   ]
  },
  {
   "cell_type": "code",
   "execution_count": 147,
   "metadata": {},
   "outputs": [
    {
     "data": {
      "image/png": "[encoded data removed]",
      "text/plain": [
       "<Figure size 432x288 with 1 Axes>"
      ]
     },
     "metadata": {},
     "output_type": "display_data"
    }
   ],
   "source": [
    "# Plot figure 2\n",
    "for i in range(0,len(xy2)):\n",
    "    plt.text(float(xy2[i,0]), float(xy2[i,1]), str(xy2[i,2]), fontsize=textsize)\n",
    "plt.xticks([], [])\n",
    "plt.yticks([], [])\n",
    "plt.show()\n",
    "plt.savefig('fig2.png')"
   ]
  },
  {
   "cell_type": "code",
   "execution_count": 148,
   "metadata": {},
   "outputs": [],
   "source": [
    "# For figure 3, we want to have a degree of intrinsic clustering\n",
    "# I thus produce 3 distributions and offset them\n",
    "\n",
    "c1_points = 4\n",
    "c2_points = 8\n",
    "c3_points = 12\n",
    "\n",
    "c1_offset = [0.4,0.3]\n",
    "c2_offset = [-0.3,0.75]\n",
    "c3_offset = [0.6,-0.9]\n",
    "\n",
    "np.random.seed(c1_points)\n",
    "c1=np.array(np.random.random((c1_points,2)))\n",
    "np.random.seed(c2_points)\n",
    "c2=np.array(np.random.random((c2_points,2)))\n",
    "np.random.seed(c3_points)\n",
    "c3=np.array(np.random.random((c3_points,2)))\n",
    "\n",
    "c1 = c1+c1_offset\n",
    "c2 = c2+c2_offset\n",
    "c3 = c3+c3_offset\n",
    "\n",
    "# Tokenize all arrays\n",
    "c1 = tokenize(c1)\n",
    "c2 = tokenize(c2,c1_points)\n",
    "c3 = tokenize(c3,c1_points+c2_points)\n"
   ]
  },
  {
   "cell_type": "code",
   "execution_count": 151,
   "metadata": {},
   "outputs": [
    {
     "data": {
      "image/png": "[encoded data removed]",
      "text/plain": [
       "<Figure size 432x288 with 1 Axes>"
      ]
     },
     "metadata": {},
     "output_type": "display_data"
    }
   ],
   "source": [
    "# Print figure 3\n",
    "for i in range(0,len(c1)):\n",
    "    plt.text(float(c1[i,0]), float(c1[i,1]), str(c1[i,2]), fontsize=textsize)\n",
    "    \n",
    "for i in range(0,len(c2)):\n",
    "    plt.text(float(c2[i,0]), float(c2[i,1]), str(c2[i,2]), fontsize=textsize)\n",
    "    \n",
    "for i in range(0,len(c3)):\n",
    "    plt.text(float(c3[i,0]), float(c3[i,1]), str(c3[i,2]), fontsize=textsize)\n",
    "    \n",
    "plt.xticks([], [])\n",
    "plt.yticks([], [])\n",
    "plt.xlim([-0.25,1.75])\n",
    "plt.ylim([-1,2])\n",
    "plt.show()\n",
    "plt.savefig('fig3.png')"
   ]
  },
  {
   "cell_type": "code",
   "execution_count": null,
   "metadata": {},
   "outputs": [],
   "source": []
  }
 ],
 "metadata": {
  "kernelspec": {
   "display_name": "Python 3",
   "language": "python",
   "name": "python3"
  },
  "language_info": {
   "codemirror_mode": {
    "name": "ipython",
    "version": 3
   },
   "file_extension": ".py",
   "mimetype": "text/x-python",
   "name": "python",
   "nbconvert_exporter": "python",
   "pygments_lexer": "ipython3",
   "version": "3.8.1"
  }
 },
 "nbformat": 4,
 "nbformat_minor": 4
}
