{
 "cells": [
  {
   "cell_type": "code",
   "execution_count": 1,
   "metadata": {},
   "outputs": [],
   "source": [
    "# This notebook loads responses from the Vaximap Impact Google Form \n",
    "\n",
    "# We intend to show the following:\n",
    "    # Time spent planning the route, as a function of route size\n",
    "    # Using the submitted routes to determine time to complete the route\n",
    "    # Qualitative data on ease of planning routes and comparative ease of using Vaximap\n",
    "    \n",
    "# We will then use these results to estimate the time savings using Vaximap"
   ]
  },
  {
   "cell_type": "code",
   "execution_count": 5,
   "metadata": {},
   "outputs": [],
   "source": [
    "# To load the Google Forms data\n",
    "\n",
    "# Go to the response for the Impact assessment on Google Forms \n",
    "# (https://docs.google.com/forms/d/1ZR8qlDd8TmFP8ELsby0fWtbJ_1w8k8TwHCazUbKWGLE/edit#responses)\n",
    "\n",
    "# Click 'Download Responses (.csv)'\n",
    "# Unzip the downloaded folder and copy the .csv file to the analysis/ subfolder"
   ]
  },
  {
   "cell_type": "code",
   "execution_count": 76,
   "metadata": {},
   "outputs": [],
   "source": [
    "# Load libraries\n",
    "import pandas as pd\n",
    "from io import BytesIO\n",
    "import numpy as np\n",
    "import matplotlib.pyplot as plt\n",
    "%matplotlib inline"
   ]
  },
  {
   "cell_type": "code",
   "execution_count": 71,
   "metadata": {},
   "outputs": [],
   "source": [
    "# Load data\n",
    "data = pd.read_csv('Vaximap Impact Survey.csv')"
   ]
  },
  {
   "cell_type": "code",
   "execution_count": 72,
   "metadata": {},
   "outputs": [
    {
     "data": {
      "text/html": [
       "<div>\n",
       "<style scoped>\n",
       "    .dataframe tbody tr th:only-of-type {\n",
       "        vertical-align: middle;\n",
       "    }\n",
       "\n",
       "    .dataframe tbody tr th {\n",
       "        vertical-align: top;\n",
       "    }\n",
       "\n",
       "    .dataframe thead th {\n",
       "        text-align: right;\n",
       "    }\n",
       "</style>\n",
       "<table border=\"1\" class=\"dataframe\">\n",
       "  <thead>\n",
       "    <tr style=\"text-align: right;\">\n",
       "      <th></th>\n",
       "      <th>timestamp</th>\n",
       "      <th>occupation</th>\n",
       "      <th>technicality</th>\n",
       "      <th>OX1 4LB</th>\n",
       "      <th>OX5 1PJ</th>\n",
       "      <th>OX4 2HH</th>\n",
       "      <th>complete1</th>\n",
       "      <th>OX1 4LB</th>\n",
       "      <th>OX1 4EH</th>\n",
       "      <th>OX4 2HH</th>\n",
       "      <th>...</th>\n",
       "      <th>OX5 1PJ</th>\n",
       "      <th>OX4 2HH</th>\n",
       "      <th>OX2 9QN</th>\n",
       "      <th>OX4 2JT</th>\n",
       "      <th>OX3 8HH</th>\n",
       "      <th>OX44 9NG</th>\n",
       "      <th>complete3</th>\n",
       "      <th>difficulty</th>\n",
       "      <th>time_consumption</th>\n",
       "      <th>excel_ease</th>\n",
       "    </tr>\n",
       "  </thead>\n",
       "  <tbody>\n",
       "    <tr>\n",
       "      <th>0</th>\n",
       "      <td>2021/06/27 10:56:11 am CET</td>\n",
       "      <td>Finance</td>\n",
       "      <td>4</td>\n",
       "      <td>First</td>\n",
       "      <td>Second</td>\n",
       "      <td>Third</td>\n",
       "      <td>00:03</td>\n",
       "      <td>Second</td>\n",
       "      <td>First</td>\n",
       "      <td>Fourth</td>\n",
       "      <td>...</td>\n",
       "      <td>Seven</td>\n",
       "      <td>Sixth</td>\n",
       "      <td>Third</td>\n",
       "      <td>Fifth</td>\n",
       "      <td>Fourth</td>\n",
       "      <td>Nine</td>\n",
       "      <td>00:14</td>\n",
       "      <td>5</td>\n",
       "      <td>5</td>\n",
       "      <td>2</td>\n",
       "    </tr>\n",
       "  </tbody>\n",
       "</table>\n",
       "<p>1 rows × 26 columns</p>\n",
       "</div>"
      ],
      "text/plain": [
       "                    timestamp occupation  technicality OX1 4LB OX5 1PJ  \\\n",
       "0  2021/06/27 10:56:11 am CET    Finance             4   First  Second   \n",
       "\n",
       "  OX4 2HH complete1 OX1 4LB OX1 4EH OX4 2HH  ... OX5 1PJ OX4 2HH OX2 9QN  \\\n",
       "0   Third     00:03  Second   First  Fourth  ...   Seven   Sixth   Third   \n",
       "\n",
       "  OX4 2JT OX3 8HH OX44 9NG complete3 difficulty time_consumption excel_ease  \n",
       "0   Fifth  Fourth     Nine     00:14          5                5          2  \n",
       "\n",
       "[1 rows x 26 columns]"
      ]
     },
     "execution_count": 72,
     "metadata": {},
     "output_type": "execute_result"
    }
   ],
   "source": [
    "# Define the postcodes in route finding tasks\n",
    "route1=['OX1 4LB','OX5 1PJ','OX4 2HH']\n",
    "route2=['OX1 4LB','OX1 4EH','OX4 2HH','OX5 1PJ','OX3 8HH']\n",
    "route3=['OX1 4EH','OX1 4LB','OX14 3DP','OX5 1PJ','OX4 2HH','OX2 9QN','OX4 2JT','OX3 8HH','OX44 9NG']\n",
    "\n",
    "# Tidy up the column names for ease of reading's sake. Only have to do this once:\n",
    "data = data.rename(columns={\n",
    "    \n",
    "    str(data.columns[0]): \"timestamp\",\n",
    "    str(data.columns[1]): \"occupation\",\n",
    "    str(data.columns[2]): \"technicality\",\n",
    "    \n",
    "    str(data.columns[3]): route1[0],\n",
    "    str(data.columns[4]): route1[1],\n",
    "    str(data.columns[5]): route1[2],\n",
    "    str(data.columns[6]): \"complete1\",\n",
    "    \n",
    "    str(data.columns[7]): route2[0],\n",
    "    str(data.columns[8]): route2[1],\n",
    "    str(data.columns[9]): route2[2],\n",
    "    str(data.columns[10]): route2[3],\n",
    "    str(data.columns[11]): route2[4],\n",
    "    str(data.columns[12]): \"complete2\",\n",
    "    \n",
    "    str(data.columns[13]): route3[0],\n",
    "    str(data.columns[14]): route3[1],\n",
    "    str(data.columns[15]): route3[2],\n",
    "    str(data.columns[16]): route3[3],\n",
    "    str(data.columns[17]): route3[4],\n",
    "    str(data.columns[18]): route3[5],\n",
    "    str(data.columns[19]): route3[6],\n",
    "    str(data.columns[20]): route3[7],\n",
    "    str(data.columns[21]): route3[8],\n",
    "    str(data.columns[22]): \"complete3\",\n",
    "    \n",
    "    str(data.columns[23]): \"difficulty\",\n",
    "    str(data.columns[24]): \"time_consumption\",\n",
    "    str(data.columns[25]): \"excel_ease\"  \n",
    "    \n",
    "    });\n",
    "\n",
    "# Inspect data\n",
    "data.head()"
   ]
  },
  {
   "cell_type": "code",
   "execution_count": 73,
   "metadata": {},
   "outputs": [
    {
     "data": {
      "text/html": [
       "<div>\n",
       "<style scoped>\n",
       "    .dataframe tbody tr th:only-of-type {\n",
       "        vertical-align: middle;\n",
       "    }\n",
       "\n",
       "    .dataframe tbody tr th {\n",
       "        vertical-align: top;\n",
       "    }\n",
       "\n",
       "    .dataframe thead th {\n",
       "        text-align: right;\n",
       "    }\n",
       "</style>\n",
       "<table border=\"1\" class=\"dataframe\">\n",
       "  <thead>\n",
       "    <tr style=\"text-align: right;\">\n",
       "      <th></th>\n",
       "      <th>timestamp</th>\n",
       "      <th>occupation</th>\n",
       "      <th>technicality</th>\n",
       "      <th>OX1 4LB</th>\n",
       "      <th>OX5 1PJ</th>\n",
       "      <th>OX4 2HH</th>\n",
       "      <th>complete1</th>\n",
       "      <th>OX1 4LB</th>\n",
       "      <th>OX1 4EH</th>\n",
       "      <th>OX4 2HH</th>\n",
       "      <th>...</th>\n",
       "      <th>OX5 1PJ</th>\n",
       "      <th>OX4 2HH</th>\n",
       "      <th>OX2 9QN</th>\n",
       "      <th>OX4 2JT</th>\n",
       "      <th>OX3 8HH</th>\n",
       "      <th>OX44 9NG</th>\n",
       "      <th>complete3</th>\n",
       "      <th>difficulty</th>\n",
       "      <th>time_consumption</th>\n",
       "      <th>excel_ease</th>\n",
       "    </tr>\n",
       "  </thead>\n",
       "  <tbody>\n",
       "    <tr>\n",
       "      <th>0</th>\n",
       "      <td>2021/06/27 10:56:11 am CET</td>\n",
       "      <td>Finance</td>\n",
       "      <td>4</td>\n",
       "      <td>1</td>\n",
       "      <td>2</td>\n",
       "      <td>3</td>\n",
       "      <td>3.0</td>\n",
       "      <td>2</td>\n",
       "      <td>1</td>\n",
       "      <td>4</td>\n",
       "      <td>...</td>\n",
       "      <td>7</td>\n",
       "      <td>6</td>\n",
       "      <td>3</td>\n",
       "      <td>5</td>\n",
       "      <td>4</td>\n",
       "      <td>9</td>\n",
       "      <td>14.0</td>\n",
       "      <td>5</td>\n",
       "      <td>5</td>\n",
       "      <td>2</td>\n",
       "    </tr>\n",
       "  </tbody>\n",
       "</table>\n",
       "<p>1 rows × 26 columns</p>\n",
       "</div>"
      ],
      "text/plain": [
       "                    timestamp occupation  technicality  OX1 4LB  OX5 1PJ  \\\n",
       "0  2021/06/27 10:56:11 am CET    Finance             4        1        2   \n",
       "\n",
       "   OX4 2HH  complete1  OX1 4LB  OX1 4EH  OX4 2HH  ...  OX5 1PJ  OX4 2HH  \\\n",
       "0        3        3.0        2        1        4  ...        7        6   \n",
       "\n",
       "   OX2 9QN  OX4 2JT  OX3 8HH  OX44 9NG  complete3  difficulty  \\\n",
       "0        3        5        4         9       14.0           5   \n",
       "\n",
       "   time_consumption  excel_ease  \n",
       "0                 5           2  \n",
       "\n",
       "[1 rows x 26 columns]"
      ]
     },
     "execution_count": 73,
     "metadata": {},
     "output_type": "execute_result"
    }
   ],
   "source": [
    "# Tidy up answers to map from 'first', 'second', 'third' etc. to 1,2,3\n",
    "# Index from 1, to avoid confusion\n",
    "order_dict= {\n",
    "    \"First\": 1,\n",
    "    \"Second\": 2,\n",
    "    \"Third\": 3,\n",
    "    \"Fourth\": 4,\n",
    "    \"Fifth\": 5,\n",
    "    \"Sixth\": 6,  \n",
    "    \"Seven\": 7,\n",
    "    \"Eight\": 8,\n",
    "    \"Nine\": 9,\n",
    "    }\n",
    "    \n",
    "# Replace all values\n",
    "data.replace(order_dict, inplace=True)\n",
    "\n",
    "\n",
    "# And convert completion times to floats (in minutes)\n",
    "def to_minutes(x):\n",
    "    return (60*float(x.split(':')[0])) + float(x.split(':')[1])\n",
    "\n",
    "# Apply to_minutes to completion columns\n",
    "data['complete1'] = data.apply(lambda x: to_minutes(x.complete1), axis=1)\n",
    "data['complete2'] = data.apply(lambda x: to_minutes(x.complete2), axis=1)\n",
    "data['complete3'] = data.apply(lambda x: to_minutes(x.complete3), axis=1)\n",
    "\n",
    "# Inspect head\n",
    "data.head()"
   ]
  },
  {
   "cell_type": "code",
   "execution_count": 75,
   "metadata": {},
   "outputs": [
    {
     "name": "stdout",
     "output_type": "stream",
     "text": [
      "Total number of completions =  1\n",
      "Average time to complete route 1 =  3.0\n",
      "Average time to complete route 1 =  6.0\n",
      "Average time to complete route 1 =  14.0\n"
     ]
    }
   ],
   "source": [
    "# Start building some summary statistics\n",
    "\n",
    "print(\"Total number of completions = \",len(data))\n",
    "print(\"Average time to complete route 1 = \",np.mean(data['complete1']))\n",
    "print(\"Average time to complete route 1 = \",np.mean(data['complete2']))\n",
    "print(\"Average time to complete route 1 = \",np.mean(data['complete3']))"
   ]
  },
  {
   "cell_type": "code",
   "execution_count": 93,
   "metadata": {},
   "outputs": [
    {
     "data": {
      "image/png": "[encoded data removed]",
      "text/plain": [
       "<Figure size 432x288 with 1 Axes>"
      ]
     },
     "metadata": {
      "needs_background": "light"
     },
     "output_type": "display_data"
    }
   ],
   "source": [
    "# Plot completion time vs. route length\n",
    "\n",
    "plt.scatter([3 for i in range(0,len(data))], data['complete1'], alpha=0.5)\n",
    "plt.scatter([5 for i in range(0,len(data))], data['complete2'], alpha=0.5)\n",
    "plt.scatter([9 for i in range(0,len(data))], data['complete3'], alpha=0.5)\n",
    "plt.ylabel('Completion time (minutes)')\n",
    "plt.xlabel('# of sites')\n",
    "plt.show()\n"
   ]
  },
  {
   "cell_type": "code",
   "execution_count": null,
   "metadata": {},
   "outputs": [],
   "source": []
  },
  {
   "cell_type": "code",
   "execution_count": null,
   "metadata": {},
   "outputs": [],
   "source": []
  }
 ],
 "metadata": {
  "kernelspec": {
   "display_name": "Python 3",
   "language": "python",
   "name": "python3"
  },
  "language_info": {
   "codemirror_mode": {
    "name": "ipython",
    "version": 3
   },
   "file_extension": ".py",
   "mimetype": "text/x-python",
   "name": "python",
   "nbconvert_exporter": "python",
   "pygments_lexer": "ipython3",
   "version": "3.7.6"
  }
 },
 "nbformat": 4,
 "nbformat_minor": 4
}
