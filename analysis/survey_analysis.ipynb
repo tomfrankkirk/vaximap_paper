{
 "cells": [
  {
   "cell_type": "code",
   "execution_count": null,
   "metadata": {},
   "outputs": [],
   "source": [
    "# This notebook loads responses from the Vaximap Impact Google Form \n",
    "\n",
    "# We intend to show the following:\n",
    "    # Time spent planning the route, as a function of route size\n",
    "    # Using the submitted routes to determine time to complete the route\n",
    "    # Qualitative data on ease of planning routes and comparative ease of using Vaximap\n",
    "    \n",
    "# We will then use these results to estimate the time savings using Vaximap"
   ]
  },
  {
   "cell_type": "code",
   "execution_count": null,
   "metadata": {},
   "outputs": [],
   "source": [
    "# To load the Google Forms data\n",
    "\n",
    "# Go to the response for the Impact assessment on Google Forms \n",
    "# (https://docs.google.com/forms/d/1ZR8qlDd8TmFP8ELsby0fWtbJ_1w8k8TwHCazUbKWGLE/edit#responses)\n",
    "\n",
    "# Click 'Download Responses (.csv)'\n",
    "# Unzip the downloaded folder and copy the .csv file to the analysis/ subfolder"
   ]
  },
  {
   "cell_type": "code",
   "execution_count": null,
   "metadata": {},
   "outputs": [],
   "source": [
    "# Load libraries\n",
    "import pandas as pd\n",
    "from io import BytesIO\n",
    "import numpy as np\n",
    "import matplotlib.pyplot as plt\n",
    "%matplotlib inline\n",
    "from sklearn.linear_model import LinearRegression\n",
    "import descartes\n",
    "import geopandas as gpd\n"
   ]
  },
  {
   "cell_type": "code",
   "execution_count": null,
   "metadata": {},
   "outputs": [],
   "source": [
    "# Load data\n",
    "data = pd.read_csv('Vaximap Impact Survey.csv')\n",
    "\n",
    "# Load dataset\n",
    "import sys\n",
    "sys.path.append('../')\n",
    "from load_dataset import dataset"
   ]
  },
  {
   "cell_type": "code",
   "execution_count": null,
   "metadata": {},
   "outputs": [],
   "source": [
    "# Define the postcodes in route finding tasks\n",
    "route1=['OX1 4LB','OX5 1PJ','OX4 2HH']\n",
    "route2=['OX1 4LB','OX1 4EH','OX4 2HH','OX5 1PJ','OX3 8HH']\n",
    "route3=['OX1 4EH','OX1 4LB','OX14 3DP','OX5 1PJ','OX4 2HH','OX2 9QN','OX4 2JT','OX3 8HH','OX44 9NG']\n",
    "\n",
    "# Tidy up the column names for ease of reading's sake. Only have to do this once:\n",
    "data = data.rename(columns={\n",
    "    \n",
    "    str(data.columns[0]): \"timestamp\",\n",
    "    str(data.columns[1]): \"occupation\",\n",
    "    str(data.columns[2]): \"technicality\",\n",
    "    \n",
    "    str(data.columns[3]): route1[0],\n",
    "    str(data.columns[4]): route1[1],\n",
    "    str(data.columns[5]): route1[2],\n",
    "    str(data.columns[6]): \"complete1\",\n",
    "    \n",
    "    str(data.columns[7]): route2[0],\n",
    "    str(data.columns[8]): route2[1],\n",
    "    str(data.columns[9]): route2[2],\n",
    "    str(data.columns[10]): route2[3],\n",
    "    str(data.columns[11]): route2[4],\n",
    "    str(data.columns[12]): \"complete2\",\n",
    "    \n",
    "    str(data.columns[13]): route3[0],\n",
    "    str(data.columns[14]): route3[1],\n",
    "    str(data.columns[15]): route3[2],\n",
    "    str(data.columns[16]): route3[3],\n",
    "    str(data.columns[17]): route3[4],\n",
    "    str(data.columns[18]): route3[5],\n",
    "    str(data.columns[19]): route3[6],\n",
    "    str(data.columns[20]): route3[7],\n",
    "    str(data.columns[21]): route3[8],\n",
    "    str(data.columns[22]): \"complete3\",\n",
    "    \n",
    "    str(data.columns[23]): \"difficulty\",\n",
    "    str(data.columns[24]): \"time_consumption\",\n",
    "    str(data.columns[25]): \"excel_ease\"  \n",
    "    \n",
    "    });\n",
    "\n",
    "# Inspect data\n",
    "data.head()"
   ]
  },
  {
   "cell_type": "code",
   "execution_count": null,
   "metadata": {},
   "outputs": [],
   "source": [
    "# Tidy up answers to map from 'first', 'second', 'third' etc. to 1,2,3\n",
    "# Index from 1, to avoid confusion\n",
    "order_dict= {\n",
    "    \"First\": 1,\n",
    "    \"Second\": 2,\n",
    "    \"Third\": 3,\n",
    "    \"Fourth\": 4,\n",
    "    \"Fifth\": 5,\n",
    "    \"Sixth\": 6,  \n",
    "    \"Seven\": 7,\n",
    "    \"Eight\": 8,\n",
    "    \"Nine\": 9,\n",
    "    }\n",
    "    \n",
    "# Replace all values\n",
    "data.replace(order_dict, inplace=True)\n",
    "\n",
    "\n",
    "# And convert completion times to floats (in minutes)\n",
    "def to_minutes(x):\n",
    "    return (60*float(x.split(':')[0])) + float(x.split(':')[1])\n",
    "\n",
    "# Apply to_minutes to completion columns\n",
    "data['complete1'] = data.apply(lambda x: to_minutes(x.complete1), axis=1)\n",
    "data['complete2'] = data.apply(lambda x: to_minutes(x.complete2), axis=1)\n",
    "data['complete3'] = data.apply(lambda x: to_minutes(x.complete3), axis=1)\n",
    "\n",
    "# Inspect head\n",
    "data.head()"
   ]
  },
  {
   "cell_type": "code",
   "execution_count": null,
   "metadata": {},
   "outputs": [],
   "source": [
    "# Start building some summary statistics\n",
    "\n",
    "print(\"Total number of completions = \",len(data))\n",
    "print(\"Average time to complete route 1 = \",round(np.mean(data['complete1']),2),\" minutes.\")\n",
    "print(\"Average time to complete route 2 = \",round(np.mean(data['complete2']),2),\" minutes.\")\n",
    "print(\"Average time to complete route 3 = \",round(np.mean(data['complete3']),2),\" minutes.\")"
   ]
  },
  {
   "cell_type": "code",
   "execution_count": null,
   "metadata": {},
   "outputs": [],
   "source": [
    "##### Planning a route #####"
   ]
  },
  {
   "cell_type": "code",
   "execution_count": null,
   "metadata": {},
   "outputs": [],
   "source": [
    "# Plot completion time vs. route length\n",
    "y = data['complete1'].append(data['complete2']).append(data['complete3'])\n",
    "x0 = [1 for i in range(0,3*len(data))]\n",
    "x1 = [3 for i in range(0,len(data))]+[5 for i in range(0,len(data))]+[9 for i in range(0,len(data))]\n",
    "\n",
    "# Generate model params\n",
    "lr = LinearRegression(fit_intercept=False)\n",
    "X = np.array([x0,x1],dtype=\"float32\").transpose()\n",
    "reg = lr.fit(X, y.values)\n",
    "reg.score(X, y)\n",
    "\n",
    "# Make prediction\n",
    "Xpred1 = np.linspace(0, X.max(), num=10).tolist()\n",
    "Xpred0 = [1 for i in range(0,len(Xpred1))]\n",
    "Xpred = np.array([Xpred0,Xpred1],dtype=\"float32\").transpose()\n",
    "\n",
    "# Plot \n",
    "plt.scatter(x1,y, alpha=0.5)\n",
    "plt.plot(Xpred[:,1],reg.predict(Xpred),color='k')\n",
    "plt.ylabel('Completion time (minutes)')\n",
    "plt.xlabel('# of sites')\n",
    "plt.title('Planning time vs. route size')\n",
    "plt.show()"
   ]
  },
  {
   "cell_type": "code",
   "execution_count": null,
   "metadata": {},
   "outputs": [],
   "source": [
    "# Get minutes per sites\n",
    "print(\"Approx. minute per site: \",round(reg.coef_[1],2))"
   ]
  },
  {
   "cell_type": "code",
   "execution_count": null,
   "metadata": {},
   "outputs": [],
   "source": [
    "# Calculate overall time saving\n",
    "print(\"Total number of patients: \",sum(dataset.n_patients))\n",
    "print(\"Total planning time: \",int(reg.coef_[1]*sum(dataset.n_patients)/60),\" hours.\")\n",
    "print(\"Total planning time: \",int(reg.coef_[1]*sum(dataset.n_patients)/(60*24)),\" days.\")\n",
    "print(\"Total planning time: \",int(reg.coef_[1]*sum(dataset.n_patients)/(60*8)),\" worker days.\")\n",
    "\n",
    "# Map time saving into cost\n",
    "avg_hourly_rate = 15\n",
    "print(\"Total cost saving: £\",int(reg.coef_[1]*sum(dataset.n_patients)/60)*avg_hourly_rate,\".\")\n"
   ]
  },
  {
   "cell_type": "code",
   "execution_count": null,
   "metadata": {},
   "outputs": [],
   "source": [
    "##### Illustrating location of sites around UK #####"
   ]
  },
  {
   "cell_type": "code",
   "execution_count": null,
   "metadata": {},
   "outputs": [],
   "source": [
    "def flatten(t):\n",
    "    return [item for sublist in t for item in sublist]\n",
    "\n",
    "# Shift to centre of UK\n",
    "uk_centre_lat = 53\n",
    "uk_centre_long = -1.2\n",
    "\n",
    "# Get all \n",
    "latlongs = flatten(dataset['latlong'])\n",
    "lats = [uk_centre_lat+x[0] for x in latlongs]\n",
    "longs = [uk_centre_long+x[1] for x in latlongs]\n",
    "\n",
    "# make bespoke dataframe\n",
    "df = pd.DataFrame(\n",
    "    {'lats': lats,\n",
    "     'longs': longs,\n",
    "    })\n",
    "\n",
    "print(\"Number of points: \",len(lats))\n",
    "print(\"Number of points: \",len(longs))\n",
    "print(\"Max lat: \",max(lats),\". Min lat: \",min(lats))\n",
    "print(\"Max long: \",max(longs),\". Min long: \",min(longs))"
   ]
  },
  {
   "cell_type": "code",
   "execution_count": null,
   "metadata": {},
   "outputs": [],
   "source": [
    "# Plot for whole world\n",
    "\n",
    "# Being geo plot\n",
    "gdf = gpd.GeoDataFrame(\n",
    "    df, geometry=gpd.points_from_xy(longs, lats))\n",
    "\n",
    "# plotting coordinates over a country level map\n",
    "world = gpd.read_file(gpd.datasets.get_path(\"naturalearth_lowres\"))\n",
    "\n",
    "# Plot for world\n",
    "ax = world.plot(\n",
    "    color='white', edgecolor='black')\n",
    "\n",
    "# then plot the geodataframe on this\n",
    "gdf.plot(ax=ax, color='red')\n",
    "plt.xlabel('Longitude')\n",
    "plt.ylabel('Longitude')\n",
    "plt.show()"
   ]
  },
  {
   "cell_type": "code",
   "execution_count": null,
   "metadata": {},
   "outputs": [],
   "source": [
    "# Plot for UK only\n",
    "\n",
    "# Define bounds\n",
    "max_uk_lat = 60\n",
    "min_uk_lat  = 50\n",
    "max_uk_long = 4\n",
    "min_uk_long = -10\n",
    "\n",
    "# Filter lats and longs\n",
    "df2 = df[(df[\"lats\"] > min_uk_lat) & (df[\"lats\"] < max_uk_lat)]\n",
    "df2 = df2[(df2[\"longs\"] > min_uk_long) & (df2[\"longs\"] < max_uk_long)]\n",
    "\n",
    "# Being geo plot\n",
    "gdf = gpd.GeoDataFrame(\n",
    "    df2, geometry=gpd.points_from_xy(df2.longs.values, df2.lats.values))\n",
    "\n",
    "# plotting coordinates over a country level map\n",
    "world = gpd.read_file(gpd.datasets.get_path(\"naturalearth_lowres\"))\n",
    "\n",
    "# Plot for world\n",
    "ax = world[world.name == 'United Kingdom'].plot(\n",
    "    color='white', edgecolor='black')\n",
    "\n",
    "# then plot the geodataframe on this\n",
    "gdf.plot(ax=ax, color='red')\n",
    "plt.xlabel('Longitude')\n",
    "plt.ylabel('Longitude')\n",
    "plt.show()"
   ]
  },
  {
   "cell_type": "code",
   "execution_count": null,
   "metadata": {},
   "outputs": [],
   "source": []
  }
 ],
 "metadata": {
  "kernelspec": {
   "display_name": "Python 3",
   "language": "python",
   "name": "python3"
  },
  "language_info": {
   "codemirror_mode": {
    "name": "ipython",
    "version": 3
   },
   "file_extension": ".py",
   "mimetype": "text/x-python",
   "name": "python",
   "nbconvert_exporter": "python",
   "pygments_lexer": "ipython3",
   "version": "3.8.8"
  }
 },
 "nbformat": 4,
 "nbformat_minor": 4
}
