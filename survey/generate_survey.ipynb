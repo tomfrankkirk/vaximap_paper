{
 "cells": [
  {
   "cell_type": "markdown",
   "metadata": {},
   "source": [
    "# Notebook to produce TSPs for the survey"
   ]
  },
  {
   "cell_type": "code",
   "execution_count": 1,
   "metadata": {},
   "outputs": [],
   "source": [
    "import string\n",
    "import numpy as np\n",
    "import matplotlib.pyplot as plt"
   ]
  },
  {
   "cell_type": "code",
   "execution_count": 2,
   "metadata": {},
   "outputs": [],
   "source": [
    "# the alphabet as a list of 26 uppercase\n",
    "alphabet = list(string.ascii_uppercase)\n",
    "\n",
    "# Take a list of 2D arrays and, to each pair, add a third element which is an integer\n",
    "def tokenize(array,offset=0):\n",
    "    index = np.array([alphabet[i+offset] for i in range(0,len(array))]).reshape(len(array),1)\n",
    "    array = np.hstack((array,index))\n",
    "    return array"
   ]
  },
  {
   "cell_type": "code",
   "execution_count": 3,
   "metadata": {},
   "outputs": [],
   "source": [
    "# Define the numbers of points\n",
    "fig0_points = 10\n",
    "fig1_points = 13\n",
    "fig2_points = 20\n",
    "textsize = 10\n",
    "\n",
    "# Create 2D array of uniform points for the example figure\n",
    "np.random.seed(10)\n",
    "xy0=np.array(np.random.random((fig0_points,2)))\n",
    "\n",
    "# Create 2D array of uniform points for figure 1\n",
    "np.random.seed(0)\n",
    "xy1=np.array(np.random.random((fig1_points,2)))\n",
    "np.savetxt('array_13.txt', xy1)\n",
    "\n",
    "# Create 2D array of uniform points for figure 1\n",
    "np.random.seed(30)\n",
    "xy2=np.array(np.random.random((fig2_points,2)))\n",
    "np.savetxt('array_20.txt', xy2)\n",
    "\n",
    "# Tokenize the arrays\n",
    "xy0 = tokenize(xy0)\n",
    "xy1 = tokenize(xy1)\n",
    "xy2 = tokenize(xy2)\n"
   ]
  },
  {
   "cell_type": "code",
   "execution_count": 4,
   "metadata": {},
   "outputs": [
    {
     "data": {
      "image/png": "[encoded data removed]",
      "text/plain": [
       "<Figure size 432x288 with 1 Axes>"
      ]
     },
     "metadata": {},
     "output_type": "display_data"
    }
   ],
   "source": [
    "# Plot figure 0\n",
    "for i in range(0,len(xy0)):\n",
    "    plt.text(float(xy0[i,0]), float(xy0[i,1]), str(xy0[i,2]), fontsize=textsize, weight='bold')\n",
    "plt.xticks([], [])\n",
    "plt.yticks([], [])\n",
    "plt.xlim([-0.1,1.1])\n",
    "plt.ylim([-0.1,1.1])\n",
    "plt.savefig('tsp0.png',dpi=250,bbox_inches='tight')"
   ]
  },
  {
   "cell_type": "code",
   "execution_count": 5,
   "metadata": {},
   "outputs": [
    {
     "data": {
      "image/png": "[encoded data removed]",
      "text/plain": [
       "<Figure size 432x288 with 1 Axes>"
      ]
     },
     "metadata": {},
     "output_type": "display_data"
    }
   ],
   "source": [
    "# Plot figure 1\n",
    "for i in range(0,len(xy1)):\n",
    "    plt.text(float(xy1[i,0]), float(xy1[i,1]), str(xy1[i,2]), fontsize=textsize, weight='bold')\n",
    "plt.xticks([], [])\n",
    "plt.yticks([], [])\n",
    "plt.xlim([-0.1,1.1])\n",
    "plt.ylim([-0.1,1.1])\n",
    "plt.savefig('tsp1.png',dpi=250,bbox_inches='tight')"
   ]
  },
  {
   "cell_type": "code",
   "execution_count": 6,
   "metadata": {},
   "outputs": [
    {
     "data": {
      "image/png": "[encoded data removed]",
      "text/plain": [
       "<Figure size 432x288 with 1 Axes>"
      ]
     },
     "metadata": {},
     "output_type": "display_data"
    }
   ],
   "source": [
    "# Plot figure 2\n",
    "for i in range(0,len(xy2)):\n",
    "    plt.text(float(xy2[i,0]), float(xy2[i,1]), str(xy2[i,2]), fontsize=textsize, weight='bold')\n",
    "plt.xticks([], [])\n",
    "plt.yticks([], [])\n",
    "plt.xlim([-0.1,1.1])\n",
    "plt.ylim([-0.1,1.1])\n",
    "plt.savefig('tsp2.png',dpi=250,bbox_inches='tight')"
   ]
  },
  {
   "cell_type": "code",
   "execution_count": 7,
   "metadata": {},
   "outputs": [],
   "source": [
    "# For figure 3, we want to have a degree of intrinsic clustering\n",
    "# I thus produce 3 distributions and offset them\n",
    "\n",
    "c1_points = 4\n",
    "c2_points = 8\n",
    "c3_points = 14\n",
    "\n",
    "c1_offset = [0.5,0.7]\n",
    "c2_offset = [-0.3,0.75]\n",
    "c3_offset = [0.6,-0.9]\n",
    "\n",
    "np.random.seed(4)\n",
    "c1=np.array(np.random.random((c1_points,2)))\n",
    "np.random.seed(7)\n",
    "c2=np.array(np.random.random((c2_points,2)))\n",
    "np.random.seed(9)\n",
    "c3=np.array(np.random.random((c3_points,2)))\n",
    "\n",
    "c1 = c1+c1_offset\n",
    "c2 = c2+c2_offset\n",
    "c3 = c3+c3_offset\n",
    "\n",
    "# Tokenize all arrays\n",
    "c1 = tokenize(c1)\n",
    "c2 = tokenize(c2,c1_points)\n",
    "c3 = tokenize(c3,c1_points+c2_points)\n",
    "\n",
    "c4 = np.vstack((c1,c2,c3))\n",
    "np.savetxt('array_26.txt', c4[:,:2].astype(np.float32))\n"
   ]
  },
  {
   "cell_type": "code",
   "execution_count": 8,
   "metadata": {},
   "outputs": [
    {
     "data": {
      "image/png": "[encoded data removed]",
      "text/plain": [
       "<Figure size 432x288 with 1 Axes>"
      ]
     },
     "metadata": {},
     "output_type": "display_data"
    }
   ],
   "source": [
    "# Print figure 3\n",
    "for i in range(0,len(c4)):\n",
    "    plt.text(float(c4[i,0]), float(c4[i,1]), str(c4[i,2]), fontsize=textsize, weight='bold')\n",
    "    \n",
    "plt.xticks([], [])\n",
    "plt.yticks([], [])\n",
    "plt.xlim([-0.35,1.75])\n",
    "plt.ylim([-1.2,2])\n",
    "plt.savefig('tsp3.png',dpi=250,bbox_inches='tight')"
   ]
  }
 ],
 "metadata": {
  "kernelspec": {
   "display_name": "Python 3",
   "language": "python",
   "name": "python3"
  },
  "language_info": {
   "codemirror_mode": {
    "name": "ipython",
    "version": 3
   },
   "file_extension": ".py",
   "mimetype": "text/x-python",
   "name": "python",
   "nbconvert_exporter": "python",
   "pygments_lexer": "ipython3",
   "version": "3.8.1"
  }
 },
 "nbformat": 4,
 "nbformat_minor": 4
}
