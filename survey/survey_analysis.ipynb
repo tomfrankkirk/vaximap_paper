{
 "cells": [
  {
   "cell_type": "code",
   "execution_count": 30,
   "metadata": {},
   "outputs": [],
   "source": [
    "# Dependencies:\n",
    "# 1. Run generate_survey.ipynb to save arrays to local path"
   ]
  },
  {
   "cell_type": "code",
   "execution_count": 31,
   "metadata": {},
   "outputs": [],
   "source": [
    "# Load libraries\n",
    "%matplotlib inline\n",
    "import pandas as pd\n",
    "import numpy as np\n",
    "import datetime\n",
    "import matplotlib.pyplot as plt\n",
    "from scipy import stats, spatial\n",
    "import string\n",
    "import functools\n",
    "import sys\n",
    "sys.path.append('..')\n",
    "import helpers\n",
    "from matplotlib.cm import get_cmap\n",
    "cmap = np.array(get_cmap('tab10').colors)"
   ]
  },
  {
   "cell_type": "markdown",
   "metadata": {},
   "source": [
    "## Load survey responses\n",
    "Convert all times into seconds "
   ]
  },
  {
   "cell_type": "code",
   "execution_count": 32,
   "metadata": {},
   "outputs": [
    {
     "name": "stdout",
     "output_type": "stream",
     "text": [
      "Dataset shape (18, 20)\n"
     ]
    },
    {
     "data": {
      "text/html": [
       "<div>\n",
       "<style scoped>\n",
       "    .dataframe tbody tr th:only-of-type {\n",
       "        vertical-align: middle;\n",
       "    }\n",
       "\n",
       "    .dataframe tbody tr th {\n",
       "        vertical-align: top;\n",
       "    }\n",
       "\n",
       "    .dataframe thead th {\n",
       "        text-align: right;\n",
       "    }\n",
       "</style>\n",
       "<table border=\"1\" class=\"dataframe\">\n",
       "  <thead>\n",
       "    <tr style=\"text-align: right;\">\n",
       "      <th></th>\n",
       "      <th>Note</th>\n",
       "      <th>Age</th>\n",
       "      <th>Sex</th>\n",
       "      <th>Occupation</th>\n",
       "      <th>Route 1 (5)</th>\n",
       "      <th>Route 2 (8)</th>\n",
       "      <th>Route 3 (12)</th>\n",
       "      <th>List</th>\n",
       "      <th>Route 4.1</th>\n",
       "      <th>Route 4.2</th>\n",
       "      <th>Time (13)</th>\n",
       "      <th>Route 5.1</th>\n",
       "      <th>Route 5.2</th>\n",
       "      <th>Route 5.3</th>\n",
       "      <th>Time (20)</th>\n",
       "      <th>Route 6.1</th>\n",
       "      <th>Route 6.2</th>\n",
       "      <th>Route 6.3</th>\n",
       "      <th>Route 6.4</th>\n",
       "      <th>Time (26)</th>\n",
       "    </tr>\n",
       "  </thead>\n",
       "  <tbody>\n",
       "    <tr>\n",
       "      <th>13</th>\n",
       "      <td>AB6</td>\n",
       "      <td>28</td>\n",
       "      <td>M</td>\n",
       "      <td>Chartered Accountant</td>\n",
       "      <td>195.0</td>\n",
       "      <td>235.0</td>\n",
       "      <td>429.0</td>\n",
       "      <td>Google Maps</td>\n",
       "      <td>A,G,J,K,E,F,B,A</td>\n",
       "      <td>I,M,H,C,L,D,I</td>\n",
       "      <td>17.0</td>\n",
       "      <td>I,F,O,J,T,S,R,I</td>\n",
       "      <td>G,K,A,E,N,Q,G</td>\n",
       "      <td>B,L,H,D,C,M,P,B</td>\n",
       "      <td>34.0</td>\n",
       "      <td>E,L,F,J,H,K,I,E</td>\n",
       "      <td>G,B,A,D,C,G</td>\n",
       "      <td>M,Q,O,P,V,W,R,M</td>\n",
       "      <td>N,T,X,U,Y,Z,S,N</td>\n",
       "      <td>65.0</td>\n",
       "    </tr>\n",
       "    <tr>\n",
       "      <th>14</th>\n",
       "      <td>AJB1</td>\n",
       "      <td>76</td>\n",
       "      <td>F</td>\n",
       "      <td>Retired Teacher</td>\n",
       "      <td>2290.0</td>\n",
       "      <td>2420.0</td>\n",
       "      <td>390.0</td>\n",
       "      <td>Postcode A-Z</td>\n",
       "      <td>H,M,I,D,L,C,H</td>\n",
       "      <td>E,F,B,A,G,J,K,E</td>\n",
       "      <td>88.0</td>\n",
       "      <td>J,O,F,I,R,S,T,J</td>\n",
       "      <td>A,E,N,Q,G,K,A</td>\n",
       "      <td>H,L,B,P,M,C,D,H</td>\n",
       "      <td>272.0</td>\n",
       "      <td>H,K,I,E,L,F,J,H</td>\n",
       "      <td>D,C,G,B,A,D</td>\n",
       "      <td>V,T,X,U,Y,Z,S,V</td>\n",
       "      <td>N,P,O,Q,M,R,W,N</td>\n",
       "      <td>575.0</td>\n",
       "    </tr>\n",
       "    <tr>\n",
       "      <th>15</th>\n",
       "      <td>AJB2</td>\n",
       "      <td>78</td>\n",
       "      <td>M</td>\n",
       "      <td>Retired</td>\n",
       "      <td>2100.0</td>\n",
       "      <td>2530.0</td>\n",
       "      <td>375.0</td>\n",
       "      <td>Postcode A-Z</td>\n",
       "      <td>H,M,I,D,L,C,H</td>\n",
       "      <td>E,F,B,A,G,J,K,E</td>\n",
       "      <td>125.0</td>\n",
       "      <td>J,O,F,I,R,S,T,J</td>\n",
       "      <td>A,E,N,Q,G,K,A</td>\n",
       "      <td>L,B,P,M,C,D,H,L</td>\n",
       "      <td>260.0</td>\n",
       "      <td>E,L,F,J,H,K,I,E</td>\n",
       "      <td>D,C,G,B,A,D</td>\n",
       "      <td>V,T,X,U,Y,Z,S,V</td>\n",
       "      <td>N,P,O,Q,M,R,W,N</td>\n",
       "      <td>605.0</td>\n",
       "    </tr>\n",
       "    <tr>\n",
       "      <th>16</th>\n",
       "      <td>TK3</td>\n",
       "      <td>30</td>\n",
       "      <td>M</td>\n",
       "      <td>IT analyst</td>\n",
       "      <td>191.0</td>\n",
       "      <td>320.0</td>\n",
       "      <td>416.0</td>\n",
       "      <td>Google Maps</td>\n",
       "      <td>H,M,I,D,L,C,H</td>\n",
       "      <td>G,J,K,E,F,B,A,G</td>\n",
       "      <td>124.0</td>\n",
       "      <td>O,F,I,R,S,T,J,O</td>\n",
       "      <td>G,K,A,E,N,Q,G</td>\n",
       "      <td>B,P,M,C,D,H,L,B</td>\n",
       "      <td>93.0</td>\n",
       "      <td>E,L,F,J,H,K,I,E</td>\n",
       "      <td>G,B,A,D,C,G</td>\n",
       "      <td>V,T,X,U,Y,Z,S,V</td>\n",
       "      <td>M,R,W,N,P,O,Q,M</td>\n",
       "      <td>197.0</td>\n",
       "    </tr>\n",
       "    <tr>\n",
       "      <th>17</th>\n",
       "      <td>TK4</td>\n",
       "      <td>55</td>\n",
       "      <td>M</td>\n",
       "      <td>Company director</td>\n",
       "      <td>168.0</td>\n",
       "      <td>353.0</td>\n",
       "      <td>520.0</td>\n",
       "      <td>Google Maps</td>\n",
       "      <td>I,D,L,C,M,H,I</td>\n",
       "      <td>G,J,K,E,F,B,A,G</td>\n",
       "      <td>80.0</td>\n",
       "      <td>I,S,T,J,F,O,I</td>\n",
       "      <td>R,G,K,A,E,N,Q,R</td>\n",
       "      <td>B,P,C,D,M,H,L,B</td>\n",
       "      <td>70.0</td>\n",
       "      <td>E,L,F,J,H,K,I,E</td>\n",
       "      <td>G,B,A,D,Y,U,C,G</td>\n",
       "      <td>V,T,X,Z,S,V</td>\n",
       "      <td>R,W,N,P,O,Q,M,R</td>\n",
       "      <td>145.0</td>\n",
       "    </tr>\n",
       "  </tbody>\n",
       "</table>\n",
       "</div>"
      ],
      "text/plain": [
       "    Note  Age Sex            Occupation  Route 1 (5)  Route 2 (8)  \\\n",
       "13   AB6   28   M  Chartered Accountant        195.0        235.0   \n",
       "14  AJB1   76   F       Retired Teacher       2290.0       2420.0   \n",
       "15  AJB2   78   M               Retired       2100.0       2530.0   \n",
       "16   TK3   30   M            IT analyst        191.0        320.0   \n",
       "17   TK4   55  M       Company director        168.0        353.0   \n",
       "\n",
       "    Route 3 (12)          List        Route 4.1        Route 4.2  Time (13)  \\\n",
       "13         429.0   Google Maps  A,G,J,K,E,F,B,A    I,M,H,C,L,D,I       17.0   \n",
       "14         390.0  Postcode A-Z    H,M,I,D,L,C,H  E,F,B,A,G,J,K,E       88.0   \n",
       "15         375.0  Postcode A-Z    H,M,I,D,L,C,H  E,F,B,A,G,J,K,E      125.0   \n",
       "16         416.0   Google Maps    H,M,I,D,L,C,H  G,J,K,E,F,B,A,G      124.0   \n",
       "17         520.0   Google Maps    I,D,L,C,M,H,I  G,J,K,E,F,B,A,G       80.0   \n",
       "\n",
       "          Route 5.1        Route 5.2        Route 5.3  Time (20)  \\\n",
       "13  I,F,O,J,T,S,R,I    G,K,A,E,N,Q,G  B,L,H,D,C,M,P,B       34.0   \n",
       "14  J,O,F,I,R,S,T,J    A,E,N,Q,G,K,A  H,L,B,P,M,C,D,H      272.0   \n",
       "15  J,O,F,I,R,S,T,J    A,E,N,Q,G,K,A  L,B,P,M,C,D,H,L      260.0   \n",
       "16  O,F,I,R,S,T,J,O    G,K,A,E,N,Q,G  B,P,M,C,D,H,L,B       93.0   \n",
       "17    I,S,T,J,F,O,I  R,G,K,A,E,N,Q,R  B,P,C,D,M,H,L,B       70.0   \n",
       "\n",
       "          Route 6.1        Route 6.2        Route 6.3        Route 6.4  \\\n",
       "13  E,L,F,J,H,K,I,E      G,B,A,D,C,G  M,Q,O,P,V,W,R,M  N,T,X,U,Y,Z,S,N   \n",
       "14  H,K,I,E,L,F,J,H      D,C,G,B,A,D  V,T,X,U,Y,Z,S,V  N,P,O,Q,M,R,W,N   \n",
       "15  E,L,F,J,H,K,I,E      D,C,G,B,A,D  V,T,X,U,Y,Z,S,V  N,P,O,Q,M,R,W,N   \n",
       "16  E,L,F,J,H,K,I,E      G,B,A,D,C,G  V,T,X,U,Y,Z,S,V  M,R,W,N,P,O,Q,M   \n",
       "17  E,L,F,J,H,K,I,E  G,B,A,D,Y,U,C,G      V,T,X,Z,S,V  R,W,N,P,O,Q,M,R   \n",
       "\n",
       "    Time (26)  \n",
       "13       65.0  \n",
       "14      575.0  \n",
       "15      605.0  \n",
       "16      197.0  \n",
       "17      145.0  "
      ]
     },
     "execution_count": 32,
     "metadata": {},
     "output_type": "execute_result"
    }
   ],
   "source": [
    "# Load data\n",
    "survey = pd.read_excel('Vaximap Survey Responses.xlsx', header=1, nrows=19)\n",
    "survey = survey.dropna()\n",
    "\n",
    "# Convert all time durations to seconds \n",
    "def to_seconds(dt):\n",
    "    delta = datetime.timedelta(minutes=dt.minute, seconds=dt.second)\n",
    "    return delta.total_seconds()\n",
    "\n",
    "times = survey.loc[:,['Route 1 (5)', 'Route 2 (8)', 'Route 3 (12)', 'Time (13)', 'Time (20)', 'Time (26)']]\n",
    "survey.loc[:,['Route 1 (5)', 'Route 2 (8)', 'Route 3 (12)', 'Time (13)', 'Time (20)', 'Time (26)']] = times.applymap(to_seconds).astype(float)\n",
    "\n",
    "# Metadata\n",
    "print('Dataset shape', survey.shape)\n",
    "\n",
    "# Inspect\n",
    "survey.tail(5)"
   ]
  },
  {
   "cell_type": "code",
   "execution_count": 33,
   "metadata": {},
   "outputs": [],
   "source": [
    "# Check the routes of each survey respondent are complete (they contain all the letters we expect)\n",
    "letter2index = dict(zip(string.ascii_uppercase, np.arange(26)))\n",
    "index2letter = list(string.ascii_uppercase)\n",
    "\n",
    "def get_route_length_from_dist_mat(route, dm):\n",
    "    route = route.split(',')\n",
    "    if (route[0] != route[-1]) or len(route) > 8: \n",
    "        raise RuntimeError(\"Route error (start/end or length > 7?)\", route)\n",
    "    inds = [ letter2index[i] for i in route ]\n",
    "    total = sum([ dm[inds[x], inds[x+1]] for x in range(len(inds) - 1) ])\n",
    "    total += dm[inds[-1], inds[0]]\n",
    "    return total \n",
    "\n",
    "def check_solutions_complete(df, target):\n",
    "    for row in range(df.shape[0]):\n",
    "        flat = [] \n",
    "        for r in df.iloc[row,:]: \n",
    "            flat += r.split(',')\n",
    "        flat = set(flat)\n",
    "        for idx in range(target):\n",
    "            if not index2letter[idx] in flat: \n",
    "                raise RuntimeError(f\"{df.columns[0][:-2]} for index {df.iloc[row,:].name} incomplete, {index2letter[idx]} missing\")\n"
   ]
  },
  {
   "cell_type": "code",
   "execution_count": 34,
   "metadata": {},
   "outputs": [],
   "source": [
    "# Check the solutions contain all of the points in the survey arrays\n",
    "\n",
    "# 13 points (Question 4)\n",
    "check_solutions_complete(survey.filter(regex=(\"Route 4\")), 13)\n",
    "points_13 = np.loadtxt('array_13.txt')\n",
    "dm13 = spatial.distance_matrix(points_13, points_13)\n",
    "get_route_length = functools.partial(get_route_length_from_dist_mat, dm=dm13)\n",
    "survey['Total distance 4'] = survey['Route 4.1'].apply(get_route_length) + survey['Route 4.2'].apply(get_route_length)\n",
    "\n",
    "# 20 points (Question 5)\n",
    "check_solutions_complete(survey.filter(regex=(\"Route 5\")), 20)\n",
    "points_20 = np.loadtxt('array_20.txt')\n",
    "dm20 = spatial.distance_matrix(points_20, points_20)\n",
    "get_route_length = functools.partial(get_route_length_from_dist_mat, dm=dm20)\n",
    "survey['Total distance 5'] = (survey['Route 5.1'].apply(get_route_length) + survey['Route 5.2'].apply(get_route_length) \n",
    "                              + survey['Route 5.3'].apply(get_route_length))\n",
    "\n",
    "# 26 points (Question 6)\n",
    "check_solutions_complete(survey.filter(regex=(\"Route 6\")), 26)\n",
    "points_26 = np.loadtxt('array_26.txt')\n",
    "dm26 = spatial.distance_matrix(points_26, points_26)\n",
    "get_route_length = functools.partial(get_route_length_from_dist_mat, dm=dm26)\n",
    "survey['Total distance 6'] = (survey['Route 6.1'].apply(get_route_length) + survey['Route 6.2'].apply(get_route_length) \n",
    "                              + survey['Route 6.3'].apply(get_route_length) + survey['Route 6.4'].apply(get_route_length))\n"
   ]
  },
  {
   "cell_type": "code",
   "execution_count": 35,
   "metadata": {},
   "outputs": [
    {
     "name": "stdout",
     "output_type": "stream",
     "text": [
      "Age: mean 45.6 , std 19.6 , min 26 , max 78\n",
      "Participants:  18 total, 6 female\n"
     ]
    }
   ],
   "source": [
    "# Cohort chracteristics \n",
    "print('Age: mean', round(survey.Age.mean(),1), ', std', round(survey.Age.std(),1), \n",
    "      ', min',round(survey.Age.min(),1), ', max', round(survey.Age.max(),1))\n",
    "print('Participants: ', survey.shape[0], 'total,', (survey.Sex == 'F').sum(), 'female')"
   ]
  },
  {
   "cell_type": "markdown",
   "metadata": {},
   "source": [
    "## Lookup time regression \n",
    "How long does it take people to generate a spatial representation for a TSP?"
   ]
  },
  {
   "cell_type": "code",
   "execution_count": 36,
   "metadata": {},
   "outputs": [
    {
     "data": {
      "text/plain": [
       "LinregressResult(slope=36.96355863192182, intercept=14.21213355048863, rvalue=0.8029280533920997, pvalue=1.4599923254925254e-15, stderr=3.4850009479067627)"
      ]
     },
     "execution_count": 36,
     "metadata": {},
     "output_type": "execute_result"
    },
    {
     "data": {
      "image/png": "[encoded data removed]",
      "text/plain": [
       "<Figure size 432x288 with 1 Axes>"
      ]
     },
     "metadata": {
      "needs_background": "light"
     },
     "output_type": "display_data"
    }
   ],
   "source": [
    "# Get time to complete Questions 1-3\n",
    "# Detect outliers, set manual threshold as 2000s here \n",
    "lookup_time = survey.loc[:,['Route 1 (5)', 'Route 2 (8)', 'Route 3 (12)']].values.astype(float)\n",
    "lookup_time = np.hstack((np.zeros((lookup_time.shape[0], 1)), lookup_time))\n",
    "route_size = np.tile([0,5,8,12], (lookup_time.shape[0], 1))\n",
    "\n",
    "# Do regression, exlcuding outliers \n",
    "fltr = (lookup_time < 2000).all(1)\n",
    "lut_reg = stats.linregress(route_size[fltr,:].flatten(), lookup_time[fltr,:].flatten())\n",
    "\n",
    "# Calculate 95% interval on slope \n",
    "tinv = lambda p, df: abs(stats.t.ppf(p/2, df))\n",
    "ci = tinv(0.05, len(route_size)-2) * lut_reg.stderr\n",
    "\n",
    "# Plot data and linear fit\n",
    "for row in range(lookup_time.shape[0]):\n",
    "    label = f'responses: {(~fltr).sum()} outliers rejected' if row == 0 else None\n",
    "    plt.plot(route_size[row], lookup_time[row], 'k--', linewidth=0.33, marker='.', label=label)\n",
    "route_size_fit = np.linspace(0,12)\n",
    "lookup_time_fit = lut_reg.intercept + (route_size_fit * lut_reg.slope)\n",
    "plt.plot(route_size_fit, lookup_time_fit, 'r-', label=r'fit: %.1fs $\\pm$ %.1f per location, R = %.2f' % (lut_reg.slope, ci, lut_reg.rvalue))\n",
    "plt.legend(loc='upper left')\n",
    "plt.ylabel('Time (s)')\n",
    "plt.xlabel('Number of locations')\n",
    "plt.title(f'Time taken to generate spatial representation (N = {fltr.size})')\n",
    "plt.ylim(0,3300)\n",
    "plt.savefig('lut_fit.png', dpi=250, bbox_inches='tight')\n",
    "\n",
    "# Print coefficients\n",
    "lut_reg \n"
   ]
  },
  {
   "cell_type": "markdown",
   "metadata": {},
   "source": [
    "## Routing time regression \n",
    "How long does it take people to generate routes from a spatial representation?"
   ]
  },
  {
   "cell_type": "code",
   "execution_count": 37,
   "metadata": {},
   "outputs": [
    {
     "data": {
      "text/plain": [
       "LinregressResult(slope=4.6564793195463645, intercept=-1.7924449633088813, rvalue=0.7422445129948336, pvalue=2.2382215032685462e-12, stderr=0.5339165096968358)"
      ]
     },
     "execution_count": 37,
     "metadata": {},
     "output_type": "execute_result"
    },
    {
     "data": {
      "image/png": "[encoded data removed]",
      "text/plain": [
       "<Figure size 432x288 with 1 Axes>"
      ]
     },
     "metadata": {
      "needs_background": "light"
     },
     "output_type": "display_data"
    }
   ],
   "source": [
    "# Get time to complete Questions 4-6\n",
    "planning_time = survey.loc[:,['Time (13)', 'Time (20)', 'Time (26)']].values.astype(float)\n",
    "planning_time = np.hstack((np.zeros((planning_time.shape[0], 1)), planning_time))\n",
    "route_size = np.tile([0,13,20,26], (planning_time.shape[0], 1))\n",
    "\n",
    "# Do regression, exlcuding outliers \n",
    "fltr = (planning_time < 400).all(1)\n",
    "planning_reg = stats.linregress(route_size[fltr,:].flatten(), planning_time[fltr,:].flatten())\n",
    "\n",
    "# Calculate 95% interval on slope \n",
    "tinv = lambda p, df: abs(stats.t.ppf(p/2, df))\n",
    "ci = tinv(0.05, len(route_size)-2) * planning_reg.stderr\n",
    "\n",
    "# Plot data and linear fit\n",
    "for row in range(planning_time.shape[0]):\n",
    "    label = f'responses: {(~fltr).sum()} outliers rejected' if row == 0 else None\n",
    "    plt.plot(route_size[row], planning_time[row], 'k--', linewidth=0.33, marker='.', label=label)\n",
    "route_size_fit = np.linspace(0,26)\n",
    "planning_time_fit = lut_reg.intercept + (route_size_fit * planning_reg.slope)\n",
    "plt.plot(route_size_fit, planning_time_fit, 'r-', label=r'fit: %.1fs $\\pm$ %.1f per location, R = %.2f' % (planning_reg.slope, ci, planning_reg.rvalue))\n",
    "plt.legend()\n",
    "plt.ylabel('Time (s)')\n",
    "plt.xlabel('Number of locations')\n",
    "plt.title(f'Time taken to generate routes (N = {fltr.size})')\n",
    "plt.savefig('planning_fit.png', dpi=250, bbox_inches='tight')\n",
    "planning_reg"
   ]
  },
  {
   "cell_type": "markdown",
   "metadata": {},
   "source": [
    "## Human solution quality\n",
    "NB this analysis was not used in the paper for the following reasons: \n",
    "- Q6 of the survey was flawed because the exact constraints under which VM operates (only one under-sized group) were not specified to respondents, hence some of their solutions violate those same constraints (of which they were not aware...)\n",
    "- Q5 is an example of a TSP for which humans easily outperform VM, but the discrete nature of the constrained TSP means this is likely a one-off. Hence, a better investigation of the problem would present multiple different TSPs for each value of N in order to average out the effect of an individual problem being especially easy/hard. We don't have the time or resources to launch an in-depth study of human performance on the TSP, nor is it the purpose of this work, so it doesn't make sense for us to go there. We are simply interested in the time it takes people to do the TSP, which the analysis above gives us. "
   ]
  },
  {
   "cell_type": "code",
   "execution_count": null,
   "metadata": {},
   "outputs": [],
   "source": [
    "# Generate vaximap answers for the survey routes\n",
    "optimal_costs = []\n",
    "optimal_routes = []\n",
    "\n",
    "for arr in [points_13, points_20, points_26]:\n",
    "    routes, cost = helpers.generate_vaximap_solution(arr, 7)\n",
    "    optimal_costs.append(cost)\n",
    "    optimal_routes.append(routes)\n",
    "\n",
    "optimal_costs = np.array(optimal_costs)"
   ]
  },
  {
   "cell_type": "code",
   "execution_count": null,
   "metadata": {},
   "outputs": [],
   "source": [
    "# Plot vaximap optimised routes\n",
    "fig, axes = plt.subplots(3, 1, constrained_layout=True, figsize=(6,10))\n",
    "for ax, cost, rts, points in zip(axes, optimal_costs, optimial_routes, [points_13, points_20, points_26]): \n",
    "    for idx in range(points.shape[0]):\n",
    "        ax.text(*points[idx,:], index2letter[idx], fontsize=12, weight='bold')\n",
    "\n",
    "    for rtidx,rt in enumerate(rts): \n",
    "        for idx in range(rt.size - 1):\n",
    "            ax.plot(points[[rt[idx], rt[idx+1]],0], points[[rt[idx], rt[idx+1]],1], c=cmap[rtidx,:])\n",
    "        ax.plot(points[[rt[-1], rt[0]],0], points[[rt[-1], rt[0]],1], c=cmap[rtidx,:])\n",
    "\n",
    "    ax.set_title(f'{points.shape[0]} points, total cost {cost:.2f}')\n",
    "    ax.set_xticks([])\n",
    "    ax.set_yticks([])\n"
   ]
  },
  {
   "cell_type": "code",
   "execution_count": null,
   "metadata": {},
   "outputs": [],
   "source": [
    "# Calculate the penalty, defined by the fraction difference in length from the vaximap solution\n",
    "penalty = survey.loc[:, ['Total distance 4', 'Total distance 5', 'Total distance 6']].values\n",
    "penalty = 100 * (penalty - optimal_costs) / optimal_costs[None,:] \n",
    "penalty = np.hstack((np.zeros((penalty.shape[0], 1)), penalty))\n",
    "route_size = np.tile([0,13,20,26], (penalty.shape[0], 1))\n",
    "\n",
    "# planning_reg = stats.linregress(route_size.flatten(), lookup_time.flatten())\n",
    "for row in range(penalty.shape[0]):\n",
    "    plt.plot(route_size[row], penalty[row], 'k--', linewidth=0.33, label='responses' if row == 0 else None)\n",
    "# route_size_fit = np.linspace(0,26)\n",
    "# planning_time_fit = lut_reg.intercept + (route_size_fit * planning_reg.slope)\n",
    "# plt.plot(route_size_fit, planning_time_fit, 'r-', label=f'fit, {planning_reg.slope:.0f}s per location')\n",
    "plt.legend()\n",
    "plt.ylabel('Optimality penalty (%)')\n",
    "plt.xlabel('Number of locations')\n",
    "plt.title('Increase in length from optimal')\n",
    "\n",
    "# planning_reg"
   ]
  },
  {
   "cell_type": "code",
   "execution_count": null,
   "metadata": {},
   "outputs": [],
   "source": [
    "# Plot comparisons of human-generated routes and Vaximap solution\n",
    "\n",
    "fig, axes = plt.subplots(3, 2, constrained_layout=True, figsize=(12,12))\n",
    "points = points_26\n",
    "\n",
    "for row in survey.iloc[:3,:].filter(regex=(\"Route 6\")).itertuples(): \n",
    "    ax = axes[row.Index,0]\n",
    "\n",
    "    for idx in range(points.shape[0]):\n",
    "        ax.text(*points[idx,:], index2letter[idx], fontsize=12, weight='bold')\n",
    "\n",
    "    for rtidx,rt in enumerate([row._1, row._2, row._3, row._4]): \n",
    "        rt = [ letter2index[r] for r in rt.split(',') ]\n",
    "        for idx in range(len(rt) - 1):\n",
    "            ax.plot(points[[rt[idx], rt[idx+1]],0], points[[rt[idx], rt[idx+1]],1], c=cmap[rtidx,:])\n",
    "        ax.text(*points[rt[0],:] + 0.05 * np.random.uniform(2), len(rt)-1, fontsize=12, color='blue')\n",
    "\n",
    "    cost = survey.loc[row.Index, 'Total distance 6']\n",
    "    age = survey.loc[row.Index, 'Age']\n",
    "    note = survey.loc[row.Index, 'Note']\n",
    "    ax.set_title(f'{note}, age {age} cost {cost:.2f}')\n",
    "    ax.set_xticks([])\n",
    "    ax.set_yticks([])\n",
    "\n",
    "    ax = axes[row.Index,1]\n",
    "\n",
    "    for idx in range(points.shape[0]):\n",
    "        ax.text(*points[idx,:], index2letter[idx], fontsize=12, weight='bold')\n",
    "\n",
    "    for rtidx,rt in enumerate(optimial_routes[-1]): \n",
    "        for idx in range(rt.size - 1):\n",
    "            ax.plot(points[[rt[idx], rt[idx+1]],0], points[[rt[idx], rt[idx+1]],1], c=cmap[rtidx,:])\n",
    "        ax.plot(points[[rt[-1], rt[0]],0], points[[rt[-1], rt[0]],1], c=cmap[rtidx,:])\n",
    "        ax.text(*points[rt[0],:] + 0.05 * np.random.uniform(2), len(rt), fontsize=12, color='blue')\n",
    "\n",
    "    ax.set_title(f'Vaximap, cost {optimal_costs[-1]:.2f}')\n",
    "    ax.set_xticks([])\n",
    "    ax.set_yticks([])"
   ]
  },
  {
   "cell_type": "code",
   "execution_count": null,
   "metadata": {},
   "outputs": [],
   "source": []
  }
 ],
 "metadata": {
  "kernelspec": {
   "display_name": "Python 3",
   "language": "python",
   "name": "python3"
  },
  "language_info": {
   "codemirror_mode": {
    "name": "ipython",
    "version": 3
   },
   "file_extension": ".py",
   "mimetype": "text/x-python",
   "name": "python",
   "nbconvert_exporter": "python",
   "pygments_lexer": "ipython3",
   "version": "3.8.1"
  }
 },
 "nbformat": 4,
 "nbformat_minor": 4
}
