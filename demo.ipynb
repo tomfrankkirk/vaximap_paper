{
 "metadata": {
  "language_info": {
   "codemirror_mode": {
    "name": "ipython",
    "version": 3
   },
   "file_extension": ".py",
   "mimetype": "text/x-python",
   "name": "python",
   "nbconvert_exporter": "python",
   "pygments_lexer": "ipython3",
   "version": "3.8.5"
  },
  "orig_nbformat": 4,
  "kernelspec": {
   "name": "python3",
   "display_name": "Python 3.8.5 64-bit ('vaximap': conda)"
  },
  "interpreter": {
   "hash": "b4502b264546c4c21079cff70a73ca3228babe1d7cea9c4d5516d4cb41402be5"
  }
 },
 "nbformat": 4,
 "nbformat_minor": 2,
 "cells": [
  {
   "cell_type": "code",
   "execution_count": 1,
   "metadata": {},
   "outputs": [],
   "source": [
    "from load_dataset import dataset"
   ]
  },
  {
   "cell_type": "code",
   "execution_count": 2,
   "metadata": {},
   "outputs": [
    {
     "output_type": "execute_result",
     "data": {
      "text/plain": [
       "      n_patients  n_clusters  \\\n",
       "0              6           1   \n",
       "1             24           3   \n",
       "2             11           1   \n",
       "3             20           2   \n",
       "4             32           3   \n",
       "...          ...         ...   \n",
       "8654           4           1   \n",
       "8655           8           1   \n",
       "8656          17           1   \n",
       "8657          17           2   \n",
       "8658          24           3   \n",
       "\n",
       "                                                latlong  \\\n",
       "0     [[-0.0011351833333321792, -0.03472788333333332...   \n",
       "1     [[0.024502254166669957, -0.04485072916666666],...   \n",
       "2     [[-0.00422240000000329, -0.010207700000000014]...   \n",
       "3     [[-0.002061715000010622, 0.00596078000000011],...   \n",
       "4     [[0.009377109375002135, 0.0008326499999999903]...   \n",
       "...                                                 ...   \n",
       "8654  [[-0.014870643615722656, 0.01502007246017456],...   \n",
       "8655  [[-0.05714273452758789, 0.025144636631011963],...   \n",
       "8656  [[0.027773688821234543, 0.09624101835138665], ...   \n",
       "8657  [[0.027773688821234543, 0.09624101835138665], ...   \n",
       "8658  [[0.02116568883260328, -0.0421307235956192], [...   \n",
       "\n",
       "                                               clusters region  \\\n",
       "0                                  [[2, 3, 5, 4, 1, 0]]     UK   \n",
       "1     [[3, 18], [0, 4, 8, 6, 9, 20, 13, 10, 12, 14, ...     UK   \n",
       "2                  [[2, 6, 9, 0, 10, 4, 1, 5, 8, 7, 3]]     UK   \n",
       "3     [[12, 11, 13, 7, 5, 6, 8, 9, 10, 17], [4, 2, 3...     UK   \n",
       "4     [[0, 1, 3, 4, 9, 8, 5, 2, 7, 19, 23], [22, 26,...     UK   \n",
       "...                                                 ...    ...   \n",
       "8654                                     [[3, 2, 1, 0]]     UK   \n",
       "8655                         [[3, 1, 4, 2, 6, 7, 0, 5]]     UK   \n",
       "8656  [[5, 15, 11, 7, 12, 3, 4, 8, 9, 10, 16, 1, 6, ...     UK   \n",
       "8657  [[0, 6, 3, 11, 7, 12, 15, 5], [4, 8, 9, 10, 16...     UK   \n",
       "8658  [[19, 17, 1, 23, 16, 15, 22, 21, 2, 5, 7], [20...     UK   \n",
       "\n",
       "                                              postcodes     created     mode  \n",
       "0                                                    {}  2021-01-23  driving  \n",
       "1                                                    {}  2021-01-23  driving  \n",
       "2                                                    {}  2021-01-23  driving  \n",
       "3                                                    {}  2021-01-23  driving  \n",
       "4                                                    {}  2021-01-23  driving  \n",
       "...                                                 ...         ...      ...  \n",
       "8654                     {'L20': 2, 'L23': 1, 'L21': 1}  2021-06-16  driving  \n",
       "8655  {'CV7': 1, 'B78': 3, 'CV9': 2, 'CV12': 1, 'CV5...  2021-06-16  driving  \n",
       "8656  {'CV11': 3, 'CV9': 7, 'CV7': 1, 'CV10': 1, 'CV...  2021-06-16  driving  \n",
       "8657  {'CV11': 3, 'CV9': 7, 'CV7': 1, 'CV10': 1, 'CV...  2021-06-16  driving  \n",
       "8658  {'OX2': 7, 'OX4': 7, 'OX1': 7, 'OX3': 2, 'OX33...  2021-06-16  driving  \n",
       "\n",
       "[8659 rows x 8 columns]"
      ],
      "text/html": "<div>\n<style scoped>\n    .dataframe tbody tr th:only-of-type {\n        vertical-align: middle;\n    }\n\n    .dataframe tbody tr th {\n        vertical-align: top;\n    }\n\n    .dataframe thead th {\n        text-align: right;\n    }\n</style>\n<table border=\"1\" class=\"dataframe\">\n  <thead>\n    <tr style=\"text-align: right;\">\n      <th></th>\n      <th>n_patients</th>\n      <th>n_clusters</th>\n      <th>latlong</th>\n      <th>clusters</th>\n      <th>region</th>\n      <th>postcodes</th>\n      <th>created</th>\n      <th>mode</th>\n    </tr>\n  </thead>\n  <tbody>\n    <tr>\n      <th>0</th>\n      <td>6</td>\n      <td>1</td>\n      <td>[[-0.0011351833333321792, -0.03472788333333332...</td>\n      <td>[[2, 3, 5, 4, 1, 0]]</td>\n      <td>UK</td>\n      <td>{}</td>\n      <td>2021-01-23</td>\n      <td>driving</td>\n    </tr>\n    <tr>\n      <th>1</th>\n      <td>24</td>\n      <td>3</td>\n      <td>[[0.024502254166669957, -0.04485072916666666],...</td>\n      <td>[[3, 18], [0, 4, 8, 6, 9, 20, 13, 10, 12, 14, ...</td>\n      <td>UK</td>\n      <td>{}</td>\n      <td>2021-01-23</td>\n      <td>driving</td>\n    </tr>\n    <tr>\n      <th>2</th>\n      <td>11</td>\n      <td>1</td>\n      <td>[[-0.00422240000000329, -0.010207700000000014]...</td>\n      <td>[[2, 6, 9, 0, 10, 4, 1, 5, 8, 7, 3]]</td>\n      <td>UK</td>\n      <td>{}</td>\n      <td>2021-01-23</td>\n      <td>driving</td>\n    </tr>\n    <tr>\n      <th>3</th>\n      <td>20</td>\n      <td>2</td>\n      <td>[[-0.002061715000010622, 0.00596078000000011],...</td>\n      <td>[[12, 11, 13, 7, 5, 6, 8, 9, 10, 17], [4, 2, 3...</td>\n      <td>UK</td>\n      <td>{}</td>\n      <td>2021-01-23</td>\n      <td>driving</td>\n    </tr>\n    <tr>\n      <th>4</th>\n      <td>32</td>\n      <td>3</td>\n      <td>[[0.009377109375002135, 0.0008326499999999903]...</td>\n      <td>[[0, 1, 3, 4, 9, 8, 5, 2, 7, 19, 23], [22, 26,...</td>\n      <td>UK</td>\n      <td>{}</td>\n      <td>2021-01-23</td>\n      <td>driving</td>\n    </tr>\n    <tr>\n      <th>...</th>\n      <td>...</td>\n      <td>...</td>\n      <td>...</td>\n      <td>...</td>\n      <td>...</td>\n      <td>...</td>\n      <td>...</td>\n      <td>...</td>\n    </tr>\n    <tr>\n      <th>8654</th>\n      <td>4</td>\n      <td>1</td>\n      <td>[[-0.014870643615722656, 0.01502007246017456],...</td>\n      <td>[[3, 2, 1, 0]]</td>\n      <td>UK</td>\n      <td>{'L20': 2, 'L23': 1, 'L21': 1}</td>\n      <td>2021-06-16</td>\n      <td>driving</td>\n    </tr>\n    <tr>\n      <th>8655</th>\n      <td>8</td>\n      <td>1</td>\n      <td>[[-0.05714273452758789, 0.025144636631011963],...</td>\n      <td>[[3, 1, 4, 2, 6, 7, 0, 5]]</td>\n      <td>UK</td>\n      <td>{'CV7': 1, 'B78': 3, 'CV9': 2, 'CV12': 1, 'CV5...</td>\n      <td>2021-06-16</td>\n      <td>driving</td>\n    </tr>\n    <tr>\n      <th>8656</th>\n      <td>17</td>\n      <td>1</td>\n      <td>[[0.027773688821234543, 0.09624101835138665], ...</td>\n      <td>[[5, 15, 11, 7, 12, 3, 4, 8, 9, 10, 16, 1, 6, ...</td>\n      <td>UK</td>\n      <td>{'CV11': 3, 'CV9': 7, 'CV7': 1, 'CV10': 1, 'CV...</td>\n      <td>2021-06-16</td>\n      <td>driving</td>\n    </tr>\n    <tr>\n      <th>8657</th>\n      <td>17</td>\n      <td>2</td>\n      <td>[[0.027773688821234543, 0.09624101835138665], ...</td>\n      <td>[[0, 6, 3, 11, 7, 12, 15, 5], [4, 8, 9, 10, 16...</td>\n      <td>UK</td>\n      <td>{'CV11': 3, 'CV9': 7, 'CV7': 1, 'CV10': 1, 'CV...</td>\n      <td>2021-06-16</td>\n      <td>driving</td>\n    </tr>\n    <tr>\n      <th>8658</th>\n      <td>24</td>\n      <td>3</td>\n      <td>[[0.02116568883260328, -0.0421307235956192], [...</td>\n      <td>[[19, 17, 1, 23, 16, 15, 22, 21, 2, 5, 7], [20...</td>\n      <td>UK</td>\n      <td>{'OX2': 7, 'OX4': 7, 'OX1': 7, 'OX3': 2, 'OX33...</td>\n      <td>2021-06-16</td>\n      <td>driving</td>\n    </tr>\n  </tbody>\n</table>\n<p>8659 rows × 8 columns</p>\n</div>"
     },
     "metadata": {},
     "execution_count": 2
    }
   ],
   "source": [
    "dataset"
   ]
  }
 ]
}